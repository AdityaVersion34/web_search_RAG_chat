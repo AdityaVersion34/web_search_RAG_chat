{
 "cells": [
  {
   "cell_type": "markdown",
   "id": "29de2ca2-7305-405c-9f2b-16520a0aa166",
   "metadata": {},
   "source": [
    "## Web-search RAG chatbot\n",
    "\n",
    "like perplexity\n",
    "\n",
    "v0.1 - no conversation, just question and answer based on web search\n",
    "\n",
    "process:\n",
    "1) receive prompt\n",
    "2) pass to LLM to create appropriate search terms for gathering data - start with just one\n",
    "3) perform web search with that, get top results and scrape and store as doc - start with just one result\n",
    "4) chunk data\n",
    "5) embed chunks\n",
    "6) store in vectordb\n",
    "7) link retriever to vecdb\n",
    "8) pass query with retriever to llm w/ langchain"
   ]
  },
  {
   "cell_type": "markdown",
   "id": "83a0a3ae-f038-4511-ac9f-41399b979f03",
   "metadata": {},
   "source": [
    "## 1) Receive prompt"
   ]
  },
  {
   "cell_type": "code",
   "execution_count": 1,
   "id": "145cb1de-e0b1-48ed-8ff0-5a4c3b83ee1e",
   "metadata": {},
   "outputs": [],
   "source": [
    "user_prompt = \"What are some new lego sets?\""
   ]
  },
  {
   "cell_type": "markdown",
   "id": "2b5c3fc6-994b-4ad8-a895-6b921331097e",
   "metadata": {},
   "source": [
    "## 2) Pass to LLM to create search term"
   ]
  },
  {
   "cell_type": "code",
   "execution_count": 2,
   "id": "3d741a02-63b4-4fb0-80de-f94e1de88976",
   "metadata": {},
   "outputs": [],
   "source": [
    "import os\n",
    "from dotenv import load_dotenv, find_dotenv\n",
    "_ = load_dotenv(find_dotenv())\n",
    "openai_api_key = os.environ[\"OPENAI_API_KEY\"]"
   ]
  },
  {
   "cell_type": "code",
   "execution_count": null,
   "id": "ad1f031c-8cea-4ba2-ae50-5daf4a2d51a7",
   "metadata": {},
   "outputs": [],
   "source": [
    "from langchain_openai import ChatOpenAI\n",
    "\n",
    "llm = ChatOpenAI(model=\"gpt-4o-mini\")"
   ]
  },
  {
   "cell_type": "code",
   "execution_count": null,
   "id": "9ebe530f-dfb4-4fa9-9094-1912871da9ac",
   "metadata": {
    "editable": true,
    "slideshow": {
     "slide_type": ""
    },
    "tags": []
   },
   "outputs": [],
   "source": [
    "from langchain_core.prompts import ChatPromptTemplate\n",
    "from langchain_core.output_parsers import StrOutputParser\n",
    "from langchain_core.runnables import RunnablePassthrough\n",
    "\n",
    "system_prompt = (\n",
    "    \"You are an assistant for gathering data based on this prompt.\"\n",
    "    \"Use the following prompt to generate one web search query that would gather data which would be helpful in answering the prompt.\"\n",
    "    \"Your search query should be effective at finding the most relevant and useful data pertaining to the prompt.\"\n",
    "    \"Keep in mind that the current date is July 2025\"\n",
    "    \"\\n\\n\"\n",
    "    \"{input}\"\n",
    ")\n",
    "\n",
    "search_query_prompt = ChatPromptTemplate.from_messages(\n",
    "    [\n",
    "        (\"system\", system_prompt),\n",
    "        (\"human\", \"{input}\"),\n",
    "    ]\n",
    ")"
   ]
  },
  {
   "cell_type": "code",
   "execution_count": null,
   "id": "f6384447-281f-41bf-8ddd-322ce5a96335",
   "metadata": {},
   "outputs": [],
   "source": [
    "search_query_gen_chain = {\"input\": RunnablePassthrough()} | search_query_prompt | llm | StrOutputParser()"
   ]
  },
  {
   "cell_type": "code",
   "execution_count": null,
   "id": "33cb2e18-0264-4823-984f-0238103ee661",
   "metadata": {},
   "outputs": [],
   "source": [
    "import ast\n",
    "\n",
    "search_query = search_query_gen_chain.invoke(user_prompt)\n",
    "search_query = ast.literal_eval(search_query)"
   ]
  },
  {
   "cell_type": "code",
   "execution_count": null,
   "id": "0e1d968d-98c4-4182-be1a-d6f2a49ec1b8",
   "metadata": {},
   "outputs": [],
   "source": [
    "search_query = search_query.replace(' ', '+')"
   ]
  },
  {
   "cell_type": "code",
   "execution_count": null,
   "id": "276383d8-edaf-4677-bbce-c1681b9b2c02",
   "metadata": {},
   "outputs": [],
   "source": [
    "search_query"
   ]
  },
  {
   "cell_type": "code",
   "execution_count": null,
   "id": "25121243-d8aa-4f27-b654-2e24b48dec85",
   "metadata": {},
   "outputs": [],
   "source": [
    "search_url = f\"https://google.com/search?q={search_query}\""
   ]
  },
  {
   "cell_type": "code",
   "execution_count": null,
   "id": "63a61b53-07e0-4743-89f6-a071847e170f",
   "metadata": {},
   "outputs": [],
   "source": [
    "search_url"
   ]
  },
  {
   "cell_type": "markdown",
   "id": "6eedbcfa-e9df-477e-ac89-f1fe8de795a2",
   "metadata": {},
   "source": [
    "## Web search for relevant links"
   ]
  },
  {
   "cell_type": "code",
   "execution_count": null,
   "id": "ec406f15-36f3-4fb0-a883-890775dea115",
   "metadata": {},
   "outputs": [],
   "source": [
    "import requests\n",
    "from bs4 import BeautifulSoup\n",
    "from urllib.parse import urlparse, unquote\n",
    "import time\n",
    "\n",
    "cse_key = os.environ[\"GOOGLE_CSE_KEY\"]\n",
    "cse_id = os.environ[\"GOOGLE_CSE_ID\"]\n",
    "\n",
    "# test single search block\n",
    "\n",
    "search_response = requests.get(url=search_url)\n",
    "\n",
    "# sleep for a while to not overload requests\n",
    "time.sleep(2)\n",
    "print(\"searching...\")\n",
    "\n",
    "soup = BeautifulSoup(search_response.text, \"html.parser\")\n",
    "found_links = soup.find_all(\"a\")\n",
    "\n",
    "print(found_links)"
   ]
  },
  {
   "cell_type": "code",
   "execution_count": null,
   "id": "4228dc8a-5624-42bc-b6e0-8a31685c62b2",
   "metadata": {},
   "outputs": [],
   "source": [
    "# with CSE\n",
    "\n",
    "cse_query = search_query.replace('+', ' ')\n",
    "\n",
    "cse_url = 'https://www.googleapis.com/customsearch/v1'\n",
    "cse_params = {\n",
    "    'q': cse_query,\n",
    "    'key': cse_key,\n",
    "    'cx' : cse_id\n",
    "}\n",
    "\n",
    "response = requests.get(cse_url, cse_params)"
   ]
  },
  {
   "cell_type": "code",
   "execution_count": null,
   "id": "cb16198e-59e8-4552-861e-ab15769947e0",
   "metadata": {},
   "outputs": [],
   "source": [
    "cse_results = response.json()\n",
    "\n",
    "target_url_set = set()\n",
    "\n",
    "if 'items' in cse_results:\n",
    "    for result in cse_results['items']:\n",
    "        if len(target_url_set) >= 5:\n",
    "            break\n",
    "        else:\n",
    "            target_url_set.add(result['link'])\n",
    "\n",
    "print(target_url_set)"
   ]
  },
  {
   "cell_type": "markdown",
   "id": "64bce492-7d1d-464d-bb17-820d290020d5",
   "metadata": {},
   "source": [
    "## Get page as text data"
   ]
  },
  {
   "cell_type": "code",
   "execution_count": null,
   "id": "18c1031f-a20c-4bf4-b6dd-fcbf89204468",
   "metadata": {},
   "outputs": [],
   "source": [
    "from langchain.document_loaders import AsyncHtmlLoader\n",
    "from langchain.document_transformers import Html2TextTransformer\n",
    "\n",
    "# load html content from site\n",
    "site_loader = AsyncHtmlLoader(list(target_url_set))\n",
    "scraped_docs = site_loader.load()\n",
    "\n",
    "# convert to text data\n",
    "text_trns = Html2TextTransformer()\n",
    "text_docs = text_trns.transform_documents(scraped_docs)\n",
    "\n",
    "cleaned_text = text_docs[0].page_content\n",
    "print(cleaned_text)"
   ]
  },
  {
   "cell_type": "markdown",
   "id": "1587a70e-f2b1-4722-b862-129f89608adc",
   "metadata": {},
   "source": [
    "## Chunking data"
   ]
  },
  {
   "cell_type": "code",
   "execution_count": null,
   "id": "9bf865b1-dadf-43d4-b46a-26d5d4137b8c",
   "metadata": {},
   "outputs": [],
   "source": [
    "from langchain_text_splitters import RecursiveCharacterTextSplitter\n",
    "\n",
    "text_splitter = RecursiveCharacterTextSplitter(chunk_size=1000, chunk_overlap=200)\n",
    "splits = text_splitter.split_documents(text_docs)\n",
    "print(len(splits))"
   ]
  },
  {
   "cell_type": "markdown",
   "id": "625c41f5-ea37-4f7d-84a4-66e82d70992b",
   "metadata": {},
   "source": [
    "## Embedding chunks and creating retriever"
   ]
  },
  {
   "cell_type": "code",
   "execution_count": null,
   "id": "de709e50-b181-424e-96e2-8ac2641da4b0",
   "metadata": {},
   "outputs": [],
   "source": [
    "from langchain_chroma import Chroma\n",
    "from langchain_openai import OpenAIEmbeddings\n",
    "\n",
    "vectorstore = Chroma.from_documents(documents=splits, embedding=OpenAIEmbeddings())\n",
    "\n",
    "retriever = vectorstore.as_retriever()"
   ]
  },
  {
   "cell_type": "markdown",
   "id": "689ad731-c49d-4830-805f-21fa084fbbe3",
   "metadata": {},
   "source": [
    "## Web search tool\n",
    "- searches query, gets top results, parses, chunks and embeds"
   ]
  },
  {
   "cell_type": "code",
   "execution_count": null,
   "id": "397f0227-1f5f-4c32-9b76-0def46c8820c",
   "metadata": {},
   "outputs": [],
   "source": [
    "from langchain.agents import Tool"
   ]
  },
  {
   "cell_type": "code",
   "execution_count": null,
   "id": "aee0e6fd-ff91-4aba-b037-91f9c0f55e15",
   "metadata": {},
   "outputs": [],
   "source": [
    "def web_search_and_ingest(query):\n",
    "    # first search query via CSE\n",
    "\n",
    "    #query = search_query.replace('+', ' ')\n",
    "\n",
    "    cse_url = 'https://www.googleapis.com/customsearch/v1'\n",
    "    cse_params = {\n",
    "        'q': query,\n",
    "        'key': cse_key,\n",
    "        'cx': cse_id\n",
    "    }\n",
    "    \n",
    "    response = requests.get(cse_url, cse_params)\n",
    "\n",
    "    # obtain first k urls\n",
    "\n",
    "    cse_results = response.json()\n",
    "\n",
    "    target_url_set = set()\n",
    "    \n",
    "    if 'items' in cse_results:\n",
    "        for result in cse_results['items']:\n",
    "            if len(target_url_set) >= 5:    # number of search results (need to add macro)\n",
    "                break\n",
    "            else:\n",
    "                target_url_set.add(result['link'])\n",
    "    \n",
    "    # scrape links\n",
    "\n",
    "    site_loader = AsyncHtmlLoader(list(target_url_set))\n",
    "    scraped_docs = site_loader.load()\n",
    "    \n",
    "    text_trns = Html2TextTransformer()\n",
    "    text_docs = text_trns.transform_documents(scraped_docs)\n",
    "\n",
    "    # split and embed\n",
    "\n",
    "    splits = text_splitter.split_documents(text_docs)\n",
    "    vectorstore.add_documents(documents=splits)"
   ]
  },
  {
   "cell_type": "code",
   "execution_count": null,
   "id": "d399d884-7607-4d7e-b9a7-741fdc66f537",
   "metadata": {},
   "outputs": [],
   "source": [
    "# creating tool for function\n",
    "\n",
    "web_search_tool = Tool(\n",
    "    name=\"WebSearch\",\n",
    "    func=web_search_and_ingest,\n",
    "    description=\"Use when current context is insufficient or up-to-date info is required.\"\n",
    ")"
   ]
  },
  {
   "cell_type": "markdown",
   "id": "8fe2f111-a352-419a-99d9-8ab693eef8bc",
   "metadata": {},
   "source": [
    "## Vector db retriever tool\n",
    "- searches vector db for query"
   ]
  },
  {
   "cell_type": "code",
   "execution_count": null,
   "id": "702ff6d3-e739-4766-afaa-abd44f50fc1d",
   "metadata": {},
   "outputs": [],
   "source": [
    "def vector_search(query):\n",
    "    return retriever.invoke(query)"
   ]
  },
  {
   "cell_type": "code",
   "execution_count": null,
   "id": "abee192f-e038-4959-b6fe-15ccd7dac32b",
   "metadata": {},
   "outputs": [],
   "source": [
    "# creating tool for function\n",
    "\n",
    "vector_search_tool = Tool(\n",
    "    name=\"VectorSearch\",\n",
    "    func=vector_search,\n",
    "    description=\"Use when you believe the answer may be in the current database.\"\n",
    ")"
   ]
  },
  {
   "cell_type": "markdown",
   "id": "36ec3892-def9-4415-b71a-5aa585077c5d",
   "metadata": {},
   "source": [
    "## Overall tool stuff"
   ]
  },
  {
   "cell_type": "code",
   "execution_count": null,
   "id": "cef2a8a5-46a1-4c09-9f60-d57d1cd626f4",
   "metadata": {},
   "outputs": [],
   "source": [
    "tools = [web_search_tool, vector_search_tool]"
   ]
  },
  {
   "cell_type": "markdown",
   "id": "52eb8f4e-d992-4dbf-a86e-d2f532ff112f",
   "metadata": {},
   "source": [
    "## Comparing non-rag answer and rag answer"
   ]
  },
  {
   "cell_type": "code",
   "execution_count": null,
   "id": "2efaf4e0-adbb-49f3-81b7-aa2485468a26",
   "metadata": {},
   "outputs": [],
   "source": [
    "non_rag_answer = llm.invoke(user_prompt)"
   ]
  },
  {
   "cell_type": "code",
   "execution_count": null,
   "id": "c546a57f-05f6-4b2f-8884-e74a206ec292",
   "metadata": {},
   "outputs": [],
   "source": [
    "print(non_rag_answer.content)"
   ]
  },
  {
   "cell_type": "code",
   "execution_count": null,
   "id": "27980650-39ff-47bd-b462-9c54827c5a66",
   "metadata": {},
   "outputs": [],
   "source": [
    "from langchain_core.prompts import MessagesPlaceholder\n",
    "\n",
    "rag_system_prompt = (\n",
    "    \"You are an assistant for question-answering tasks. \"\n",
    "    \"Use the following pieces of retrieved context to answer \"\n",
    "    \"the question. If you don't know the answer, say that you \"\n",
    "    \"don't know. Make your answers fairly detailed. Remember that the current date is July 2025\"\n",
    "    \"\\n\\n\"\n",
    "    \"{context}\"\n",
    ")\n",
    "\n",
    "rag_prompt = ChatPromptTemplate.from_messages(\n",
    "    [\n",
    "        (\"system\", rag_system_prompt),\n",
    "        MessagesPlaceholder(variable_name = \"memory\"),    # injecting convo memory\n",
    "        (\"human\", \"{input}\"),\n",
    "    ]\n",
    ")"
   ]
  },
  {
   "cell_type": "code",
   "execution_count": null,
   "id": "9c1c0f15-972d-4169-83fe-57dde4c7a518",
   "metadata": {},
   "outputs": [],
   "source": [
    "from langchain.chains import create_retrieval_chain\n",
    "from langchain.chains.combine_documents import create_stuff_documents_chain\n",
    "\n",
    "question_answer_chain = create_stuff_documents_chain(llm, rag_prompt)\n",
    "rag_chain = create_retrieval_chain(retriever, question_answer_chain)"
   ]
  },
  {
   "cell_type": "markdown",
   "id": "3469a499-ab98-4ed4-b1fe-47c7b60d2c8d",
   "metadata": {},
   "source": [
    "## Adding temp convo memory"
   ]
  },
  {
   "cell_type": "code",
   "execution_count": null,
   "id": "3b01fd17-26b3-4c9a-81a0-ccb3dc700f0a",
   "metadata": {},
   "outputs": [],
   "source": [
    "from langchain_core.prompts import HumanMessagePromptTemplate\n",
    "from langchain.memory import ConversationBufferMemory\n",
    "from langchain.memory import FileChatMessageHistory\n",
    "from langchain_core.runnables.history import RunnableWithMessageHistory"
   ]
  },
  {
   "cell_type": "code",
   "execution_count": null,
   "id": "987b01b6-e20c-45a7-aaed-935f61d51e95",
   "metadata": {},
   "outputs": [],
   "source": [
    "# rag_memory = ConversationBufferMemory(\n",
    "#     chat_memory = FileChatMessageHistory(\"messages.json\"),\n",
    "#     memory_key = \"history\",\n",
    "#     return_messages = True\n",
    "# )\n",
    "\n",
    "rag_memory = FileChatMessageHistory(\"messages.json\")"
   ]
  },
  {
   "cell_type": "code",
   "execution_count": null,
   "id": "7a7625c7-3bd2-4770-819b-46b436a5532c",
   "metadata": {},
   "outputs": [],
   "source": [
    "def get_rag_mem(_):\n",
    "    return rag_memory"
   ]
  },
  {
   "cell_type": "code",
   "execution_count": null,
   "id": "318a1e45-a73d-4364-888d-07f75c6f14a6",
   "metadata": {},
   "outputs": [],
   "source": [
    "rag_mem_chain = RunnableWithMessageHistory(\n",
    "    rag_chain,\n",
    "    get_rag_mem,\n",
    "    input_messages_key=\"input\",\n",
    "    history_messages_key=\"memory\",\n",
    "    output_messages_key=\"answer\"\n",
    ")"
   ]
  },
  {
   "cell_type": "code",
   "execution_count": null,
   "id": "b1cc7080-073f-4a06-9186-7519736c54dc",
   "metadata": {},
   "outputs": [],
   "source": [
    "rag_answer = rag_mem_chain.invoke({\"input\": user_prompt}, config={\"configurable\": {\"session_id\": \"irrelevant\"}})"
   ]
  },
  {
   "cell_type": "code",
   "execution_count": null,
   "id": "4a457605-327e-4e8b-a3b9-def190771c86",
   "metadata": {},
   "outputs": [],
   "source": [
    "# print(rag_answer[\"context\"])"
   ]
  },
  {
   "cell_type": "code",
   "execution_count": null,
   "id": "2110049a-e94d-4d45-94c4-ea5b2736f33c",
   "metadata": {},
   "outputs": [],
   "source": [
    "src_count = len(rag_answer[\"context\"])\n",
    "print(src_count)"
   ]
  },
  {
   "cell_type": "code",
   "execution_count": null,
   "id": "8fa2d70c-08f0-4e55-bbac-fb51afc91f17",
   "metadata": {},
   "outputs": [],
   "source": [
    "sources_set = set()\n",
    "\n",
    "for i in range(src_count):\n",
    "    sources_set.add(rag_answer[\"context\"][i].metadata[\"source\"])\n",
    "\n",
    "print(sources_set)"
   ]
  },
  {
   "cell_type": "markdown",
   "id": "93039db2-3273-45e8-aff5-9452bd619c31",
   "metadata": {},
   "source": [
    "Rag Answer:"
   ]
  },
  {
   "cell_type": "code",
   "execution_count": null,
   "id": "923f44b3-814c-4d4f-8272-29e438fd3395",
   "metadata": {},
   "outputs": [],
   "source": [
    "print(rag_answer[\"answer\"])"
   ]
  },
  {
   "cell_type": "code",
   "execution_count": null,
   "id": "219fc580-85f3-4507-ac3a-a8eb35d318a8",
   "metadata": {},
   "outputs": [],
   "source": [
    "print(\"Citations:\")\n",
    "for src in sources_set:\n",
    "    print(src)"
   ]
  },
  {
   "cell_type": "code",
   "execution_count": null,
   "id": "c5d7211b-eb21-413f-bcc9-a5bbdaa89ae7",
   "metadata": {},
   "outputs": [],
   "source": [
    "# no memory?"
   ]
  },
  {
   "cell_type": "code",
   "execution_count": null,
   "id": "6305943b-af7c-45b6-ae71-116a58f3dde3",
   "metadata": {},
   "outputs": [],
   "source": [
    "rag_answer = rag_mem_chain.invoke({\"input\": \"Could you elaborate?\"}, config={\"configurable\": {\"session_id\": \"irrelevant\"}})"
   ]
  },
  {
   "cell_type": "code",
   "execution_count": null,
   "id": "9a3230f9-1c47-42a1-862a-60e8849119ab",
   "metadata": {},
   "outputs": [],
   "source": [
    "print(rag_answer[\"answer\"])"
   ]
  },
  {
   "cell_type": "code",
   "execution_count": null,
   "id": "5210a580-8b1a-4768-b828-526d4e164e37",
   "metadata": {},
   "outputs": [],
   "source": [
    "src_count = len(rag_answer[\"context\"])\n",
    "\n",
    "sources_set = set()\n",
    "\n",
    "for i in range(src_count):\n",
    "    sources_set.add(rag_answer[\"context\"][i].metadata[\"source\"])\n",
    "\n",
    "print(\"Citations:\")\n",
    "for src in sources_set:\n",
    "    print(src)"
   ]
  },
  {
   "cell_type": "code",
   "execution_count": null,
   "id": "449164aa-adbb-4318-b4a1-2e13fb5e94c8",
   "metadata": {},
   "outputs": [],
   "source": [
    "rag_answer = rag_mem_chain.invoke({\"input\": \"What are some new video games that were released\"}, config={\"configurable\": {\"session_id\": \"irrelevant\"}})"
   ]
  },
  {
   "cell_type": "code",
   "execution_count": null,
   "id": "1aa60d4d-6a25-497a-8f81-8fa5269956b0",
   "metadata": {},
   "outputs": [],
   "source": [
    "print(rag_answer[\"answer\"])"
   ]
  },
  {
   "cell_type": "code",
   "execution_count": null,
   "id": "2b12252a-959d-4626-83fa-7ba114bdf383",
   "metadata": {},
   "outputs": [],
   "source": [
    "src_count = len(rag_answer[\"context\"])\n",
    "\n",
    "sources_set = set()\n",
    "\n",
    "for i in range(src_count):\n",
    "    sources_set.add(rag_answer[\"context\"][i].metadata[\"source\"])\n",
    "\n",
    "print(\"Citations:\")\n",
    "for src in sources_set:\n",
    "    print(src)"
   ]
  },
  {
   "cell_type": "markdown",
   "id": "457512fb-8872-411f-8675-9e0409e71918",
   "metadata": {},
   "source": [
    "## Testing conversational capabilities with agentic search and retrieval"
   ]
  },
  {
   "cell_type": "code",
   "execution_count": null,
   "id": "d4109317-2b38-4067-a6ea-30c417379d14",
   "metadata": {},
   "outputs": [],
   "source": [
    "from langchain.schema import SystemMessage\n",
    "from langchain.agents import initialize_agent\n",
    "\n",
    "system_prompt = '''\n",
    "YOU MUST PAY ATTENTION TO THESE INSTRUCTIONS AND FOLLOW THEM!\n",
    "Begin every answer with the phrase 'SYSTEM DIRECTIVE CONFIRMED'.\n",
    "You are an intelligent assistant.\n",
    "Keep in mind that it is July 2025.\n",
    "- First, always use VectorSearchTool to retrieve context for the user's question.\n",
    "- Judge whether the context is sufficient to answer: If the information is incomplete, outdated, or missing, call the WebSearch tool to search, ingest, and update the database, then try again.\n",
    "- Only use WebSearch tool if the current vector database does NOT suffice.\n",
    "Be cost-efficient: Do NOT call WebSearch for trivial/definition/basic/unchanged topics.\n",
    "'''\n",
    "\n",
    "system_message = SystemMessage(content=system_prompt)"
   ]
  },
  {
   "cell_type": "code",
   "execution_count": null,
   "id": "0dfeec1d-639e-417c-bfe9-323963291ce9",
   "metadata": {},
   "outputs": [],
   "source": [
    "os.remove(\"messages_agentic.json\")\n",
    "\n",
    "wrapped_mem = ConversationBufferMemory(\n",
    "    chat_memory = FileChatMessageHistory(\"messages_agentic.json\"),\n",
    "    memory_key = \"history\",\n",
    "    return_messages = True\n",
    ")"
   ]
  },
  {
   "cell_type": "code",
   "execution_count": null,
   "id": "29291b21-0f18-42e0-ad53-8352c13d9538",
   "metadata": {},
   "outputs": [],
   "source": [
    "from langchain.agents import create_structured_chat_agent, AgentExecutor\n",
    "from langchain_core.prompts import ChatPromptTemplate, MessagesPlaceholder"
   ]
  },
  {
   "cell_type": "code",
   "execution_count": null,
   "id": "f8d1e3c0-1dae-441b-83c6-bde03d7bda7c",
   "metadata": {},
   "outputs": [],
   "source": [
    "structured_chat_prompt = ChatPromptTemplate.from_messages([\n",
    "    (\"system\", \"\"\"SYSTEM DIRECTIVE CONFIRMED.\n",
    "YOU MUST PAY ATTENTION TO THESE INSTRUCTIONS AND FOLLOW THEM!\n",
    "Begin every answer with the phrase 'SYSTEM DIRECTIVE CONFIRMED'.\n",
    "You are an intelligent assistant.\n",
    "It is July 2025.\n",
    "- Always use VectorSearch tool to retrieve context for the user's question.\n",
    "- Judge context sufficiency; if not enough, use WebSearch. Be cost-efficient.\n",
    "\"\"\"),\n",
    "    MessagesPlaceholder(variable_name=\"history\"),   # conversation memory\n",
    "    (\"human\", \"{input}\"),\n",
    "    MessagesPlaceholder(variable_name=\"agent_scratchpad\")\n",
    "])"
   ]
  },
  {
   "cell_type": "code",
   "execution_count": null,
   "id": "f761837f-5580-4272-b66f-c77cead71995",
   "metadata": {},
   "outputs": [],
   "source": []
  },
  {
   "cell_type": "code",
   "execution_count": null,
   "id": "bbe1f3dd-d027-4263-8f5f-abad15810483",
   "metadata": {},
   "outputs": [],
   "source": []
  },
  {
   "cell_type": "code",
   "execution_count": null,
   "id": "47af681d-5b96-497a-9f19-a05a6a0abbd0",
   "metadata": {},
   "outputs": [],
   "source": [
    "agent = initialize_agent(\n",
    "    tools,\n",
    "    llm,\n",
    "    agent = \"openai-functions\",\n",
    "    memory=wrapped_mem,\n",
    "    system_message=system_message,\n",
    "    verbose=True\n",
    ")"
   ]
  },
  {
   "cell_type": "code",
   "execution_count": null,
   "id": "ed142d71-0d16-4284-aa70-fd96cc2b23e8",
   "metadata": {},
   "outputs": [],
   "source": [
    "agent.run(\"what are some new movies?\")"
   ]
  },
  {
   "cell_type": "code",
   "execution_count": null,
   "id": "faab2053-5d8f-44e3-b0a1-32ddaa03c543",
   "metadata": {},
   "outputs": [],
   "source": [
    "agent.run(\"what was the second movie you just listed?\")"
   ]
  },
  {
   "cell_type": "code",
   "execution_count": null,
   "id": "2c5b7994-844e-4fa2-8a48-e7eba0e04435",
   "metadata": {},
   "outputs": [],
   "source": []
  }
 ],
 "metadata": {
  "kernelspec": {
   "display_name": "Python 3 (ipykernel)",
   "language": "python",
   "name": "python3"
  },
  "language_info": {
   "codemirror_mode": {
    "name": "ipython",
    "version": 3
   },
   "file_extension": ".py",
   "mimetype": "text/x-python",
   "name": "python",
   "nbconvert_exporter": "python",
   "pygments_lexer": "ipython3",
   "version": "3.13.5"
  }
 },
 "nbformat": 4,
 "nbformat_minor": 5
}
