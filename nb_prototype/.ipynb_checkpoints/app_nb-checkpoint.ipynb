{
 "cells": [
  {
   "cell_type": "markdown",
   "id": "29de2ca2-7305-405c-9f2b-16520a0aa166",
   "metadata": {},
   "source": [
    "## Web-search RAG chatbot\n",
    "\n",
    "like perplexity\n",
    "\n",
    "v0.1 - no conversation, just question and answer based on web search\n",
    "\n",
    "process:\n",
    "1) receive prompt\n",
    "2) pass to LLM to create appropriate search terms for gathering data - start with just one\n",
    "3) perform web search with that, get top results and scrape and store as doc - start with just one result\n",
    "4) chunk data\n",
    "5) embed chunks\n",
    "6) store in vectordb\n",
    "7) link retriever to vecdb\n",
    "8) pass query with retriever to llm w/ langchain"
   ]
  },
  {
   "cell_type": "markdown",
   "id": "83a0a3ae-f038-4511-ac9f-41399b979f03",
   "metadata": {},
   "source": [
    "## 1) Receive prompt"
   ]
  },
  {
   "cell_type": "code",
   "execution_count": 99,
   "id": "145cb1de-e0b1-48ed-8ff0-5a4c3b83ee1e",
   "metadata": {},
   "outputs": [],
   "source": [
    "user_prompt = \"What are some newly released MMOs\""
   ]
  },
  {
   "cell_type": "markdown",
   "id": "2b5c3fc6-994b-4ad8-a895-6b921331097e",
   "metadata": {},
   "source": [
    "## 2) Pass to LLM to create search term"
   ]
  },
  {
   "cell_type": "code",
   "execution_count": 3,
   "id": "3d741a02-63b4-4fb0-80de-f94e1de88976",
   "metadata": {},
   "outputs": [],
   "source": [
    "import os\n",
    "from dotenv import load_dotenv, find_dotenv\n",
    "_ = load_dotenv(find_dotenv())\n",
    "openai_api_key = os.environ[\"OPENAI_API_KEY\"]"
   ]
  },
  {
   "cell_type": "code",
   "execution_count": 4,
   "id": "ad1f031c-8cea-4ba2-ae50-5daf4a2d51a7",
   "metadata": {},
   "outputs": [],
   "source": [
    "from langchain_openai import ChatOpenAI\n",
    "\n",
    "llm = ChatOpenAI(model=\"gpt-4o-mini\")"
   ]
  },
  {
   "cell_type": "code",
   "execution_count": 5,
   "id": "9ebe530f-dfb4-4fa9-9094-1912871da9ac",
   "metadata": {
    "editable": true,
    "slideshow": {
     "slide_type": ""
    },
    "tags": []
   },
   "outputs": [],
   "source": [
    "from langchain_core.prompts import ChatPromptTemplate\n",
    "from langchain_core.output_parsers import StrOutputParser\n",
    "from langchain_core.runnables import RunnablePassthrough\n",
    "\n",
    "system_prompt = (\n",
    "    \"You are an assistant for gathering data based on this prompt.\"\n",
    "    \"Use the following prompt to generate one web search query that would gather data which would be helpful in answering the prompt.\"\n",
    "    \"Your search query should be effective at finding the most relevant and useful data pertaining to the prompt.\"\n",
    "    \"Keep in mind that the current date is July 2025\"\n",
    "    \"\\n\\n\"\n",
    "    \"{input}\"\n",
    ")\n",
    "\n",
    "search_query_prompt = ChatPromptTemplate.from_messages(\n",
    "    [\n",
    "        (\"system\", system_prompt),\n",
    "        (\"human\", \"{input}\"),\n",
    "    ]\n",
    ")"
   ]
  },
  {
   "cell_type": "code",
   "execution_count": 6,
   "id": "f6384447-281f-41bf-8ddd-322ce5a96335",
   "metadata": {},
   "outputs": [],
   "source": [
    "search_query_gen_chain = {\"input\": RunnablePassthrough()} | search_query_prompt | llm | StrOutputParser()"
   ]
  },
  {
   "cell_type": "code",
   "execution_count": 100,
   "id": "33cb2e18-0264-4823-984f-0238103ee661",
   "metadata": {},
   "outputs": [],
   "source": [
    "import ast\n",
    "\n",
    "search_query = search_query_gen_chain.invoke(user_prompt)\n",
    "search_query = ast.literal_eval(search_query)"
   ]
  },
  {
   "cell_type": "code",
   "execution_count": 101,
   "id": "0e1d968d-98c4-4182-be1a-d6f2a49ec1b8",
   "metadata": {},
   "outputs": [],
   "source": [
    "search_query = search_query.replace(' ', '+')"
   ]
  },
  {
   "cell_type": "code",
   "execution_count": 102,
   "id": "276383d8-edaf-4677-bbce-c1681b9b2c02",
   "metadata": {},
   "outputs": [
    {
     "data": {
      "text/plain": [
       "'newly+released+MMOs+2025'"
      ]
     },
     "execution_count": 102,
     "metadata": {},
     "output_type": "execute_result"
    }
   ],
   "source": [
    "search_query"
   ]
  },
  {
   "cell_type": "code",
   "execution_count": 103,
   "id": "25121243-d8aa-4f27-b654-2e24b48dec85",
   "metadata": {},
   "outputs": [],
   "source": [
    "google_search_url = f\"https://www.google.com/search?q={search_query}\""
   ]
  },
  {
   "cell_type": "code",
   "execution_count": 104,
   "id": "63a61b53-07e0-4743-89f6-a071847e170f",
   "metadata": {},
   "outputs": [
    {
     "data": {
      "text/plain": [
       "'https://www.google.com/search?q=newly+released+MMOs+2025'"
      ]
     },
     "execution_count": 104,
     "metadata": {},
     "output_type": "execute_result"
    }
   ],
   "source": [
    "google_search_url"
   ]
  },
  {
   "cell_type": "markdown",
   "id": "7cee1c22-1a5f-428f-9b45-500df25a37e5",
   "metadata": {},
   "source": [
    "## TODO\n",
    "make sure that this reruns until we get good results"
   ]
  },
  {
   "cell_type": "code",
   "execution_count": null,
   "id": "1c6b7416-b554-4dbc-9bda-90ac9319af2f",
   "metadata": {},
   "outputs": [],
   "source": [
    "import requests\n",
    "from bs4 import BeautifulSoup\n",
    "from urllib.parse import urlparse, unquote\n",
    "import time\n",
    "\n",
    "target_url = ''\n",
    "\n",
    "while target_url == '':\n",
    "\n",
    "        search_response = requests.get(url=google_search_url)\n",
    "        \n",
    "        soup = BeautifulSoup(search_response.text, \"html.parser\")\n",
    "        found_links = soup.find_all(\"a\")\n",
    "        \n",
    "        for i in found_links:\n",
    "            href = i['href']\n",
    "            if href.startswith('/url?q='):\n",
    "                # exclude irrelevant findings like maps etc.\n",
    "                # toy version for now, replace with more robust process like blacklist text file later\n",
    "            \n",
    "                target_url = href.split('/url?q=')[1].split('&')[0]\n",
    "                domain = urlparse(unquote(target_url)).netloc.lower()\n",
    "                if domain.endswith('google.com') or domain.endswith('youtube.com'):\n",
    "                    continue  # not a real organic result\n",
    "                \n",
    "                break\n",
    "\n",
    "        # sleep for a while to not overload requests\n",
    "        time.sleep(2)\n",
    "\n",
    "print(target_url)"
   ]
  },
  {
   "cell_type": "markdown",
   "id": "64bce492-7d1d-464d-bb17-820d290020d5",
   "metadata": {},
   "source": [
    "## Get page as text data"
   ]
  },
  {
   "cell_type": "code",
   "execution_count": 42,
   "id": "18c1031f-a20c-4bf4-b6dd-fcbf89204468",
   "metadata": {},
   "outputs": [
    {
     "name": "stderr",
     "output_type": "stream",
     "text": [
      "Fetching pages: 100%|######################################################| 1/1 [00:00<00:00,  8.08it/s]\n"
     ]
    },
    {
     "name": "stdout",
     "output_type": "stream",
     "text": [
      "IGN Logo\n",
      "\n",
      "India\n",
      "\n",
      "  * Home\n",
      "  * IGNdia\n",
      "  * News\n",
      "  * Reviews\n",
      "  * Interviews\n",
      "  * Features\n",
      "  * Lists\n",
      "  * Opinions & Columns\n",
      "  * Guides\n",
      "  * Wiki\n",
      "  * Videos\n",
      "  * Gaming\n",
      "  * Tech\n",
      "  * Anime and Manga\n",
      "  * Science\n",
      "  * Comics\n",
      "  * Follow IGN India\n",
      "  * More\n",
      "\n",
      "  * Search\n",
      "\n",
      "Home\n",
      "\n",
      "### Reviews\n",
      "\n",
      "  * All Reviews\n",
      "  * Game Reviews\n",
      "  * Movie Reviews\n",
      "  * TV Reviews\n",
      "  * Comic Reviews\n",
      "  * Tech Reviews\n",
      "\n",
      "Home\n",
      "\n",
      "### Gaming\n",
      "\n",
      "  * PC\n",
      "  * PlayStation\n",
      "  * Xbox\n",
      "  * Mobile\n",
      "  * Esports\n",
      "  * Nintendo Switch\n",
      "\n",
      "Home\n",
      "\n",
      "### Anime and Manga\n",
      "\n",
      "  * All Anime Coverage\n",
      "  * Cosplay\n",
      "  * IGN Otaku Update\n",
      "\n",
      "Home\n",
      "\n",
      "### Follow IGN India\n",
      "\n",
      "  * Instagram\n",
      "  * Facebook\n",
      "  * Twitter/X\n",
      "  * YouTube\n",
      "\n",
      "Home\n",
      "\n",
      "### More\n",
      "\n",
      "  * About IGN India\n",
      "  * Contact the Editorial Staff\n",
      "  * Advertise\n",
      "  * Press\n",
      "  * User Agreement\n",
      "  * Privacy Policy\n",
      "  * Cookie Policy\n",
      "  * RSS\n",
      "\n",
      "  * IGN India is operated by Fork Media Group Pvt. Ltd. under license from IGN Entertainment and its affiliates.\n",
      "\n",
      "Change Region United States United Kingdom Australia Africa Adria\n",
      "Serbian/Croatian Adria Slovenian Benelux / Dutch Brazil China / 中国 Czechia /\n",
      "Slovakia France Germany Greece / Ελλάδα Hungary India Israel Italy / Italia\n",
      "Japan / 日本 Korea / 한국 Latin America Middle East - English Middle East -\n",
      "الأوسطالشرق Nordic Poland Portugal Southeast Asia Spain / España Turkey /\n",
      "Türkiye world.ign.com\n",
      "\n",
      "Register / Login\n",
      "\n",
      "Register / Login\n",
      "\n",
      "Login Register\n",
      "\n",
      "IGN Logo\n",
      "\n",
      "Obi-Wan Kenobi\n",
      "\n",
      "# Upcoming New Star Wars Movies and TV Shows: 2025 Release Dates and Beyond\n",
      "\n",
      "### Here's what's headed your way at hyperspace speed.\n",
      "\n",
      "By Scott Collura, Matt Fowler, Jesse Schedeen\n",
      "\n",
      "Updated: Nov. 8, 2024, 4:02 a.m.\n",
      "\n",
      "Related reads:We Ranked the Star Wars Disney+ Live-Action TV Shows\n",
      "\n",
      "There are a bunch of big Star Wars projects in the works, like the Jon\n",
      "Favreau-directed The Mandalorian & Grogu movie, the confirmation of Ahsoka:\n",
      "Season 2, and a new Star Wars movie starring Ryan Gosling and directed by\n",
      "Deadpool & Wolverine's Shawn Levy. It's clear that there are still plenty of\n",
      "stories to tell in a galaxy far, far away.\n",
      "\n",
      "More like thisEwan McGregor Main Stage Panel | LA Comic Con 2024\n",
      "\n",
      "From scoundrels to Jedi masters to bounty hunters, we've cooked up a list\n",
      "featuring all the upcoming Star Wars TV shows and movies. While some are\n",
      "locked and others are just industry reports that haven't been confirmed by\n",
      "Disney, one thing's for sure - there are passionate plans in the works to give\n",
      "us _a lot more_ of Star Wars, whether it's a story centered on beloved\n",
      "characters or an entirely new cosmic adventure.\n",
      "\n",
      "Click right through the scruffy-looking slideshow below to see what's coming,\n",
      "and a couple of \"maybes\" too...\n",
      "\n",
      "## **What Are the Next Star Wars Movies and TV Shows Coming Out? 2025 Release\n",
      "Dates**\n",
      "\n",
      "For those keeping track, here's the full lineup of upcoming Star Wars movies\n",
      "and TV shows:\n",
      "\n",
      "  * **Star Wars: Visions Season 3 (October 29, 2025)**\n",
      "  * **Jon Favreau's The Mandalorian & Grogu Movie (May 22, 2026)**\n",
      "  * **Maul: Shadow Lord Series (2026)**\n",
      "  * **Star Wars: Starfighter (May 28, 2027)**\n",
      "  * **Star Wars: Ahsoka Season 2 (In Development)**\n",
      "  * **Taika Waititi's Star Wars Movie (In Development)**\n",
      "  * **James Mangold's Dawn of the Jedi Movie (In Development)**\n",
      "  * **Dave Filoni's Mando-Verse New Republic Movie (In Development)**\n",
      "  * **Sharmeen Obaid-Chinoy's New Jedi Order Movie (In Development)**\n",
      "  * **Simon Kinberg's Star Wars Trilogy (In Development)**\n",
      "  * **Carlton & Nick Cuse's Star Wars Series (In Development)**\n",
      "  * **Star Wars: Rogue Squadron Movie (Status Unknown)**\n",
      "  * **The Mandalorian: Season 4 / The Book of Boba Fett: Season 2 (Status Unknown)**\n",
      "  * **Star Wars: Lando Movie (Status Unknown)**\n",
      "  * **Star Wars: Rangers of the New Republic TV Series (Presumed Canceled)**\n",
      "  * **Untitled J.D. Dillard/Matt Owens Movie (Presumed Canceled)**\n",
      "  * **Rian Johnson's Star Wars Trilogy (Presumed Canceled)**\n",
      "  * **Kevin Feige's Star Wars Movie (Canceled)**\n",
      "  * **David Benioff & DB Weiss' Star Wars Movies (Canceled)**\n",
      "\n",
      "* * *\n",
      "\n",
      "Here are the Star Wars projects that are closest to becoming a reality (or at\n",
      "least appear to be) at the moment:\n",
      "\n",
      "### **Star Wars: Visions Season 3 (October 29, 2025)**\n",
      "\n",
      "The animated series Star Wars: Visions will be back for Season 3 in 2025 with\n",
      "nine shorts from a a variety of Japanese anime studios, including Studio\n",
      "Trigger, WIT Studio, David Production, Kamikaze Douga, ANIMA, Kinema citrus\n",
      "Co., Polygon Pictures, Production I.G, and Project Studio Q. At Star Wars\n",
      "Celebration 2025, the release date was revealed to be October 29.\n",
      "\n",
      "### **The Mandalorian & Grogu Movie (May 22, 2026)**\n",
      "\n",
      "Lucasfilm turned heads with the announcement of a Mandalorian spinoff movie\n",
      "separate from Filoni's Mando-Verse New Republic crossover film. Dubbed The\n",
      "Mandalorian & Grogu, this film will be helmed by The Mandalorian co-creator\n",
      "Jon Favreau. It's assumed the movie is taking the place of The Mandalorian:\n",
      "Season 4.\n",
      "\n",
      "Filming wrapped at the end of 2024, meaning this will wind up being the first\n",
      "Star Wars project to hit the big screen since 2019's The Rise of Skywalker.\n",
      "The Mandalorian & Grogu has a May 22, 2026 release date.\n",
      "\n",
      "## Maul: Shadow Lord Series (2026)\n",
      "\n",
      "The Star Wars franchise will remain in the post-Clone Wars, pre-A New Hope era\n",
      "for its next animated series, which focuses on the former Darth Maul as he\n",
      "seeks to rebuild his criminal empire in the age of the Empire. Lucasfilm\n",
      "teases the series will showcase Maul \"plotting to rebuild his criminal\n",
      "syndicate on a planet untouched by the Empire.\" Sam Witwer will reprise his\n",
      "role as Maul. Look for it to debut on Disney+ in 2026.\n",
      "\n",
      "### **Star Wars: Starfighter (May 28, 2027)**\n",
      "\n",
      "The next Star Wars movie hitting theaters after The Mandalorian and Grogu is\n",
      "Star Wars: Starfighter, directed by Deadpool & Wolverine's Shawn Levy and\n",
      "starring the Driver himself, Ryan Gosling. The film is set roughly five years\n",
      "after the events of The Rise of Skywalker, putting it further down the Star\n",
      "Wars timeline than any movie or show to date.\n",
      "\n",
      "There are few details on what the film would be about, but Levy has been\n",
      "developing the project with scripter Jonathan Tropper since 2022. Tropper\n",
      "previously worked with the director on This Is Where I Leave You and The Adam\n",
      "Project. According to The Hollywood Reporter, the prospective movie would be\n",
      "unrelated to the Skywalker Saga and would be a standalone story.\n",
      "\n",
      "### **Star Wars: Ahsoka Season 2 (In Development)**\n",
      "\n",
      "When Ahsoka: Season 1 ended on a cliffhanger, it was unclear whether those\n",
      "loose ends would be picked up in a second season or feed directly into Dave\n",
      "Filoni's Mando-verse movie. But Lucasfilm has now confirmed Ahsoka: Season 2.\n",
      "There's no release window yet, though the series likely won't return before\n",
      "late 2025 at the soonest.\n",
      "\n",
      "### **Taika Waititi's Star Wars Movie (In Development)**\n",
      "\n",
      "Disney has confirmed that Thor: Ragnarok's Taika Waititi has been tapped to\n",
      "direct a live-action Star Wars movie. Waititi is also co-writing the film\n",
      "alongside 1917's Krysty Wilson-Cairns. Nothing else is known about the film\n",
      "yet, including when it's set in the Star Wars timeline or what release date\n",
      "it'll end up claiming. In 2021 Waititi revealed he's cracked the story for his\n",
      "movie, but the actual script is still in its early stages. In May, 2022,\n",
      "Lucasfilm president Kathleen Kennedy said that this would be the next Star\n",
      "Wars film released, while in March, 2023, Variety reported that this could be\n",
      "the project that snaps up the currently empty December, 2025, release date on\n",
      "Lucasfilm's slate. In February, 2025, however, Kennedy confirmed that she\n",
      "still hasn't seen a finished script from Waititi, saying “if we ever do get a\n",
      "script from Taika, it’s going to be fantastic.”\n",
      "\n",
      "### **James Mangold's Dawn of the Jedi Movie (In Development)**\n",
      "\n",
      "At Star Wars Celebration 2023, we learned that Logan director James Mangold is\n",
      "directing a movie about the very first Jedi Knights. Little is known about the\n",
      "movie, other than that it's set roughly 25,000 years before the other films\n",
      "and will be \"biblical\" in scope.\n",
      "\n",
      "### **Dave Filoni's Mando-Verse New Republic Movie (In Development)**\n",
      "\n",
      "Dave Filoni will make the jump from Star Wars shows to the big screen. Filoni\n",
      "is directing a movie set after the events of Return of the Jedi. The film is\n",
      "said to tie together shows like The Mandalorian, The Book of Boba Fett and\n",
      "Ahsoka.\n",
      "\n",
      "### **Sharmeen Obaid-Chinoy's New Jedi Order Movie (In Development)**\n",
      "\n",
      "Ms. Marvel's Sharmeen Obaid-Chinoy is directing the first Star Wars film set\n",
      "after the events of The Rise of Skywalker. Daisy Ridley will return to reprise\n",
      "the role of Rey Skywalker, with the film focusing on Rey's efforts to rebuild\n",
      "the Jedi after the final battle with Emperor Palpatine. It's expected that\n",
      "other actors from the Sequel Trilogy will also return.\n",
      "\n",
      "At various points in its development, Damon Lindelof and Justin Britt-Gibson,\n",
      "and then Steven Knight, were attached to write the film. However, all have\n",
      "since left the project. Still, reports indicate that Rey as a character is\n",
      "still a major priority at Disney. In January, 2025, George Nolfi (The Bourne\n",
      "Ultimatum) was the latest writer hired to script the film.\n",
      "\n",
      "### Simon Kinberg's Star Wars Trilogy (In Development)\n",
      "\n",
      "Deadline reports that X-Men producer (and Star Wars Rebels co-creator) Simon\n",
      "Kinberg has been tapped to oversee a brand-new trilogy of Star Wars films.\n",
      "Kinberg will write the trilogy and produce alongside Lucasfilm's Kathleen\n",
      "Kennedy. Deadline's sources give conflicting reports as to what the trilogy\n",
      "will actually be about, though. It may be a direct continuation of the\n",
      "Skywalker Saga, effectively making Kinberg the architect of Episodes X through\n",
      "XII. However, others claim the trilogy will focus on a new storyline,\n",
      "coexisting alongside other in-development projects by James Mangold, Sharmeen\n",
      "Obaid-Chinoy, and Dave Filoni. IGN has since confirmed that the latter is the\n",
      "case.\n",
      "\n",
      "### Carlton & Nick Cuse's Star Wars Series (In Development)\n",
      "\n",
      "Variety reports that Lost co-showrunner Carlton Cuse is developing a streaming\n",
      "Star Wars series with his son, Watchmen and The Leftovers writer Nick Cuse.\n",
      "That's virtually all we know about this mysterious project, as there's no word\n",
      "on the plot, timeline, characters, or other story details yet.\n",
      "\n",
      "### **Star Wars: Rogue Squadron (Status Unknown)**\n",
      "\n",
      "Wonder Woman director Patty Jenkins was given the reins of a Star Wars\n",
      "theatrical film, which was originally slated to hit theaters in Christmas of\n",
      "2023. Kathleen Kennedy teased, \"This story will introduce a new generation of\n",
      "starfighter pilots as they earn their wings and risk their lives in a\n",
      "boundary-pushing, high-speed thrill ride. The legend of Rogue Squadron has\n",
      "been long beloved by Star Wars fans, and will move us into a future era of the\n",
      "galaxy.\"\n",
      "\n",
      "However, as of November 2021 the film was no longer on the production schedule\n",
      "while Jenkins reportedly focused on Wonder Woman 3 (which has since been\n",
      "cancelled). Industry insider Matthew Belloni reported the film was the latest\n",
      "in a long line of Star Wars projects hampered by \"creative differences.\" And\n",
      "in March of 2023, Variety reported that a source has stated that the film is\n",
      "no longer in active development. In April of that year, Kennedy told IGN the\n",
      "following: \"Rogue Squadron, that definitely is something that we still talk\n",
      "about. Whether it's a movie, or whether it ends up being in the series space,\n",
      "that's definitely something.\"\n",
      "\n",
      "### **The Mandalorian: Season 4 / The Book of Boba Fett: Season 2 (Status\n",
      "Unknown)**\n",
      "\n",
      "There's currently no word on a fourth season of The Mandalorian or a second\n",
      "season of The Book of Boba Fett. The announcement of The Mandalorian & Grogu\n",
      "may mean the former series has ended its small-screen run, and we're not\n",
      "holding our breath for more The Book of Boba Fett at this point.\n",
      "\n",
      "### **Star Wars: Lando Movie (Status Unknown)**\n",
      "\n",
      "While Lucasfilm seems to have no plans for a sequel to 2018's Solo: A Star\n",
      "Wars Story, Donald Glover's Lando Calrissian was supposed to get his own live-\n",
      "action series at one point. The project was announced in December 2020, and\n",
      "was being developed by Dear White People's Justin Simien. However, Simien\n",
      "eventually departed the project, with Glover and his brother Stephen Glover\n",
      "taking over as writers. And in the fall of 2023 Stephen revealed that Lando is\n",
      "now expected to take shape as a movie rather than a show.\n",
      "\n",
      "* * *\n",
      "\n",
      "Amidst a series of major delays at Disney, the release dates for the next two\n",
      "Star Wars movies now stand at May 22, 2026 (The Mandalorian & Grogu) and\n",
      "December 17, 2027 (title unknown). Additionally, a Star Wars title originally\n",
      "planned for December 18, 2026, was replaced by Ice Age 6 in November 2024.\n",
      "\n",
      "Lucasfilm has also said there are several unannounced films in development.\n",
      "What could they be? Only time... and the Force... will tell.\n",
      "\n",
      "Which Star Wars project are you most excited for? Let us know in the comments!\n",
      "\n",
      "* * *\n",
      "\n",
      "## **Star Wars Movies and TV Shows Released in 2024**\n",
      "\n",
      "  * ******The Bad Batch Season 3****(February 21, 2024)**\n",
      "  * ******Tales of the Empire****(May 4, 2024)**\n",
      "  * ******The Acolyte****(June 4, 2024)**\n",
      "  * ******Skeleton Crew****(December 2, 2024)**\n",
      "\n",
      "**You May Also Like:**\n",
      "\n",
      "  * All New Marvel Movies Coming Out\n",
      "  * All New Video Game Movies Coming Out\n",
      "  * All New DC Movies Coming Out\n",
      "\n",
      " _Note: This story was updated on 3/17/2025. It was originally posted on\n",
      "7/29/2021._\n",
      "\n",
      "* * *\n",
      "\n",
      "_Jesse is a mild-mannered staff writer for IGN. Allow him to lend a machete to\n",
      "your intellectual thicket by_ __following @jschedeen on Twitter__ _._\n",
      "\n",
      "Related reads:If Obi-Wan Kenobi Season 2 Happens, We Know Which Mystery Story\n",
      "Needs to Finally Be Told\n",
      "\n",
      "##### Comments\n",
      "\n",
      "Please enable JavaScript to view the comments.\n",
      "\n",
      "Ad\n",
      "\n",
      "IGN India is operated by Fork Media Group Pvt. Ltd. under license from IGN\n",
      "Entertainment and its affiliates.\n",
      "\n",
      "\n"
     ]
    }
   ],
   "source": [
    "from langchain.document_loaders import AsyncHtmlLoader\n",
    "from langchain.document_transformers import Html2TextTransformer\n",
    "\n",
    "# load html content from site\n",
    "site_loader = AsyncHtmlLoader(target_url)\n",
    "scraped_docs = site_loader.load()\n",
    "\n",
    "# convert to text data\n",
    "text_trns = Html2TextTransformer()\n",
    "text_docs = text_trns.transform_documents(scraped_docs)\n",
    "\n",
    "cleaned_text = text_docs[0].page_content\n",
    "print(cleaned_text)"
   ]
  },
  {
   "cell_type": "markdown",
   "id": "1587a70e-f2b1-4722-b862-129f89608adc",
   "metadata": {},
   "source": [
    "## Chunking data"
   ]
  },
  {
   "cell_type": "code",
   "execution_count": 43,
   "id": "9bf865b1-dadf-43d4-b46a-26d5d4137b8c",
   "metadata": {},
   "outputs": [
    {
     "name": "stdout",
     "output_type": "stream",
     "text": [
      "19\n"
     ]
    }
   ],
   "source": [
    "from langchain_text_splitters import RecursiveCharacterTextSplitter\n",
    "\n",
    "text_splitter = RecursiveCharacterTextSplitter(chunk_size=1000, chunk_overlap=200)\n",
    "splits = text_splitter.split_documents(text_docs)\n",
    "print(len(splits))"
   ]
  },
  {
   "cell_type": "markdown",
   "id": "625c41f5-ea37-4f7d-84a4-66e82d70992b",
   "metadata": {},
   "source": [
    "## Embedding chunks and creating retriever"
   ]
  },
  {
   "cell_type": "code",
   "execution_count": 44,
   "id": "de709e50-b181-424e-96e2-8ac2641da4b0",
   "metadata": {},
   "outputs": [],
   "source": [
    "from langchain_chroma import Chroma\n",
    "from langchain_openai import OpenAIEmbeddings\n",
    "\n",
    "vectorstore = Chroma.from_documents(documents=splits, embedding=OpenAIEmbeddings())\n",
    "\n",
    "retriever = vectorstore.as_retriever()"
   ]
  },
  {
   "cell_type": "markdown",
   "id": "52eb8f4e-d992-4dbf-a86e-d2f532ff112f",
   "metadata": {},
   "source": [
    "## Comparing non-rag answer and rag answer"
   ]
  },
  {
   "cell_type": "code",
   "execution_count": 59,
   "id": "2efaf4e0-adbb-49f3-81b7-aa2485468a26",
   "metadata": {},
   "outputs": [],
   "source": [
    "non_rag_answer = llm.invoke(user_prompt)"
   ]
  },
  {
   "cell_type": "code",
   "execution_count": 61,
   "id": "c546a57f-05f6-4b2f-8884-e74a206ec292",
   "metadata": {},
   "outputs": [
    {
     "name": "stdout",
     "output_type": "stream",
     "text": [
      "As of October 2023, the latest Star Wars series is *Ahsoka*, which premiered on Disney+ in August 2023. The most recent movie in the Star Wars franchise is *Rogue Squadron*, which was previously scheduled but has faced delays and has not yet been released. Always check official sources for the most up-to-date information, as new content may be announced or released after my last update.\n"
     ]
    }
   ],
   "source": [
    "print(non_rag_answer.content)"
   ]
  },
  {
   "cell_type": "code",
   "execution_count": 54,
   "id": "27980650-39ff-47bd-b462-9c54827c5a66",
   "metadata": {},
   "outputs": [],
   "source": [
    "rag_system_prompt = (\n",
    "    \"You are an assistant for question-answering tasks. \"\n",
    "    \"Use the following pieces of retrieved context to answer \"\n",
    "    \"the question. If you don't know the answer, say that you \"\n",
    "    \"don't know. Keep your answer relatively concise. Remember that the current date is July 2025\"\n",
    "    \"\\n\\n\"\n",
    "    \"{context}\"\n",
    ")\n",
    "\n",
    "rag_prompt = ChatPromptTemplate.from_messages(\n",
    "    [\n",
    "        (\"system\", rag_system_prompt),\n",
    "        (\"human\", \"{input}\"),\n",
    "    ]\n",
    ")"
   ]
  },
  {
   "cell_type": "code",
   "execution_count": 55,
   "id": "9c1c0f15-972d-4169-83fe-57dde4c7a518",
   "metadata": {},
   "outputs": [],
   "source": [
    "from langchain.chains import create_retrieval_chain\n",
    "from langchain.chains.combine_documents import create_stuff_documents_chain\n",
    "\n",
    "question_answer_chain = create_stuff_documents_chain(llm, rag_prompt)\n",
    "rag_chain = create_retrieval_chain(retriever, question_answer_chain)"
   ]
  },
  {
   "cell_type": "code",
   "execution_count": 56,
   "id": "b1cc7080-073f-4a06-9186-7519736c54dc",
   "metadata": {},
   "outputs": [],
   "source": [
    "rag_answer = rag_chain.invoke({\"input\": user_prompt})"
   ]
  },
  {
   "cell_type": "code",
   "execution_count": 79,
   "id": "2110049a-e94d-4d45-94c4-ea5b2736f33c",
   "metadata": {},
   "outputs": [],
   "source": [
    "src_count = len(rag_answer[\"context\"])"
   ]
  },
  {
   "cell_type": "code",
   "execution_count": 81,
   "id": "8fa2d70c-08f0-4e55-bbac-fb51afc91f17",
   "metadata": {},
   "outputs": [],
   "source": [
    "sources_set = set()\n",
    "\n",
    "for i in range(src_count):\n",
    "    sources_set.add(rag_answer[\"context\"][i].metadata[\"source\"])"
   ]
  },
  {
   "cell_type": "markdown",
   "id": "93039db2-3273-45e8-aff5-9452bd619c31",
   "metadata": {},
   "source": [
    "Rag Answer:"
   ]
  },
  {
   "cell_type": "code",
   "execution_count": 87,
   "id": "923f44b3-814c-4d4f-8272-29e438fd3395",
   "metadata": {},
   "outputs": [
    {
     "name": "stdout",
     "output_type": "stream",
     "text": [
      "The latest Star Wars show released is \"Skeleton Crew,\" which debuted on December 2, 2024.\n"
     ]
    }
   ],
   "source": [
    "print(rag_answer[\"answer\"])"
   ]
  },
  {
   "cell_type": "code",
   "execution_count": 88,
   "id": "219fc580-85f3-4507-ac3a-a8eb35d318a8",
   "metadata": {},
   "outputs": [
    {
     "name": "stdout",
     "output_type": "stream",
     "text": [
      "Citations:\n",
      "https://in.ign.com/obi-wan-kenobi/118620/feature/upcoming-and-next-star-wars-movies-and-tv-shows-2022-release-dates-and-beyond\n"
     ]
    }
   ],
   "source": [
    "print(\"Citations:\")\n",
    "for src in sources_set:\n",
    "    print(src)"
   ]
  },
  {
   "cell_type": "code",
   "execution_count": null,
   "id": "c5d7211b-eb21-413f-bcc9-a5bbdaa89ae7",
   "metadata": {},
   "outputs": [],
   "source": []
  }
 ],
 "metadata": {
  "kernelspec": {
   "display_name": "Python 3 (ipykernel)",
   "language": "python",
   "name": "python3"
  },
  "language_info": {
   "codemirror_mode": {
    "name": "ipython",
    "version": 3
   },
   "file_extension": ".py",
   "mimetype": "text/x-python",
   "name": "python",
   "nbconvert_exporter": "python",
   "pygments_lexer": "ipython3",
   "version": "3.13.5"
  }
 },
 "nbformat": 4,
 "nbformat_minor": 5
}
