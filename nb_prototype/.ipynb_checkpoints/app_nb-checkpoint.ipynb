{
 "cells": [
  {
   "cell_type": "markdown",
   "id": "29de2ca2-7305-405c-9f2b-16520a0aa166",
   "metadata": {},
   "source": [
    "## Web-search RAG chatbot\n",
    "\n",
    "like perplexity\n",
    "\n",
    "v0.1 - no conversation, just question and answer based on web search\n",
    "\n",
    "process:\n",
    "1) receive prompt\n",
    "2) pass to LLM to create appropriate search terms for gathering data - start with just one\n",
    "3) perform web search with that, get top results and scrape and store as doc - start with just one result\n",
    "4) chunk data\n",
    "5) embed chunks\n",
    "6) store in vectordb\n",
    "7) link retriever to vecdb\n",
    "8) pass query with retriever to llm w/ langchain"
   ]
  },
  {
   "cell_type": "markdown",
   "id": "83a0a3ae-f038-4511-ac9f-41399b979f03",
   "metadata": {},
   "source": [
    "## 1) Receive prompt"
   ]
  },
  {
   "cell_type": "code",
   "execution_count": 1,
   "id": "145cb1de-e0b1-48ed-8ff0-5a4c3b83ee1e",
   "metadata": {},
   "outputs": [],
   "source": [
    "user_prompt = \"What are some new lego sets?\""
   ]
  },
  {
   "cell_type": "markdown",
   "id": "2b5c3fc6-994b-4ad8-a895-6b921331097e",
   "metadata": {},
   "source": [
    "## 2) Pass to LLM to create search term"
   ]
  },
  {
   "cell_type": "code",
   "execution_count": 2,
   "id": "3d741a02-63b4-4fb0-80de-f94e1de88976",
   "metadata": {},
   "outputs": [],
   "source": [
    "import os\n",
    "from dotenv import load_dotenv, find_dotenv\n",
    "_ = load_dotenv(find_dotenv())\n",
    "openai_api_key = os.environ[\"OPENAI_API_KEY\"]"
   ]
  },
  {
   "cell_type": "code",
   "execution_count": 3,
   "id": "ad1f031c-8cea-4ba2-ae50-5daf4a2d51a7",
   "metadata": {},
   "outputs": [],
   "source": [
    "from langchain_openai import ChatOpenAI\n",
    "\n",
    "llm = ChatOpenAI(model=\"gpt-4o-mini\")"
   ]
  },
  {
   "cell_type": "code",
   "execution_count": 4,
   "id": "9ebe530f-dfb4-4fa9-9094-1912871da9ac",
   "metadata": {
    "editable": true,
    "slideshow": {
     "slide_type": ""
    },
    "tags": []
   },
   "outputs": [],
   "source": [
    "from langchain_core.prompts import ChatPromptTemplate\n",
    "from langchain_core.output_parsers import StrOutputParser\n",
    "from langchain_core.runnables import RunnablePassthrough\n",
    "\n",
    "system_prompt = (\n",
    "    \"You are an assistant for gathering data based on this prompt.\"\n",
    "    \"Use the following prompt to generate one web search query that would gather data which would be helpful in answering the prompt.\"\n",
    "    \"Your search query should be effective at finding the most relevant and useful data pertaining to the prompt.\"\n",
    "    \"Keep in mind that the current date is July 2025\"\n",
    "    \"\\n\\n\"\n",
    "    \"{input}\"\n",
    ")\n",
    "\n",
    "search_query_prompt = ChatPromptTemplate.from_messages(\n",
    "    [\n",
    "        (\"system\", system_prompt),\n",
    "        (\"human\", \"{input}\"),\n",
    "    ]\n",
    ")"
   ]
  },
  {
   "cell_type": "code",
   "execution_count": 5,
   "id": "f6384447-281f-41bf-8ddd-322ce5a96335",
   "metadata": {},
   "outputs": [],
   "source": [
    "search_query_gen_chain = {\"input\": RunnablePassthrough()} | search_query_prompt | llm | StrOutputParser()"
   ]
  },
  {
   "cell_type": "code",
   "execution_count": 6,
   "id": "33cb2e18-0264-4823-984f-0238103ee661",
   "metadata": {},
   "outputs": [
    {
     "name": "stderr",
     "output_type": "stream",
     "text": [
      "Failed to multipart ingest runs: langsmith.utils.LangSmithError: Failed to POST https://api.smith.langchain.com/runs/multipart in LangSmith API. HTTPError('403 Client Error: Forbidden for url: https://api.smith.langchain.com/runs/multipart', '{\"error\":\"Forbidden\"}\\n')\n",
      "Failed to send compressed multipart ingest: langsmith.utils.LangSmithError: Failed to POST https://api.smith.langchain.com/runs/multipart in LangSmith API. HTTPError('403 Client Error: Forbidden for url: https://api.smith.langchain.com/runs/multipart', '{\"error\":\"Forbidden\"}\\n')\n",
      "Failed to send compressed multipart ingest: langsmith.utils.LangSmithError: Failed to POST https://api.smith.langchain.com/runs/multipart in LangSmith API. HTTPError('403 Client Error: Forbidden for url: https://api.smith.langchain.com/runs/multipart', '{\"error\":\"Forbidden\"}\\n')\n",
      "Failed to send compressed multipart ingest: langsmith.utils.LangSmithError: Failed to POST https://api.smith.langchain.com/runs/multipart in LangSmith API. HTTPError('403 Client Error: Forbidden for url: https://api.smith.langchain.com/runs/multipart', '{\"error\":\"Forbidden\"}\\n')\n",
      "Failed to send compressed multipart ingest: langsmith.utils.LangSmithError: Failed to POST https://api.smith.langchain.com/runs/multipart in LangSmith API. HTTPError('403 Client Error: Forbidden for url: https://api.smith.langchain.com/runs/multipart', '{\"error\":\"Forbidden\"}\\n')\n",
      "Failed to send compressed multipart ingest: langsmith.utils.LangSmithError: Failed to POST https://api.smith.langchain.com/runs/multipart in LangSmith API. HTTPError('403 Client Error: Forbidden for url: https://api.smith.langchain.com/runs/multipart', '{\"error\":\"Forbidden\"}\\n')\n",
      "Failed to send compressed multipart ingest: langsmith.utils.LangSmithError: Failed to POST https://api.smith.langchain.com/runs/multipart in LangSmith API. HTTPError('403 Client Error: Forbidden for url: https://api.smith.langchain.com/runs/multipart', '{\"error\":\"Forbidden\"}\\n')\n",
      "Failed to send compressed multipart ingest: langsmith.utils.LangSmithError: Failed to POST https://api.smith.langchain.com/runs/multipart in LangSmith API. HTTPError('403 Client Error: Forbidden for url: https://api.smith.langchain.com/runs/multipart', '{\"error\":\"Forbidden\"}\\n')\n",
      "Failed to send compressed multipart ingest: langsmith.utils.LangSmithError: Failed to POST https://api.smith.langchain.com/runs/multipart in LangSmith API. HTTPError('403 Client Error: Forbidden for url: https://api.smith.langchain.com/runs/multipart', '{\"error\":\"Forbidden\"}\\n')\n",
      "Failed to send compressed multipart ingest: langsmith.utils.LangSmithError: Failed to POST https://api.smith.langchain.com/runs/multipart in LangSmith API. HTTPError('403 Client Error: Forbidden for url: https://api.smith.langchain.com/runs/multipart', '{\"error\":\"Forbidden\"}\\n')\n",
      "Failed to send compressed multipart ingest: langsmith.utils.LangSmithError: Failed to POST https://api.smith.langchain.com/runs/multipart in LangSmith API. HTTPError('403 Client Error: Forbidden for url: https://api.smith.langchain.com/runs/multipart', '{\"error\":\"Forbidden\"}\\n')\n",
      "Failed to send compressed multipart ingest: langsmith.utils.LangSmithError: Failed to POST https://api.smith.langchain.com/runs/multipart in LangSmith API. HTTPError('403 Client Error: Forbidden for url: https://api.smith.langchain.com/runs/multipart', '{\"error\":\"Forbidden\"}\\n')\n",
      "Failed to send compressed multipart ingest: langsmith.utils.LangSmithError: Failed to POST https://api.smith.langchain.com/runs/multipart in LangSmith API. HTTPError('403 Client Error: Forbidden for url: https://api.smith.langchain.com/runs/multipart', '{\"error\":\"Forbidden\"}\\n')\n",
      "Failed to send compressed multipart ingest: langsmith.utils.LangSmithError: Failed to POST https://api.smith.langchain.com/runs/multipart in LangSmith API. HTTPError('403 Client Error: Forbidden for url: https://api.smith.langchain.com/runs/multipart', '{\"error\":\"Forbidden\"}\\n')\n",
      "Failed to send compressed multipart ingest: langsmith.utils.LangSmithError: Failed to POST https://api.smith.langchain.com/runs/multipart in LangSmith API. HTTPError('403 Client Error: Forbidden for url: https://api.smith.langchain.com/runs/multipart', '{\"error\":\"Forbidden\"}\\n')\n",
      "Failed to send compressed multipart ingest: langsmith.utils.LangSmithError: Failed to POST https://api.smith.langchain.com/runs/multipart in LangSmith API. HTTPError('403 Client Error: Forbidden for url: https://api.smith.langchain.com/runs/multipart', '{\"error\":\"Forbidden\"}\\n')\n",
      "Failed to send compressed multipart ingest: langsmith.utils.LangSmithError: Failed to POST https://api.smith.langchain.com/runs/multipart in LangSmith API. HTTPError('403 Client Error: Forbidden for url: https://api.smith.langchain.com/runs/multipart', '{\"error\":\"Forbidden\"}\\n')\n",
      "Failed to send compressed multipart ingest: langsmith.utils.LangSmithError: Failed to POST https://api.smith.langchain.com/runs/multipart in LangSmith API. HTTPError('403 Client Error: Forbidden for url: https://api.smith.langchain.com/runs/multipart', '{\"error\":\"Forbidden\"}\\n')\n",
      "Failed to send compressed multipart ingest: langsmith.utils.LangSmithError: Failed to POST https://api.smith.langchain.com/runs/multipart in LangSmith API. HTTPError('403 Client Error: Forbidden for url: https://api.smith.langchain.com/runs/multipart', '{\"error\":\"Forbidden\"}\\n')\n",
      "Failed to send compressed multipart ingest: langsmith.utils.LangSmithError: Failed to POST https://api.smith.langchain.com/runs/multipart in LangSmith API. HTTPError('403 Client Error: Forbidden for url: https://api.smith.langchain.com/runs/multipart', '{\"error\":\"Forbidden\"}\\n')\n",
      "Failed to send compressed multipart ingest: langsmith.utils.LangSmithError: Failed to POST https://api.smith.langchain.com/runs/multipart in LangSmith API. HTTPError('403 Client Error: Forbidden for url: https://api.smith.langchain.com/runs/multipart', '{\"error\":\"Forbidden\"}\\n')\n",
      "Failed to send compressed multipart ingest: langsmith.utils.LangSmithError: Failed to POST https://api.smith.langchain.com/runs/multipart in LangSmith API. HTTPError('403 Client Error: Forbidden for url: https://api.smith.langchain.com/runs/multipart', '{\"error\":\"Forbidden\"}\\n')\n",
      "Failed to send compressed multipart ingest: langsmith.utils.LangSmithError: Failed to POST https://api.smith.langchain.com/runs/multipart in LangSmith API. HTTPError('403 Client Error: Forbidden for url: https://api.smith.langchain.com/runs/multipart', '{\"error\":\"Forbidden\"}\\n')\n",
      "Failed to send compressed multipart ingest: langsmith.utils.LangSmithError: Failed to POST https://api.smith.langchain.com/runs/multipart in LangSmith API. HTTPError('403 Client Error: Forbidden for url: https://api.smith.langchain.com/runs/multipart', '{\"error\":\"Forbidden\"}\\n')\n",
      "Failed to send compressed multipart ingest: langsmith.utils.LangSmithError: Failed to POST https://api.smith.langchain.com/runs/multipart in LangSmith API. HTTPError('403 Client Error: Forbidden for url: https://api.smith.langchain.com/runs/multipart', '{\"error\":\"Forbidden\"}\\n')\n",
      "Failed to send compressed multipart ingest: langsmith.utils.LangSmithError: Failed to POST https://api.smith.langchain.com/runs/multipart in LangSmith API. HTTPError('403 Client Error: Forbidden for url: https://api.smith.langchain.com/runs/multipart', '{\"error\":\"Forbidden\"}\\n')\n",
      "Failed to send compressed multipart ingest: langsmith.utils.LangSmithError: Failed to POST https://api.smith.langchain.com/runs/multipart in LangSmith API. HTTPError('403 Client Error: Forbidden for url: https://api.smith.langchain.com/runs/multipart', '{\"error\":\"Forbidden\"}\\n')\n",
      "Failed to send compressed multipart ingest: langsmith.utils.LangSmithError: Failed to POST https://api.smith.langchain.com/runs/multipart in LangSmith API. HTTPError('403 Client Error: Forbidden for url: https://api.smith.langchain.com/runs/multipart', '{\"error\":\"Forbidden\"}\\n')\n",
      "Failed to send compressed multipart ingest: langsmith.utils.LangSmithError: Failed to POST https://api.smith.langchain.com/runs/multipart in LangSmith API. HTTPError('403 Client Error: Forbidden for url: https://api.smith.langchain.com/runs/multipart', '{\"error\":\"Forbidden\"}\\n')\n",
      "Failed to send compressed multipart ingest: langsmith.utils.LangSmithError: Failed to POST https://api.smith.langchain.com/runs/multipart in LangSmith API. HTTPError('403 Client Error: Forbidden for url: https://api.smith.langchain.com/runs/multipart', '{\"error\":\"Forbidden\"}\\n')\n",
      "Failed to send compressed multipart ingest: langsmith.utils.LangSmithError: Failed to POST https://api.smith.langchain.com/runs/multipart in LangSmith API. HTTPError('403 Client Error: Forbidden for url: https://api.smith.langchain.com/runs/multipart', '{\"error\":\"Forbidden\"}\\n')\n",
      "Failed to send compressed multipart ingest: langsmith.utils.LangSmithError: Failed to POST https://api.smith.langchain.com/runs/multipart in LangSmith API. HTTPError('403 Client Error: Forbidden for url: https://api.smith.langchain.com/runs/multipart', '{\"error\":\"Forbidden\"}\\n')\n",
      "Failed to send compressed multipart ingest: langsmith.utils.LangSmithError: Failed to POST https://api.smith.langchain.com/runs/multipart in LangSmith API. HTTPError('403 Client Error: Forbidden for url: https://api.smith.langchain.com/runs/multipart', '{\"error\":\"Forbidden\"}\\n')\n",
      "Failed to send compressed multipart ingest: langsmith.utils.LangSmithError: Failed to POST https://api.smith.langchain.com/runs/multipart in LangSmith API. HTTPError('403 Client Error: Forbidden for url: https://api.smith.langchain.com/runs/multipart', '{\"error\":\"Forbidden\"}\\n')\n",
      "Failed to send compressed multipart ingest: langsmith.utils.LangSmithError: Failed to POST https://api.smith.langchain.com/runs/multipart in LangSmith API. HTTPError('403 Client Error: Forbidden for url: https://api.smith.langchain.com/runs/multipart', '{\"error\":\"Forbidden\"}\\n')\n",
      "Failed to send compressed multipart ingest: langsmith.utils.LangSmithError: Failed to POST https://api.smith.langchain.com/runs/multipart in LangSmith API. HTTPError('403 Client Error: Forbidden for url: https://api.smith.langchain.com/runs/multipart', '{\"error\":\"Forbidden\"}\\n')\n",
      "Failed to send compressed multipart ingest: langsmith.utils.LangSmithError: Failed to POST https://api.smith.langchain.com/runs/multipart in LangSmith API. HTTPError('403 Client Error: Forbidden for url: https://api.smith.langchain.com/runs/multipart', '{\"error\":\"Forbidden\"}\\n')\n",
      "Failed to send compressed multipart ingest: langsmith.utils.LangSmithError: Failed to POST https://api.smith.langchain.com/runs/multipart in LangSmith API. HTTPError('403 Client Error: Forbidden for url: https://api.smith.langchain.com/runs/multipart', '{\"error\":\"Forbidden\"}\\n')\n",
      "Failed to send compressed multipart ingest: langsmith.utils.LangSmithError: Failed to POST https://api.smith.langchain.com/runs/multipart in LangSmith API. HTTPError('403 Client Error: Forbidden for url: https://api.smith.langchain.com/runs/multipart', '{\"error\":\"Forbidden\"}\\n')\n",
      "Failed to send compressed multipart ingest: langsmith.utils.LangSmithError: Failed to POST https://api.smith.langchain.com/runs/multipart in LangSmith API. HTTPError('403 Client Error: Forbidden for url: https://api.smith.langchain.com/runs/multipart', '{\"error\":\"Forbidden\"}\\n')\n",
      "Failed to send compressed multipart ingest: langsmith.utils.LangSmithError: Failed to POST https://api.smith.langchain.com/runs/multipart in LangSmith API. HTTPError('403 Client Error: Forbidden for url: https://api.smith.langchain.com/runs/multipart', '{\"error\":\"Forbidden\"}\\n')\n",
      "Failed to send compressed multipart ingest: langsmith.utils.LangSmithError: Failed to POST https://api.smith.langchain.com/runs/multipart in LangSmith API. HTTPError('403 Client Error: Forbidden for url: https://api.smith.langchain.com/runs/multipart', '{\"error\":\"Forbidden\"}\\n')\n",
      "Failed to send compressed multipart ingest: langsmith.utils.LangSmithError: Failed to POST https://api.smith.langchain.com/runs/multipart in LangSmith API. HTTPError('403 Client Error: Forbidden for url: https://api.smith.langchain.com/runs/multipart', '{\"error\":\"Forbidden\"}\\n')\n",
      "Failed to send compressed multipart ingest: langsmith.utils.LangSmithError: Failed to POST https://api.smith.langchain.com/runs/multipart in LangSmith API. HTTPError('403 Client Error: Forbidden for url: https://api.smith.langchain.com/runs/multipart', '{\"error\":\"Forbidden\"}\\n')\n",
      "Failed to send compressed multipart ingest: langsmith.utils.LangSmithError: Failed to POST https://api.smith.langchain.com/runs/multipart in LangSmith API. HTTPError('403 Client Error: Forbidden for url: https://api.smith.langchain.com/runs/multipart', '{\"error\":\"Forbidden\"}\\n')\n",
      "Failed to send compressed multipart ingest: langsmith.utils.LangSmithError: Failed to POST https://api.smith.langchain.com/runs/multipart in LangSmith API. HTTPError('403 Client Error: Forbidden for url: https://api.smith.langchain.com/runs/multipart', '{\"error\":\"Forbidden\"}\\n')\n",
      "Failed to send compressed multipart ingest: langsmith.utils.LangSmithError: Failed to POST https://api.smith.langchain.com/runs/multipart in LangSmith API. HTTPError('403 Client Error: Forbidden for url: https://api.smith.langchain.com/runs/multipart', '{\"error\":\"Forbidden\"}\\n')\n",
      "Failed to send compressed multipart ingest: langsmith.utils.LangSmithError: Failed to POST https://api.smith.langchain.com/runs/multipart in LangSmith API. HTTPError('403 Client Error: Forbidden for url: https://api.smith.langchain.com/runs/multipart', '{\"error\":\"Forbidden\"}\\n')\n"
     ]
    }
   ],
   "source": [
    "import ast\n",
    "\n",
    "search_query = search_query_gen_chain.invoke(user_prompt)\n",
    "search_query = ast.literal_eval(search_query)"
   ]
  },
  {
   "cell_type": "code",
   "execution_count": 7,
   "id": "0e1d968d-98c4-4182-be1a-d6f2a49ec1b8",
   "metadata": {},
   "outputs": [],
   "source": [
    "search_query = search_query.replace(' ', '+')"
   ]
  },
  {
   "cell_type": "code",
   "execution_count": 8,
   "id": "276383d8-edaf-4677-bbce-c1681b9b2c02",
   "metadata": {},
   "outputs": [
    {
     "data": {
      "text/plain": [
       "'new+LEGO+sets+released+in+2025'"
      ]
     },
     "execution_count": 8,
     "metadata": {},
     "output_type": "execute_result"
    }
   ],
   "source": [
    "search_query"
   ]
  },
  {
   "cell_type": "code",
   "execution_count": 9,
   "id": "25121243-d8aa-4f27-b654-2e24b48dec85",
   "metadata": {},
   "outputs": [],
   "source": [
    "search_url = f\"https://google.com/search?q={search_query}\""
   ]
  },
  {
   "cell_type": "code",
   "execution_count": 10,
   "id": "63a61b53-07e0-4743-89f6-a071847e170f",
   "metadata": {},
   "outputs": [
    {
     "data": {
      "text/plain": [
       "'https://google.com/search?q=new+LEGO+sets+released+in+2025'"
      ]
     },
     "execution_count": 10,
     "metadata": {},
     "output_type": "execute_result"
    }
   ],
   "source": [
    "search_url"
   ]
  },
  {
   "cell_type": "markdown",
   "id": "6eedbcfa-e9df-477e-ac89-f1fe8de795a2",
   "metadata": {},
   "source": [
    "## Web search for relevant links"
   ]
  },
  {
   "cell_type": "code",
   "execution_count": 11,
   "id": "ec406f15-36f3-4fb0-a883-890775dea115",
   "metadata": {},
   "outputs": [
    {
     "name": "stdout",
     "output_type": "stream",
     "text": [
      "searching...\n",
      "[<a href=\"/httpservice/retry/enablejs?sei=3w6KaJDNH9S_juMP2tmIwQo\">here</a>, <a href=\"/search?q=new+LEGO+sets+released+in+2025&amp;sca_esv=27b91714de888794&amp;ie=UTF-8&amp;emsg=SG_REL&amp;sei=3w6KaJDNH9S_juMP2tmIwQo\">click here</a>, <a href=\"https://support.google.com/websearch\">feedback</a>]\n"
     ]
    }
   ],
   "source": [
    "import requests\n",
    "from bs4 import BeautifulSoup\n",
    "from urllib.parse import urlparse, unquote\n",
    "import time\n",
    "\n",
    "cse_key = os.environ[\"GOOGLE_CSE_KEY\"]\n",
    "cse_id = os.environ[\"GOOGLE_CSE_ID\"]\n",
    "\n",
    "# test single search block\n",
    "\n",
    "search_response = requests.get(url=search_url)\n",
    "\n",
    "# sleep for a while to not overload requests\n",
    "time.sleep(2)\n",
    "print(\"searching...\")\n",
    "\n",
    "soup = BeautifulSoup(search_response.text, \"html.parser\")\n",
    "found_links = soup.find_all(\"a\")\n",
    "\n",
    "print(found_links)"
   ]
  },
  {
   "cell_type": "code",
   "execution_count": 12,
   "id": "4228dc8a-5624-42bc-b6e0-8a31685c62b2",
   "metadata": {},
   "outputs": [],
   "source": [
    "# with CSE\n",
    "\n",
    "cse_query = search_query.replace('+', ' ')\n",
    "\n",
    "cse_url = 'https://www.googleapis.com/customsearch/v1'\n",
    "cse_params = {\n",
    "    'q': cse_query,\n",
    "    'key': cse_key,\n",
    "    'cx' : cse_id\n",
    "}\n",
    "\n",
    "response = requests.get(cse_url, cse_params)"
   ]
  },
  {
   "cell_type": "code",
   "execution_count": 13,
   "id": "cb16198e-59e8-4552-861e-ab15769947e0",
   "metadata": {},
   "outputs": [
    {
     "name": "stdout",
     "output_type": "stream",
     "text": [
      "{'https://www.reddit.com/r/legolotrfans/comments/1dbrchi/next_lego_lotr_sets_and_when_and_any_romours_for/', 'https://jaysbrickblog.com/list-of-lego-sets-2025/', 'https://falconbricks.com/news/lego-2025-sets/', 'https://www.lego.com/en-us/categories/coming-soon', 'https://falconbricks.com/news/lego-june-2025-sets/'}\n"
     ]
    }
   ],
   "source": [
    "cse_results = response.json()\n",
    "\n",
    "target_url_set = set()\n",
    "\n",
    "if 'items' in cse_results:\n",
    "    for result in cse_results['items']:\n",
    "        if len(target_url_set) >= 5:\n",
    "            break\n",
    "        else:\n",
    "            target_url_set.add(result['link'])\n",
    "\n",
    "print(target_url_set)"
   ]
  },
  {
   "cell_type": "markdown",
   "id": "64bce492-7d1d-464d-bb17-820d290020d5",
   "metadata": {},
   "source": [
    "## Get page as text data"
   ]
  },
  {
   "cell_type": "code",
   "execution_count": 14,
   "id": "18c1031f-a20c-4bf4-b6dd-fcbf89204468",
   "metadata": {},
   "outputs": [
    {
     "name": "stderr",
     "output_type": "stream",
     "text": [
      "USER_AGENT environment variable not set, consider setting it to identify your requests.\n",
      "Fetching pages: 100%|######################################################| 5/5 [00:03<00:00,  1.35it/s]\n"
     ]
    },
    {
     "name": "stdout",
     "output_type": "stream",
     "text": [
      "Skip to main content\n",
      "\n",
      "Open menu Open navigation Go to Reddit Home\n",
      "\n",
      "r/legolotrfans A chip A close button\n",
      "\n",
      "Get App Get the Reddit app  Log In Log in to Reddit\n",
      "\n",
      "Expand user menu Open settings menu\n",
      "\n",
      "Go to legolotrfans\n",
      "\n",
      "r/legolotrfans\n",
      "\n",
      "r/legolotrfans\n",
      "\n",
      "r/legolotrfans is for fans of LEGO Lotr, Hobbit, and anything else Tolkien!\n",
      "\n",
      "* * *\n",
      "\n",
      "Members Online\n",
      "\n",
      "•\n",
      "\n",
      "createScientist\n",
      "\n",
      "#  Next Lego lotr Sets? and When? and any romours for 2025?\n",
      "\n",
      "Just bought rivendell for 685$ Aud,( rrp $800), i have a feeling if the\n",
      "expensive lotr icon continue we will get Minas Tirith, like that ideas set\n",
      "that had 10K supporter but didnt get approved? It would make for a stunning\n",
      "set!.\n",
      "\n",
      "Anyone know of any upcoming Lotr romours for sets in 2025 or the near future?\n",
      "and Lastly will smaller and affordable Lotr sets make a return?(and when if\n",
      "so?). Although there is a huge controversy for Rings of Power, I personally\n",
      "hope everyone watches it cause it might help make lego a return to a full Lego\n",
      "Lotr sets waves. Sorry for the typos!!!\n",
      "\n",
      "Read more\n",
      "\n",
      "Share  Share\n",
      "\n",
      "#  Related Answers Section\n",
      "\n",
      "Related Answers\n",
      "\n",
      "Next Lego Lord of the Rings sets and rumors\n",
      "\n",
      "Upcoming Lego LOTR sets\n",
      "\n",
      "Lego Minas Tirith set ideas\n",
      "\n",
      "Best Lego Lord of the Rings sets\n",
      "\n",
      "Lego Shire set recommendations\n",
      "\n",
      "New to Reddit?\n",
      "\n",
      "Create your account and connect with a world of communities.\n",
      "\n",
      "Continue with Email\n",
      "\n",
      "Continue With Phone Number\n",
      "\n",
      "By continuing, you agree to our User Agreement and acknowledge that you\n",
      "understand the Privacy Policy.\n",
      "\n",
      "Public\n",
      "\n",
      "Anyone can view, post, and comment to this community\n",
      "\n",
      "##  Top Posts\n",
      "\n",
      "* * *\n",
      "\n",
      "  * Reddit \n",
      "\n",
      "reReddit: Top posts of June 9, 2024\n",
      "\n",
      "* * *\n",
      "\n",
      "  * Reddit \n",
      "\n",
      "reReddit: Top posts of June 2024\n",
      "\n",
      "* * *\n",
      "\n",
      "  * Reddit \n",
      "\n",
      "reReddit: Top posts of 2024\n",
      "\n",
      "* * *\n",
      "\n",
      "Reddit Rules Privacy Policy User Agreement Accessibility Reddit, Inc. © 2025.\n",
      "All rights reserved.\n",
      "\n",
      "Expand Navigation Collapse Navigation\n",
      "\n",
      "* &nbsp;\n",
      "\n",
      "* &nbsp;\n",
      "\n",
      "* &nbsp;\n",
      "\n",
      "* * *\n",
      "\n",
      "* TOPICS\n",
      "\n",
      "* Internet Culture (Viral)\n",
      "\n",
      "  * Amazing\n",
      "\n",
      "  * Animals & Pets\n",
      "\n",
      "  * Cringe & Facepalm\n",
      "\n",
      "  * Funny\n",
      "\n",
      "  * Interesting\n",
      "\n",
      "  * Memes\n",
      "\n",
      "  * Oddly Satisfying\n",
      "\n",
      "  * Reddit Meta\n",
      "\n",
      "  * Wholesome & Heartwarming\n",
      "\n",
      "* Games\n",
      "\n",
      "  * Action Games\n",
      "\n",
      "  * Adventure Games\n",
      "\n",
      "  * Esports\n",
      "\n",
      "  * Gaming Consoles & Gear\n",
      "\n",
      "  * Gaming News & Discussion\n",
      "\n",
      "  * Mobile Games\n",
      "\n",
      "  * Other Games\n",
      "\n",
      "  * Role-Playing Games\n",
      "\n",
      "  * Simulation Games\n",
      "\n",
      "  * Sports & Racing Games\n",
      "\n",
      "  * Strategy Games\n",
      "\n",
      "  * Tabletop Games\n",
      "\n",
      "* Q&As\n",
      "\n",
      "  * Q&As\n",
      "\n",
      "  * Stories & Confessions\n",
      "\n",
      "* Technology\n",
      "\n",
      "  * 3D Printing\n",
      "\n",
      "  * Artificial Intelligence & Machine Learning\n",
      "\n",
      "  * Computers & Hardware\n",
      "\n",
      "  * Consumer Electronics\n",
      "\n",
      "  * DIY Electronics\n",
      "\n",
      "  * Programming\n",
      "\n",
      "  * Software & Apps\n",
      "\n",
      "  * Streaming Services\n",
      "\n",
      "  * Tech News & Discussion\n",
      "\n",
      "  * Virtual & Augmented Reality\n",
      "\n",
      "* Pop Culture\n",
      "\n",
      "  * Celebrities\n",
      "\n",
      "  * Creators & Influencers\n",
      "\n",
      "  * Generations & Nostalgia\n",
      "\n",
      "  * Podcasts\n",
      "\n",
      "  * Streamers\n",
      "\n",
      "  * Tarot & Astrology\n",
      "\n",
      "* Movies & TV\n",
      "\n",
      "  * Action Movies & Series\n",
      "\n",
      "  * Animated Movies & Series\n",
      "\n",
      "  * Comedy Movies & Series\n",
      "\n",
      "  * Crime, Mystery, & Thriller Movies & Series\n",
      "\n",
      "  * Documentary Movies & Series\n",
      "\n",
      "  * Drama Movies & Series\n",
      "\n",
      "  * Fantasy Movies & Series\n",
      "\n",
      "  * Horror Movies & Series\n",
      "\n",
      "  * Movie News & Discussion\n",
      "\n",
      "  * Reality TV\n",
      "\n",
      "  * Romance Movies & Series\n",
      "\n",
      "  * Sci-Fi Movies & Series\n",
      "\n",
      "  * Superhero Movies & Series\n",
      "\n",
      "  * TV News & Discussion\n",
      "\n",
      "* * *\n",
      "\n",
      "* RESOURCES\n",
      "\n",
      "* About Reddit\n",
      "\n",
      "* Advertise\n",
      "\n",
      "* Reddit Pro\n",
      "\n",
      "BETA\n",
      "\n",
      "* Help\n",
      "\n",
      "* Blog\n",
      "\n",
      "* Careers\n",
      "\n",
      "* Press\n",
      "\n",
      "* * *\n",
      "\n",
      "* Communities\n",
      "\n",
      "* Best of Reddit\n",
      "\n",
      "* Topics\n",
      "\n",
      "\n"
     ]
    }
   ],
   "source": [
    "from langchain.document_loaders import AsyncHtmlLoader\n",
    "from langchain.document_transformers import Html2TextTransformer\n",
    "\n",
    "# load html content from site\n",
    "site_loader = AsyncHtmlLoader(list(target_url_set))\n",
    "scraped_docs = site_loader.load()\n",
    "\n",
    "# convert to text data\n",
    "text_trns = Html2TextTransformer()\n",
    "text_docs = text_trns.transform_documents(scraped_docs)\n",
    "\n",
    "cleaned_text = text_docs[0].page_content\n",
    "print(cleaned_text)"
   ]
  },
  {
   "cell_type": "markdown",
   "id": "1587a70e-f2b1-4722-b862-129f89608adc",
   "metadata": {},
   "source": [
    "## Chunking data"
   ]
  },
  {
   "cell_type": "code",
   "execution_count": 15,
   "id": "9bf865b1-dadf-43d4-b46a-26d5d4137b8c",
   "metadata": {},
   "outputs": [
    {
     "name": "stdout",
     "output_type": "stream",
     "text": [
      "174\n"
     ]
    }
   ],
   "source": [
    "from langchain_text_splitters import RecursiveCharacterTextSplitter\n",
    "\n",
    "text_splitter = RecursiveCharacterTextSplitter(chunk_size=1000, chunk_overlap=200)\n",
    "splits = text_splitter.split_documents(text_docs)\n",
    "print(len(splits))"
   ]
  },
  {
   "cell_type": "markdown",
   "id": "625c41f5-ea37-4f7d-84a4-66e82d70992b",
   "metadata": {},
   "source": [
    "## Embedding chunks and creating retriever"
   ]
  },
  {
   "cell_type": "code",
   "execution_count": 16,
   "id": "de709e50-b181-424e-96e2-8ac2641da4b0",
   "metadata": {},
   "outputs": [],
   "source": [
    "from langchain_chroma import Chroma\n",
    "from langchain_openai import OpenAIEmbeddings\n",
    "\n",
    "vectorstore = Chroma.from_documents(documents=splits, embedding=OpenAIEmbeddings())\n",
    "\n",
    "retriever = vectorstore.as_retriever()"
   ]
  },
  {
   "cell_type": "markdown",
   "id": "689ad731-c49d-4830-805f-21fa084fbbe3",
   "metadata": {},
   "source": [
    "## Web search tool\n",
    "- searches query, gets top results, parses, chunks and embeds"
   ]
  },
  {
   "cell_type": "code",
   "execution_count": 17,
   "id": "397f0227-1f5f-4c32-9b76-0def46c8820c",
   "metadata": {},
   "outputs": [],
   "source": [
    "from langchain.agents import Tool"
   ]
  },
  {
   "cell_type": "code",
   "execution_count": 18,
   "id": "aee0e6fd-ff91-4aba-b037-91f9c0f55e15",
   "metadata": {},
   "outputs": [],
   "source": [
    "def web_search_and_ingest(query):\n",
    "    # first search query via CSE\n",
    "\n",
    "    #query = search_query.replace('+', ' ')\n",
    "\n",
    "    cse_url = 'https://www.googleapis.com/customsearch/v1'\n",
    "    cse_params = {\n",
    "        'q': query,\n",
    "        'key': cse_key,\n",
    "        'cx': cse_id\n",
    "    }\n",
    "    \n",
    "    response = requests.get(cse_url, cse_params)\n",
    "\n",
    "    # obtain first k urls\n",
    "\n",
    "    cse_results = response.json()\n",
    "\n",
    "    target_url_set = set()\n",
    "    \n",
    "    if 'items' in cse_results:\n",
    "        for result in cse_results['items']:\n",
    "            if len(target_url_set) >= 5:    # number of search results (need to add macro)\n",
    "                break\n",
    "            else:\n",
    "                target_url_set.add(result['link'])\n",
    "    \n",
    "    # scrape links\n",
    "\n",
    "    site_loader = AsyncHtmlLoader(list(target_url_set))\n",
    "    scraped_docs = site_loader.load()\n",
    "    \n",
    "    text_trns = Html2TextTransformer()\n",
    "    text_docs = text_trns.transform_documents(scraped_docs)\n",
    "\n",
    "    # split and embed\n",
    "\n",
    "    splits = text_splitter.split_documents(text_docs)\n",
    "    vectorstore.add_documents(documents=splits)"
   ]
  },
  {
   "cell_type": "code",
   "execution_count": 19,
   "id": "d399d884-7607-4d7e-b9a7-741fdc66f537",
   "metadata": {},
   "outputs": [],
   "source": [
    "# creating tool for function\n",
    "\n",
    "web_search_tool = Tool(\n",
    "    name=\"WebSearch\",\n",
    "    func=web_search_and_ingest,\n",
    "    description=\"Use when current context is insufficient or up-to-date info is required.\"\n",
    ")"
   ]
  },
  {
   "cell_type": "markdown",
   "id": "8fe2f111-a352-419a-99d9-8ab693eef8bc",
   "metadata": {},
   "source": [
    "## Vector db retriever tool\n",
    "- searches vector db for query"
   ]
  },
  {
   "cell_type": "code",
   "execution_count": 20,
   "id": "702ff6d3-e739-4766-afaa-abd44f50fc1d",
   "metadata": {},
   "outputs": [],
   "source": [
    "def vector_search(query):\n",
    "    return retriever.invoke(query)"
   ]
  },
  {
   "cell_type": "code",
   "execution_count": 21,
   "id": "abee192f-e038-4959-b6fe-15ccd7dac32b",
   "metadata": {},
   "outputs": [],
   "source": [
    "# creating tool for function\n",
    "\n",
    "vector_search_tool = Tool(\n",
    "    name=\"VectorSearch\",\n",
    "    func=vector_search,\n",
    "    description=\"Use when you believe the answer may be in the current database.\"\n",
    ")"
   ]
  },
  {
   "cell_type": "markdown",
   "id": "36ec3892-def9-4415-b71a-5aa585077c5d",
   "metadata": {},
   "source": [
    "## Overall tool stuff"
   ]
  },
  {
   "cell_type": "code",
   "execution_count": 22,
   "id": "cef2a8a5-46a1-4c09-9f60-d57d1cd626f4",
   "metadata": {},
   "outputs": [],
   "source": [
    "tools = [web_search_tool, vector_search_tool]"
   ]
  },
  {
   "cell_type": "markdown",
   "id": "52eb8f4e-d992-4dbf-a86e-d2f532ff112f",
   "metadata": {},
   "source": [
    "## Comparing non-rag answer and rag answer"
   ]
  },
  {
   "cell_type": "code",
   "execution_count": 23,
   "id": "2efaf4e0-adbb-49f3-81b7-aa2485468a26",
   "metadata": {},
   "outputs": [],
   "source": [
    "non_rag_answer = llm.invoke(user_prompt)"
   ]
  },
  {
   "cell_type": "code",
   "execution_count": 24,
   "id": "c546a57f-05f6-4b2f-8884-e74a206ec292",
   "metadata": {},
   "outputs": [
    {
     "name": "stdout",
     "output_type": "stream",
     "text": [
      "As of my last update in October 2023, I don't have access to real-time data on newly released LEGO sets. However, LEGO typically releases new sets regularly throughout the year, including seasonal sets, themes based on popular movies and franchises, and original LEGO themes.\n",
      "\n",
      "For the most current LEGO sets, I recommend checking the official LEGO website or major retailers that carry LEGO products. They often feature the latest releases, including promotional items and exclusive sets. Additionally, fan sites and LEGO enthusiast communities frequently share information about new releases and upcoming sets.\n"
     ]
    }
   ],
   "source": [
    "print(non_rag_answer.content)"
   ]
  },
  {
   "cell_type": "code",
   "execution_count": 25,
   "id": "27980650-39ff-47bd-b462-9c54827c5a66",
   "metadata": {},
   "outputs": [],
   "source": [
    "from langchain_core.prompts import MessagesPlaceholder\n",
    "\n",
    "rag_system_prompt = (\n",
    "    \"You are an assistant for question-answering tasks. \"\n",
    "    \"Use the following pieces of retrieved context to answer \"\n",
    "    \"the question. If you don't know the answer, say that you \"\n",
    "    \"don't know. Make your answers fairly detailed. Remember that the current date is July 2025\"\n",
    "    \"\\n\\n\"\n",
    "    \"{context}\"\n",
    ")\n",
    "\n",
    "rag_prompt = ChatPromptTemplate.from_messages(\n",
    "    [\n",
    "        (\"system\", rag_system_prompt),\n",
    "        MessagesPlaceholder(variable_name = \"memory\"),    # injecting convo memory\n",
    "        (\"human\", \"{input}\"),\n",
    "    ]\n",
    ")"
   ]
  },
  {
   "cell_type": "code",
   "execution_count": 26,
   "id": "9c1c0f15-972d-4169-83fe-57dde4c7a518",
   "metadata": {},
   "outputs": [],
   "source": [
    "from langchain.chains import create_retrieval_chain\n",
    "from langchain.chains.combine_documents import create_stuff_documents_chain\n",
    "\n",
    "question_answer_chain = create_stuff_documents_chain(llm, rag_prompt)\n",
    "rag_chain = create_retrieval_chain(retriever, question_answer_chain)"
   ]
  },
  {
   "cell_type": "markdown",
   "id": "3469a499-ab98-4ed4-b1fe-47c7b60d2c8d",
   "metadata": {},
   "source": [
    "## Adding temp convo memory"
   ]
  },
  {
   "cell_type": "code",
   "execution_count": 27,
   "id": "3b01fd17-26b3-4c9a-81a0-ccb3dc700f0a",
   "metadata": {},
   "outputs": [],
   "source": [
    "from langchain_core.prompts import HumanMessagePromptTemplate\n",
    "from langchain.memory import ConversationBufferMemory\n",
    "from langchain.memory import FileChatMessageHistory\n",
    "from langchain_core.runnables.history import RunnableWithMessageHistory"
   ]
  },
  {
   "cell_type": "code",
   "execution_count": 28,
   "id": "987b01b6-e20c-45a7-aaed-935f61d51e95",
   "metadata": {},
   "outputs": [],
   "source": [
    "# rag_memory = ConversationBufferMemory(\n",
    "#     chat_memory = FileChatMessageHistory(\"messages.json\"),\n",
    "#     memory_key = \"history\",\n",
    "#     return_messages = True\n",
    "# )\n",
    "\n",
    "rag_memory = FileChatMessageHistory(\"messages.json\")"
   ]
  },
  {
   "cell_type": "code",
   "execution_count": 29,
   "id": "7a7625c7-3bd2-4770-819b-46b436a5532c",
   "metadata": {},
   "outputs": [],
   "source": [
    "def get_rag_mem(_):\n",
    "    return rag_memory"
   ]
  },
  {
   "cell_type": "code",
   "execution_count": 30,
   "id": "318a1e45-a73d-4364-888d-07f75c6f14a6",
   "metadata": {},
   "outputs": [],
   "source": [
    "rag_mem_chain = RunnableWithMessageHistory(\n",
    "    rag_chain,\n",
    "    get_rag_mem,\n",
    "    input_messages_key=\"input\",\n",
    "    history_messages_key=\"memory\",\n",
    "    output_messages_key=\"answer\"\n",
    ")"
   ]
  },
  {
   "cell_type": "code",
   "execution_count": 31,
   "id": "b1cc7080-073f-4a06-9186-7519736c54dc",
   "metadata": {},
   "outputs": [],
   "source": [
    "rag_answer = rag_mem_chain.invoke({\"input\": user_prompt}, config={\"configurable\": {\"session_id\": \"irrelevant\"}})"
   ]
  },
  {
   "cell_type": "code",
   "execution_count": 32,
   "id": "4a457605-327e-4e8b-a3b9-def190771c86",
   "metadata": {},
   "outputs": [],
   "source": [
    "# print(rag_answer[\"context\"])"
   ]
  },
  {
   "cell_type": "code",
   "execution_count": 33,
   "id": "2110049a-e94d-4d45-94c4-ea5b2736f33c",
   "metadata": {},
   "outputs": [
    {
     "name": "stdout",
     "output_type": "stream",
     "text": [
      "4\n"
     ]
    }
   ],
   "source": [
    "src_count = len(rag_answer[\"context\"])\n",
    "print(src_count)"
   ]
  },
  {
   "cell_type": "code",
   "execution_count": 34,
   "id": "8fa2d70c-08f0-4e55-bbac-fb51afc91f17",
   "metadata": {},
   "outputs": [
    {
     "name": "stdout",
     "output_type": "stream",
     "text": [
      "{'https://falconbricks.com/news/lego-2025-sets/'}\n"
     ]
    }
   ],
   "source": [
    "sources_set = set()\n",
    "\n",
    "for i in range(src_count):\n",
    "    sources_set.add(rag_answer[\"context\"][i].metadata[\"source\"])\n",
    "\n",
    "print(sources_set)"
   ]
  },
  {
   "cell_type": "markdown",
   "id": "93039db2-3273-45e8-aff5-9452bd619c31",
   "metadata": {},
   "source": [
    "Rag Answer:"
   ]
  },
  {
   "cell_type": "code",
   "execution_count": 35,
   "id": "923f44b3-814c-4d4f-8272-29e438fd3395",
   "metadata": {},
   "outputs": [
    {
     "name": "stdout",
     "output_type": "stream",
     "text": [
      "As of July 2025, several new LEGO sets have been announced or released across various themes. Here’s a detailed look at some of the sets:\n",
      "\n",
      "### 1. **LEGO Icons**\n",
      "   - **2025 Modular Building**\n",
      "     - A highly anticipated addition to the Modular Building series, this set features a detailed design that encourages customization and integration with previous modular sets.\n",
      "\n",
      "   - **Botanical Collection Flowers**\n",
      "     - New sets in the Botanical Collection are being released, which include more intricate flower builds, perfect for those who appreciate both LEGO and home decor.\n",
      "\n",
      "   - **New Licenses**\n",
      "     - Exciting large sets are anticipated based on popular franchises such as **Lord of the Rings, The Simpsons, Pirates of the Caribbean,** and **Star Trek**.\n",
      "\n",
      "### 2. **LEGO Technic**\n",
      "   - **New LEGO Technic Sets**\n",
      "     - A total of **19 new LEGO Technic sets** are rumored for 2025, including two significant **Formula 1 cars** that are likely to appeal to motorsport fans.\n",
      "\n",
      "### 3. **LEGO Star Wars**\n",
      "   - **29 New Sets**\n",
      "     - A robust lineup of **29 new LEGO Star Wars sets** has been announced, with six sets set to debut in January. This includes a highly anticipated **UCS Death Star II**, which will be released later in the year and is expected to be a centerpiece for collectors.\n",
      "\n",
      "### 4. **LEGO BrickHeadz**\n",
      "   - **Tom & Jerry**\n",
      "     - The first new LEGO BrickHeadz for 2025 will be **Tom & Jerry**, available starting January 1, 2025. Additional BrickHeadz sets featuring characters from **Disney, Transformers,** and **Star Wars** are also set to release later.\n",
      "\n",
      "### 5. **LEGO Friends and City**\n",
      "   - **LEGO Friends**\n",
      "     - New sets are being released in the LEGO Friends line which typically include scenes from everyday life and friendship-based themes.\n",
      "\n",
      "   - **LEGO City**\n",
      "     - LEGO City is expected to see **36 new sets** in 2025, emphasizing community life and showcasing various professions, including multiple **Formula 1** sets that tie into the Technic lineup.\n",
      "\n",
      "### 6. **LEGO Ninjago and Themes**\n",
      "   - There are also new releases lined up for LEGO Ninjago and other themes, ensuring that fans of all ages have exciting new builds to look forward to.\n",
      "\n",
      "These new LEGO sets highlight the diversity in themes and creativity within the LEGO universe, appealing to collectors, hobbyists, and younger builders alike as they explore varied storylines, characters, and building techniques throughout 2025.\n"
     ]
    }
   ],
   "source": [
    "print(rag_answer[\"answer\"])"
   ]
  },
  {
   "cell_type": "code",
   "execution_count": 36,
   "id": "219fc580-85f3-4507-ac3a-a8eb35d318a8",
   "metadata": {},
   "outputs": [
    {
     "name": "stdout",
     "output_type": "stream",
     "text": [
      "Citations:\n",
      "https://falconbricks.com/news/lego-2025-sets/\n"
     ]
    }
   ],
   "source": [
    "print(\"Citations:\")\n",
    "for src in sources_set:\n",
    "    print(src)"
   ]
  },
  {
   "cell_type": "code",
   "execution_count": 37,
   "id": "c5d7211b-eb21-413f-bcc9-a5bbdaa89ae7",
   "metadata": {},
   "outputs": [],
   "source": [
    "# no memory?"
   ]
  },
  {
   "cell_type": "code",
   "execution_count": 38,
   "id": "6305943b-af7c-45b6-ae71-116a58f3dde3",
   "metadata": {},
   "outputs": [],
   "source": [
    "rag_answer = rag_mem_chain.invoke({\"input\": \"Could you elaborate?\"}, config={\"configurable\": {\"session_id\": \"irrelevant\"}})"
   ]
  },
  {
   "cell_type": "code",
   "execution_count": 39,
   "id": "9a3230f9-1c47-42a1-862a-60e8849119ab",
   "metadata": {},
   "outputs": [
    {
     "name": "stdout",
     "output_type": "stream",
     "text": [
      "Of course! Here's a more detailed breakdown of some notable new LEGO sets that are either recently released or slated for release in 2025:\n",
      "\n",
      "### 1. **LEGO Icons**\n",
      "   - **2025 Modular Building**: \n",
      "     - While specific details have yet to be fully disclosed, this new modular building is expected to include intricate architectural features that align with previous modular sets. Design elements typically seen in these sets might include a mix of residential and commercial features, along with minifigures that add to the storyline of the set.\n",
      "   - **Botanical Collection Flowers**:\n",
      "     - This collection, which focuses on plants and flowers, continues to expand with new sets that provide intricate builds. These sets are designed for display and often feature highly detailed parts that mimic real flowers, making them an excellent choice for home decor.\n",
      "\n",
      "### 2. **LEGO Technic**\n",
      "   - **New LEGO Technic Sets (2025)**: \n",
      "     - A total of **19 new sets** are anticipated within the LEGO Technic lineup. This often includes complex vehicles that encourage understanding of mechanics and engineering principles.\n",
      "   - **Formula 1 Cars**:\n",
      "     - Among these Technic sets, two significant Formula 1 cars will be created, tapping into the popularity of racing themes and catering to both LEGO fans and motorsport enthusiasts. These sets are expected to feature detailed representations of actual F1 cars, including working components like steering and engines.\n",
      "\n",
      "### 3. **LEGO Star Wars**\n",
      "   - **29 New LEGO Star Wars Sets**: \n",
      "     - The LEGO Star Wars theme continues to thrive with the announcement of **29 new sets** for 2025. This includes a mix of microfighters, battle packs, and larger display sets.\n",
      "   - **UCS Death Star II**:\n",
      "     - A highly anticipated set that fans are looking forward to, the UCS Death Star II is expected to be launched later in the year. This Ultimate Collector Series set typically presents a complex build aimed at serious collectors, featuring detailed interiors and exterior designs that capture the essence of the iconic Star Wars space station.\n",
      "\n",
      "### 4. **LEGO BrickHeadz**\n",
      "   - **Tom & Jerry**:\n",
      "     - This new addition to the BrickHeadz lineup features the classic cartoon duo, Tom and Jerry. Designed in the signature BrickHeadz style, these sets are known for their playful aesthetic and collectible nature. They will be available starting January 1, 2025.\n",
      "   - **Expansion into Other Franchises**:\n",
      "     - The BrickHeadz theme appears to be expanding into various franchises, with upcoming sets expected to include beloved characters from **Disney, Transformers,** and **Star Wars**, allowing fans to collect their favorite characters in this unique format.\n",
      "\n",
      "### 5. **LEGO Friends and LEGO City**\n",
      "   - **LEGO Friends Sets**:\n",
      "     - The LEGO Friends theme continues to thrive, with new releases that often depict scenarios around friendship and community activities. Sets typically come with vibrant colors, engaging builds, and characters that reflect diverse interests and backgrounds, aimed at inspiring imaginative play.\n",
      "   - **LEGO City (36 New Sets)**:\n",
      "     - The LEGO City theme often emphasizes realism and occupation-based storylines, and in 2025, **36 new sets** will be introduced. This includes an array of modular buildings, vehicles, and action-packed rescue scenarios that encourage interactive play. There may be several Formula 1 themed sets to align with the Technic offerings.\n",
      "\n",
      "### 6. **LEGO Ninjago and Other Themes**\n",
      "   - New sets for LEGO Ninjago will continue to expand its legacy of combining action, adventure, and storytelling through fun builds. Elements often include intricate dragon designs, ninjas, and villain characters that offer creative building opportunities.\n",
      "   - Beyond these, there may be additional connections to popular culture and fresh storylines to keep the themes engaging for both new and seasoned LEGO fans.\n",
      "\n",
      "### Conclusion\n",
      "Overall, the LEGO set lineup for 2025 promises to deliver a diverse array of options covering various interests—be it traditional building, popular cinema and television franchises, or innovative themes for younger builders. This continues LEGO's commitment to fostering creativity and imaginative storytelling through building.\n"
     ]
    }
   ],
   "source": [
    "print(rag_answer[\"answer\"])"
   ]
  },
  {
   "cell_type": "code",
   "execution_count": 40,
   "id": "5210a580-8b1a-4768-b828-526d4e164e37",
   "metadata": {},
   "outputs": [
    {
     "name": "stdout",
     "output_type": "stream",
     "text": [
      "Citations:\n",
      "https://jaysbrickblog.com/list-of-lego-sets-2025/\n",
      "https://falconbricks.com/news/lego-2025-sets/\n",
      "https://www.lego.com/en-us/categories/coming-soon\n"
     ]
    }
   ],
   "source": [
    "src_count = len(rag_answer[\"context\"])\n",
    "\n",
    "sources_set = set()\n",
    "\n",
    "for i in range(src_count):\n",
    "    sources_set.add(rag_answer[\"context\"][i].metadata[\"source\"])\n",
    "\n",
    "print(\"Citations:\")\n",
    "for src in sources_set:\n",
    "    print(src)"
   ]
  },
  {
   "cell_type": "code",
   "execution_count": 41,
   "id": "449164aa-adbb-4318-b4a1-2e13fb5e94c8",
   "metadata": {},
   "outputs": [],
   "source": [
    "rag_answer = rag_mem_chain.invoke({\"input\": \"What are some new video games that were released\"}, config={\"configurable\": {\"session_id\": \"irrelevant\"}})"
   ]
  },
  {
   "cell_type": "code",
   "execution_count": 42,
   "id": "1aa60d4d-6a25-497a-8f81-8fa5269956b0",
   "metadata": {},
   "outputs": [
    {
     "name": "stdout",
     "output_type": "stream",
     "text": [
      "As of July 2025, several exciting video games have recently been released or are scheduled for release that are generating buzz among gamers. Here’s a detailed overview of some of the notable titles:\n",
      "\n",
      "### 1. **The Legend of Zelda: Breath of the Wild 2**\n",
      "   - **Release Date**: May 2025\n",
      "   - **Overview**: This highly anticipated sequel builds on the critically acclaimed original game, expanding the open world of Hyrule with new locations, gameplay mechanics, and an engaging narrative. Players can explore the skies above Hyrule, solve puzzles, and encounter new enemies and allies, all in stunning graphics indicative of the advancements made since the first game.\n",
      "\n",
      "### 2. **Final Fantasy VII Rebirth**\n",
      "   - **Release Date**: March 2025\n",
      "   - **Overview**: This game continues the reimagined story of Cloud Strife and his companions, following the events of the first part, Final Fantasy VII Remake. Players can expect new gameplay mechanics, redefined characters, and expansive environments that enhance the narrative experience, showcasing the deep lore and complex relationships within the world of Final Fantasy.\n",
      "\n",
      "### 3. **Star Wars: Knights of the Old Republic Remake**\n",
      "   - **Release Date**: April 2025\n",
      "   - **Overview**: This remake revitalizes the classic RPG with modern graphics, sound, and gameplay enhancements. Players will once again immerse themselves in the rich storytelling and character development that made the original a fan favorite, exploring the vast universe of Star Wars and making impactful choices that shape their character's journey.\n",
      "\n",
      "### 4. **Spider-Man 2**\n",
      "   - **Release Date**: June 2025\n",
      "   - **Overview**: A sequel to the hit Spider-Man game, this title allows players to control both Peter Parker and Miles Morales, navigating an expansive New York City. The game features new gameplay mechanics, villains, and a multi-layered narrative that deepens the character arcs and relationships, providing an immersive superhero experience.\n",
      "\n",
      "### 5. **Hogwarts Legacy: Year 2 Updates**\n",
      "   - **Release Date**: June 2025\n",
      "   - **Overview**: Following the success of the base game, several updates were released, introducing new content, storylines, characters, and gameplay improvements. This keeps the experience fresh for players returning to the magical world of Hogwarts School of Witchcraft and Wizardry.\n",
      "\n",
      "### 6. **Call of Duty: Modern Warfare III**\n",
      "   - **Release Date**: May 2025\n",
      "   - **Overview**: Continuing the Modern Warfare saga, this installment brings new maps, modes, and a gripping campaign that expands on the narratives established in previous games. With a focus on multiplayer experiences, this title retains its reputation for fast-paced and tactical gameplay.\n",
      "\n",
      "### 7. **Elden Ring: Shadows of the Past Expansion**\n",
      "   - **Release Date**: July 2025\n",
      "   - **Overview**: This expansion to the beloved Elden Ring introduces new areas, bosses, and lore, deepening the already rich world. With gameplay enhancements and additional challenges, it invites players back to explore the haunting beauty and brutal difficulty that the game is known for.\n",
      "\n",
      "### 8. **Assassin’s Creed: Nexus**\n",
      "   - **Release Date**: March 2025\n",
      "   - **Overview**: Set across multiple historical settings, this title follows a new character through an intertwining narrative involving various Assassins across time. Players can expect a mix of stealth, exploration, and combat, with an emphasis on the trademark parkour style that the series is known for.\n",
      "\n",
      "These titles reflect a vibrant gaming landscape in 2025, with offerings across various genres, from RPGs to action-adventures, ensuring a broad appeal to gamers of all preferences. Exciting gameplay mechanics, well-crafted narratives, and stunning visuals contribute to the overall appeal of these new releases, keeping players engaged and eager for new adventures.\n"
     ]
    }
   ],
   "source": [
    "print(rag_answer[\"answer\"])"
   ]
  },
  {
   "cell_type": "code",
   "execution_count": 43,
   "id": "2b12252a-959d-4626-83fa-7ba114bdf383",
   "metadata": {},
   "outputs": [
    {
     "name": "stdout",
     "output_type": "stream",
     "text": [
      "Citations:\n",
      "https://falconbricks.com/news/lego-2025-sets/\n",
      "https://falconbricks.com/news/lego-june-2025-sets/\n",
      "https://www.reddit.com/r/legolotrfans/comments/1dbrchi/next_lego_lotr_sets_and_when_and_any_romours_for/\n"
     ]
    }
   ],
   "source": [
    "src_count = len(rag_answer[\"context\"])\n",
    "\n",
    "sources_set = set()\n",
    "\n",
    "for i in range(src_count):\n",
    "    sources_set.add(rag_answer[\"context\"][i].metadata[\"source\"])\n",
    "\n",
    "print(\"Citations:\")\n",
    "for src in sources_set:\n",
    "    print(src)"
   ]
  },
  {
   "cell_type": "markdown",
   "id": "457512fb-8872-411f-8675-9e0409e71918",
   "metadata": {},
   "source": [
    "## Testing conversational capabilities with agentic search and retrieval"
   ]
  },
  {
   "cell_type": "code",
   "execution_count": 54,
   "id": "d4109317-2b38-4067-a6ea-30c417379d14",
   "metadata": {},
   "outputs": [],
   "source": [
    "from langchain.schema import SystemMessage\n",
    "from langchain.agents import initialize_agent\n",
    "\n",
    "system_prompt = '''\n",
    "You are an intelligent assistant.\n",
    "Keep in mind that it is July 2025.\n",
    "- First, always use VectorSearchTool to retrieve context for the user's question.\n",
    "- Judge whether the context is sufficient to answer: If the information is incomplete, outdated, or missing, call the WebSearch tool to search, ingest, and update the database, then try again.\n",
    "- Only use WebSearch tool if the current vector database does NOT suffice.\n",
    "Be cost-efficient: Do NOT call WebSearch for trivial/definition/basic/unchanged topics.\n",
    "'''\n",
    "\n",
    "system_message = SystemMessage(content=system_prompt)"
   ]
  },
  {
   "cell_type": "code",
   "execution_count": 65,
   "id": "0dfeec1d-639e-417c-bfe9-323963291ce9",
   "metadata": {},
   "outputs": [],
   "source": [
    "wrapped_mem = ConversationBufferMemory(\n",
    "    chat_memory = FileChatMessageHistory(\"messages_agentic.json\"),\n",
    "    memory_key = \"history\",\n",
    "    return_messages = True\n",
    ")"
   ]
  },
  {
   "cell_type": "code",
   "execution_count": 66,
   "id": "47af681d-5b96-497a-9f19-a05a6a0abbd0",
   "metadata": {},
   "outputs": [],
   "source": [
    "agent = initialize_agent(\n",
    "    tools,\n",
    "    llm,\n",
    "    agent = \"openai-functions\",\n",
    "    memory=wrapped_mem,\n",
    "    system_message=system_message,\n",
    "    verbose=True\n",
    ")"
   ]
  },
  {
   "cell_type": "code",
   "execution_count": 67,
   "id": "ed142d71-0d16-4284-aa70-fd96cc2b23e8",
   "metadata": {},
   "outputs": [
    {
     "name": "stdout",
     "output_type": "stream",
     "text": [
      "\n",
      "\n",
      "\u001b[1m> Entering new AgentExecutor chain...\u001b[0m\n",
      "\u001b[32;1m\u001b[1;3m\n",
      "Invoking: `WebSearch` with `new movie releases October 2023`\n",
      "\n",
      "\n",
      "\u001b[0m"
     ]
    },
    {
     "name": "stderr",
     "output_type": "stream",
     "text": [
      "Fetching pages: 100%|######################################################| 5/5 [00:08<00:00,  1.67s/it]\n"
     ]
    },
    {
     "name": "stdout",
     "output_type": "stream",
     "text": [
      "\u001b[36;1m\u001b[1;3mNone\u001b[0m\u001b[32;1m\u001b[1;3m\n",
      "Invoking: `VectorSearch` with `new movies 2023`\n",
      "\n",
      "\n",
      "\u001b[0m\u001b[33;1m\u001b[1;3m[Document(id='a3bbd1a2-89b2-4db5-aab3-7ff7521f64ca', metadata={'language': 'en', 'source': 'https://en.wikipedia.org/wiki/List_of_American_films_of_2023', 'title': 'List of American films of 2023 - Wikipedia'}, page_content='2010s  \\n2010 2011 2012 2013 2014  \\n2015 2016 2017 2018 2019  \\n2020s  \\n2020 2021 2022 2023 2024  \\n2025 2026 2027 2028  \\n  \\nThe following is a list of American films released in 2023. The year featured\\na diverse array of cinematic productions, ranging from major studio\\nblockbusters to independent and streaming platform releases. Notable films\\nincluded _Oppenheimer_ , a biographical drama directed by Christopher Nolan\\nexploring the life of physicist J. Robert Oppenheimer; _Barbie_ , a fantasy\\ncomedy starring Margot Robbie and Ryan Gosling; _The Super Mario Bros. Movie_\\n, the first billion dollar movie to be based off of a video game; _Guardians\\nof the Galaxy Vol. 3_ , directed by James Gunn as part of the Marvel Cinematic\\nUniverse; and _John Wick: Chapter 4_ , featuring Keanu Reeves reprising his\\nrole as the titular assassin.'), Document(id='2f69d4ba-2808-42a5-b957-2a37f50704a7', metadata={'source': 'https://en.wikipedia.org/wiki/List_of_American_films_of_2023', 'title': 'List of American films of 2023 - Wikipedia', 'language': 'en'}, page_content='76. **^** Fear, David (January 12, 2023). \"The Most Anticipated Movies of 2023\". _Rolling Stone_. Archived from the original on February 22, 2023. Retrieved February 22, 2023.\\n  77. **^** D\\'Alessandro, Anthony (February 1, 2023). \"IFC Moves Up Owen Wilson Vermont Painter Comedy Paint\\' – Update\". _Deadline Hollywood_. Archived from the original on February 3, 2023. Retrieved February 1, 2023.\\n  78. **^** Renner, Brian D. (June 26, 2022). \"Everything You Need to Know About On A Wing And A Prayer Movie (2023): Jun. 26, 2022 - set the MPAA rating to PG for peril, some language, suggestive references and thematic elements\". _Movie Insider_. Archived from the original on September 10, 2022. Retrieved September 10, 2022.\\n  79. **^** King, Aidan (March 1, 2023). \"\\'Chupa\\' Images Show Christian Slater in a New Supernatural Adventure\". _Collider_. Archived from the original on March 1, 2023. Retrieved March 1, 2023.'), Document(id='7bddd708-e4a6-4fbb-9899-24c16f0619ac', metadata={'language': 'en', 'source': 'https://en.wikipedia.org/wiki/List_of_American_films_of_2023', 'title': 'List of American films of 2023 - Wikipedia'}, page_content='39. ^ _**a**_ _**b**_ Cohen, Anne (January 18, 2023). \"New Movies Coming to Netflix in 2023\". _Netflix_. Archived from the original on May 24, 2022. Retrieved January 20, 2023.\\n  40. **^** Fleming, Mike Jr; Grobar, Matt (December 19, 2022). \"\\'Bruiser\\': Disney\\'s Onyx Collective Sets Hulu Premiere Date For Its First Narrative Feature Starring \\'Till\\'s Jalyn Hall & \\'Mike\\'s Trevante Rhodes – Update\". _Deadline Hollywood_. Archived from the original on December 20, 2022. Retrieved December 20, 2022.\\n  41. **^** Billington, Alex (January 10, 2023). \"Indie Film \\'Linoleum\\' Trailer with Jim Gaffigan as a Wannabe Astronaut\". _FirstShowing.net_. Archived from the original on January 16, 2023. Retrieved February 5, 2023.\\n  42. **^** Massoto, Erick (February 2, 2023). \"\\'God\\'s Time\\' Trailer Invites You on an Insane and Unpredictable Ride (Exclusive)\". _Collider_. Archived from the original on February 19, 2023. Retrieved February 18, 2023.'), Document(id='46356260-df31-414e-8bd5-83ceb80d848a', metadata={'source': 'https://en.wikipedia.org/wiki/List_of_American_films_of_2023', 'language': 'en', 'title': 'List of American films of 2023 - Wikipedia'}, page_content='1. **^** \"Domestic Box Office For 2023\". _Box Office Mojo_. Archived from the original on February 5, 2023. Retrieved April 1, 2024.\\n  2. **^** \"Movie Market Summary for Year 2023\". _The Numbers_. Archived from the original on February 20, 2023. Retrieved April 1, 2024.\\n  3. **^** Mendelson, Scott (October 19, 2022). \"Universal Shifts \\'M3GAN\\' Up To First Week In 2023\". _Forbes_. Archived from the original on November 4, 2022. Retrieved October 20, 2022.\\n  4. **^** Humphrey, Julia (November 17, 2022). \"Nicolas Cage Is a Gunslinger Out for Revenge in \\'The Old Way\\' Trailer\". _Collider_. Archived from the original on November 22, 2022. Retrieved November 19, 2022.\\n  5. **^** \"The Devil Conspiracy\". _Box Office Mojo_. Archived from the original on February 3, 2023. Retrieved February 3, 2023.')]\u001b[0m\u001b[32;1m\u001b[1;3mHere are some notable movies released in 2023:\n",
      "\n",
      "1. **Oppenheimer** - A biographical drama directed by Christopher Nolan that explores the life of physicist J. Robert Oppenheimer.\n",
      "2. **Barbie** - A fantasy comedy starring Margot Robbie and Ryan Gosling.\n",
      "3. **The Super Mario Bros. Movie** - An animated film based on the popular video game franchise, which became the first billion-dollar movie based on a video game.\n",
      "4. **Guardians of the Galaxy Vol. 3** - The latest installment in the Marvel Cinematic Universe, directed by James Gunn.\n",
      "5. **John Wick: Chapter 4** - The fourth film in the action franchise, featuring Keanu Reeves as the titular assassin.\n",
      "\n",
      "These films represent a mix of blockbuster hits and are from various genres, reflecting the diversity in cinema for the year. If you're looking for specific genres or more recent releases, let me know!\u001b[0m\n",
      "\n",
      "\u001b[1m> Finished chain.\u001b[0m\n"
     ]
    },
    {
     "data": {
      "text/plain": [
       "\"Here are some notable movies released in 2023:\\n\\n1. **Oppenheimer** - A biographical drama directed by Christopher Nolan that explores the life of physicist J. Robert Oppenheimer.\\n2. **Barbie** - A fantasy comedy starring Margot Robbie and Ryan Gosling.\\n3. **The Super Mario Bros. Movie** - An animated film based on the popular video game franchise, which became the first billion-dollar movie based on a video game.\\n4. **Guardians of the Galaxy Vol. 3** - The latest installment in the Marvel Cinematic Universe, directed by James Gunn.\\n5. **John Wick: Chapter 4** - The fourth film in the action franchise, featuring Keanu Reeves as the titular assassin.\\n\\nThese films represent a mix of blockbuster hits and are from various genres, reflecting the diversity in cinema for the year. If you're looking for specific genres or more recent releases, let me know!\""
      ]
     },
     "execution_count": 67,
     "metadata": {},
     "output_type": "execute_result"
    }
   ],
   "source": [
    "agent.run(\"what are some new movies?\")"
   ]
  },
  {
   "cell_type": "code",
   "execution_count": null,
   "id": "faab2053-5d8f-44e3-b0a1-32ddaa03c543",
   "metadata": {},
   "outputs": [],
   "source": []
  }
 ],
 "metadata": {
  "kernelspec": {
   "display_name": "Python 3 (ipykernel)",
   "language": "python",
   "name": "python3"
  },
  "language_info": {
   "codemirror_mode": {
    "name": "ipython",
    "version": 3
   },
   "file_extension": ".py",
   "mimetype": "text/x-python",
   "name": "python",
   "nbconvert_exporter": "python",
   "pygments_lexer": "ipython3",
   "version": "3.13.5"
  }
 },
 "nbformat": 4,
 "nbformat_minor": 5
}
