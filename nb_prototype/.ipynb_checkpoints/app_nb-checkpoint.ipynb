{
 "cells": [
  {
   "cell_type": "markdown",
   "id": "29de2ca2-7305-405c-9f2b-16520a0aa166",
   "metadata": {},
   "source": [
    "## Web-search RAG chatbot\n",
    "\n",
    "like perplexity\n",
    "\n",
    "v0.1 - no conversation, just question and answer based on web search\n",
    "\n",
    "process:\n",
    "1) receive prompt\n",
    "2) pass to LLM to create appropriate search terms for gathering data - start with just one\n",
    "3) perform web search with that, get top results and scrape and store as doc - start with just one result\n",
    "4) chunk data\n",
    "5) embed chunks\n",
    "6) store in vectordb\n",
    "7) link retriever to vecdb\n",
    "8) pass query with retriever to llm w/ langchain"
   ]
  },
  {
   "cell_type": "markdown",
   "id": "83a0a3ae-f038-4511-ac9f-41399b979f03",
   "metadata": {},
   "source": [
    "## 1) Receive prompt"
   ]
  },
  {
   "cell_type": "code",
   "execution_count": 3,
   "id": "145cb1de-e0b1-48ed-8ff0-5a4c3b83ee1e",
   "metadata": {},
   "outputs": [],
   "source": [
    "user_prompt = \"how fast is an F1 car?\""
   ]
  },
  {
   "cell_type": "markdown",
   "id": "2b5c3fc6-994b-4ad8-a895-6b921331097e",
   "metadata": {},
   "source": [
    "## 2) Pass to LLM to create search term"
   ]
  },
  {
   "cell_type": "code",
   "execution_count": 4,
   "id": "3d741a02-63b4-4fb0-80de-f94e1de88976",
   "metadata": {},
   "outputs": [],
   "source": [
    "import os\n",
    "from dotenv import load_dotenv, find_dotenv\n",
    "_ = load_dotenv(find_dotenv())\n",
    "openai_api_key = os.environ[\"OPENAI_API_KEY\"]"
   ]
  },
  {
   "cell_type": "code",
   "execution_count": 6,
   "id": "ad1f031c-8cea-4ba2-ae50-5daf4a2d51a7",
   "metadata": {},
   "outputs": [],
   "source": [
    "from langchain_openai import ChatOpenAI\n",
    "\n",
    "llm = ChatOpenAI(model=\"gpt-4o-mini\")"
   ]
  },
  {
   "cell_type": "code",
   "execution_count": 7,
   "id": "9ebe530f-dfb4-4fa9-9094-1912871da9ac",
   "metadata": {
    "editable": true,
    "slideshow": {
     "slide_type": ""
    },
    "tags": []
   },
   "outputs": [],
   "source": [
    "from langchain_core.prompts import ChatPromptTemplate\n",
    "from langchain_core.output_parsers import StrOutputParser\n",
    "from langchain_core.runnables import RunnablePassthrough\n",
    "\n",
    "system_prompt = (\n",
    "    \"You are an assistant for gathering data based on this prompt.\"\n",
    "    \"Use the following prompt to generate one web search query that would gather data which would be helpful in answering the prompt.\"\n",
    "    \"Your search query should be effective at finding the most relevant and useful data pertaining to the prompt.\"\n",
    "    \"Keep in mind that the current date is July 2025\"\n",
    "    \"\\n\\n\"\n",
    "    \"{input}\"\n",
    ")\n",
    "\n",
    "search_query_prompt = ChatPromptTemplate.from_messages(\n",
    "    [\n",
    "        (\"system\", system_prompt),\n",
    "        (\"human\", \"{input}\"),\n",
    "    ]\n",
    ")"
   ]
  },
  {
   "cell_type": "code",
   "execution_count": 8,
   "id": "f6384447-281f-41bf-8ddd-322ce5a96335",
   "metadata": {},
   "outputs": [],
   "source": [
    "search_query_gen_chain = {\"input\": RunnablePassthrough()} | search_query_prompt | llm | StrOutputParser()"
   ]
  },
  {
   "cell_type": "code",
   "execution_count": 9,
   "id": "33cb2e18-0264-4823-984f-0238103ee661",
   "metadata": {},
   "outputs": [
    {
     "name": "stderr",
     "output_type": "stream",
     "text": [
      "Failed to multipart ingest runs: langsmith.utils.LangSmithError: Failed to POST https://api.smith.langchain.com/runs/multipart in LangSmith API. HTTPError('403 Client Error: Forbidden for url: https://api.smith.langchain.com/runs/multipart', '{\"error\":\"Forbidden\"}\\n')\n",
      "Failed to send compressed multipart ingest: langsmith.utils.LangSmithError: Failed to POST https://api.smith.langchain.com/runs/multipart in LangSmith API. HTTPError('403 Client Error: Forbidden for url: https://api.smith.langchain.com/runs/multipart', '{\"error\":\"Forbidden\"}\\n')\n",
      "Failed to send compressed multipart ingest: langsmith.utils.LangSmithError: Failed to POST https://api.smith.langchain.com/runs/multipart in LangSmith API. HTTPError('403 Client Error: Forbidden for url: https://api.smith.langchain.com/runs/multipart', '{\"error\":\"Forbidden\"}\\n')\n"
     ]
    }
   ],
   "source": [
    "import ast\n",
    "\n",
    "search_query = search_query_gen_chain.invoke(user_prompt)\n",
    "search_query = ast.literal_eval(search_query)"
   ]
  },
  {
   "cell_type": "code",
   "execution_count": 10,
   "id": "0e1d968d-98c4-4182-be1a-d6f2a49ec1b8",
   "metadata": {},
   "outputs": [],
   "source": [
    "search_query = search_query.replace(' ', '+')"
   ]
  },
  {
   "cell_type": "code",
   "execution_count": 11,
   "id": "276383d8-edaf-4677-bbce-c1681b9b2c02",
   "metadata": {},
   "outputs": [
    {
     "data": {
      "text/plain": [
       "'current+F1+car+top+speed+2025'"
      ]
     },
     "execution_count": 11,
     "metadata": {},
     "output_type": "execute_result"
    }
   ],
   "source": [
    "search_query"
   ]
  },
  {
   "cell_type": "code",
   "execution_count": 12,
   "id": "25121243-d8aa-4f27-b654-2e24b48dec85",
   "metadata": {},
   "outputs": [],
   "source": [
    "google_search_url = f\"https://www.google.com/search?q={search_query}\""
   ]
  },
  {
   "cell_type": "code",
   "execution_count": 13,
   "id": "63a61b53-07e0-4743-89f6-a071847e170f",
   "metadata": {},
   "outputs": [
    {
     "data": {
      "text/plain": [
       "'https://www.google.com/search?q=current+F1+car+top+speed+2025'"
      ]
     },
     "execution_count": 13,
     "metadata": {},
     "output_type": "execute_result"
    }
   ],
   "source": [
    "google_search_url"
   ]
  },
  {
   "cell_type": "code",
   "execution_count": 17,
   "id": "1c6b7416-b554-4dbc-9bda-90ac9319af2f",
   "metadata": {},
   "outputs": [
    {
     "data": {
      "text/plain": [
       "<Response [200]>"
      ]
     },
     "execution_count": 17,
     "metadata": {},
     "output_type": "execute_result"
    }
   ],
   "source": [
    "import requests\n",
    "\n",
    "search_response = requests.get(url=google_search_url)\n",
    "search_response"
   ]
  },
  {
   "cell_type": "code",
   "execution_count": 23,
   "id": "3dc46018-9552-4f11-b265-b98f9ff5e25d",
   "metadata": {},
   "outputs": [],
   "source": [
    "from bs4 import BeautifulSoup\n",
    "\n",
    "soup = BeautifulSoup(search_response.text, \"html.parser\")\n",
    "found_links = soup.find_all(\"a\")"
   ]
  },
  {
   "cell_type": "code",
   "execution_count": 24,
   "id": "270580e8-f48f-48f4-a3f4-c33d3e16837b",
   "metadata": {},
   "outputs": [
    {
     "data": {
      "text/plain": [
       "[<a href=\"/?sa=X&amp;ved=0ahUKEwjQj9qlysGOAxXQXGwGHQXCBB0QOwgC\"><span class=\"V6gwVd\">G</span><span class=\"iWkuvd\">o</span><span class=\"cDrQ7\">o</span><span class=\"V6gwVd\">g</span><span class=\"ntlR9\">l</span><span class=\"iWkuvd tJ3Myc\">e</span></a>,\n",
       " <a href=\"/search?q=current+F1+car+top+speed+2025&amp;sca_esv=8d3052da52eb7266&amp;ie=UTF-8&amp;gbv=1&amp;sei=_bV3aJCdK9C5seMPhYST6AE\">here</a>,\n",
       " <a class=\"eZt8xd\" href=\"/search?q=current+F1+car+top+speed+2025&amp;sca_esv=8d3052da52eb7266&amp;ie=UTF-8&amp;tbm=isch&amp;source=lnms&amp;sa=X&amp;ved=0ahUKEwjQj9qlysGOAxXQXGwGHQXCBB0Q_AUIBigB\">Images</a>,\n",
       " <a class=\"eZt8xd\" href=\"/search?q=current+F1+car+top+speed+2025&amp;sca_esv=8d3052da52eb7266&amp;ie=UTF-8&amp;tbm=vid&amp;source=lnms&amp;sa=X&amp;ved=0ahUKEwjQj9qlysGOAxXQXGwGHQXCBB0Q_AUIBygC\">Videos</a>,\n",
       " <a class=\"eZt8xd\" href=\"/search?q=current+F1+car+top+speed+2025&amp;sca_esv=8d3052da52eb7266&amp;ie=UTF-8&amp;tbm=nws&amp;source=lnms&amp;sa=X&amp;ved=0ahUKEwjQj9qlysGOAxXQXGwGHQXCBB0Q_AUICCgD\">News</a>,\n",
       " <a href=\"/url?q=https://maps.google.com/maps%3Fq%3Dcurrent%2BF1%2Bcar%2Btop%2Bspeed%2B2025%26um%3D1%26ie%3DUTF-8%26ved%3D1t:200713%26ictx%3D111&amp;opi=89978449&amp;sa=U&amp;ved=0ahUKEwjQj9qlysGOAxXQXGwGHQXCBB0QiaAMCAkoBA&amp;usg=AOvVaw0DML2r4EEG_tJ2DdTquw1Z\">Maps</a>,\n",
       " <a href=\"/search?q=current+F1+car+top+speed+2025&amp;sca_esv=8d3052da52eb7266&amp;ie=UTF-8&amp;udm=36&amp;source=lnms&amp;sa=X&amp;ved=0ahUKEwjQj9qlysGOAxXQXGwGHQXCBB0Q_AUICigF\">Books</a>,\n",
       " <a href=\"/advanced_search\" id=\"st-toggle\" role=\"button\" style=\"white-space:nowrap\">Search tools</a>,\n",
       " <a href=\"/search?q=current+F1+car+top+speed+2025&amp;sca_esv=8d3052da52eb7266&amp;ie=UTF-8&amp;source=lnt&amp;tbs=qdr:h&amp;sa=X&amp;ved=0ahUKEwjQj9qlysGOAxXQXGwGHQXCBB0QpwUIDA\">Past hour</a>,\n",
       " <a href=\"/search?q=current+F1+car+top+speed+2025&amp;sca_esv=8d3052da52eb7266&amp;ie=UTF-8&amp;source=lnt&amp;tbs=qdr:d&amp;sa=X&amp;ved=0ahUKEwjQj9qlysGOAxXQXGwGHQXCBB0QpwUIDQ\">Past 24 hours</a>,\n",
       " <a href=\"/search?q=current+F1+car+top+speed+2025&amp;sca_esv=8d3052da52eb7266&amp;ie=UTF-8&amp;source=lnt&amp;tbs=qdr:w&amp;sa=X&amp;ved=0ahUKEwjQj9qlysGOAxXQXGwGHQXCBB0QpwUIDg\">Past week</a>,\n",
       " <a href=\"/search?q=current+F1+car+top+speed+2025&amp;sca_esv=8d3052da52eb7266&amp;ie=UTF-8&amp;source=lnt&amp;tbs=qdr:m&amp;sa=X&amp;ved=0ahUKEwjQj9qlysGOAxXQXGwGHQXCBB0QpwUIDw\">Past month</a>,\n",
       " <a href=\"/search?q=current+F1+car+top+speed+2025&amp;sca_esv=8d3052da52eb7266&amp;ie=UTF-8&amp;source=lnt&amp;tbs=qdr:y&amp;sa=X&amp;ved=0ahUKEwjQj9qlysGOAxXQXGwGHQXCBB0QpwUIEA\">Past year</a>,\n",
       " <a href=\"/search?q=current+F1+car+top+speed+2025&amp;sca_esv=8d3052da52eb7266&amp;ie=UTF-8&amp;source=lnt&amp;tbs=li:1&amp;sa=X&amp;ved=0ahUKEwjQj9qlysGOAxXQXGwGHQXCBB0QpwUIEg\">Verbatim</a>,\n",
       " <a data-ved=\"2ahUKEwjQj9qlysGOAxXQXGwGHQXCBB0QFnoECAwQAg\" href=\"/url?q=https://racingnews365.com/f1-car-top-speed&amp;sa=U&amp;ved=2ahUKEwjQj9qlysGOAxXQXGwGHQXCBB0QFnoECAwQAg&amp;usg=AOvVaw14hP7fvYGzKSXv_OQe_6JD\"><div class=\"DnJfK\"><div class=\"j039Wc\"><h3 class=\"zBAuLc l97dzf\"><div class=\"ilUpNd UFvD1 aSRlid\">This is the top speed for an F1 car | Highest recorded</div></h3></div><div class=\"sCuL3\"><div class=\"ilUpNd BamJPe aSRlid XR4uSe\">racingnews365.com › f1-car-top-speed</div></div></div></a>,\n",
       " <a data-ved=\"2ahUKEwjQj9qlysGOAxXQXGwGHQXCBB0QFnoECAcQAg\" href=\"/url?q=https://www.redbull.com/us-en/how-fast-do-f1-cars-go&amp;sa=U&amp;ved=2ahUKEwjQj9qlysGOAxXQXGwGHQXCBB0QFnoECAcQAg&amp;usg=AOvVaw2JmKCDG8aFDb0J5YkNqQC4\"><div class=\"DnJfK\"><div class=\"j039Wc\"><h3 class=\"zBAuLc l97dzf\"><div class=\"ilUpNd UFvD1 aSRlid\">How fast do F1 cars go? Top speeds and acceleration - Red Bull</div></h3></div><div class=\"sCuL3\"><div class=\"ilUpNd BamJPe aSRlid XR4uSe\">www.redbull.com › us-en › how-fast-do-f1-cars-go</div></div></div></a>,\n",
       " <a data-ved=\"2ahUKEwjQj9qlysGOAxXQXGwGHQXCBB0QFnoECAgQAg\" href=\"/url?q=https://www.autosport.com/f1/news/how-fast-is-an-f1-car-top-speeds-of-f1-indycar-motogp-and-more-4980734/4980734/&amp;sa=U&amp;ved=2ahUKEwjQj9qlysGOAxXQXGwGHQXCBB0QFnoECAgQAg&amp;usg=AOvVaw3iDN4yEZ7oZclbUjI6a8bq\"><div class=\"DnJfK\"><div class=\"j039Wc\"><h3 class=\"zBAuLc l97dzf\"><div class=\"ilUpNd UFvD1 aSRlid\">How fast is an F1 car? Top speeds of F1, IndyCar, MotoGP and more</div></h3></div><div class=\"sCuL3\"><div class=\"ilUpNd BamJPe aSRlid XR4uSe\">www.autosport.com › f1 › news › how-fast-is-an-f1-car-top-speeds-of-f1-i...</div></div></div></a>,\n",
       " <a data-ved=\"2ahUKEwjQj9qlysGOAxXQXGwGHQXCBB0QFnoECAMQAg\" href=\"/url?q=https://www.cars24.com/article/formula-1-cars/&amp;sa=U&amp;ved=2ahUKEwjQj9qlysGOAxXQXGwGHQXCBB0QFnoECAMQAg&amp;usg=AOvVaw2wIRzBZr5XlBnyht8Vyuj8\"><div class=\"DnJfK\"><div class=\"j039Wc\"><h3 class=\"zBAuLc l97dzf\"><div class=\"ilUpNd UFvD1 aSRlid\">Fastest Formula 1 Cars and Drivers in 2025 - CARS24</div></h3></div><div class=\"sCuL3\"><div class=\"ilUpNd BamJPe aSRlid XR4uSe\">www.cars24.com › Article</div></div></div></a>,\n",
       " <a data-ved=\"2ahUKEwjQj9qlysGOAxXQXGwGHQXCBB0QFnoECAYQAg\" href=\"/url?q=https://www.mclaren.com/racing/formula-1/2025/mcl39-technical-specification/&amp;sa=U&amp;ved=2ahUKEwjQj9qlysGOAxXQXGwGHQXCBB0QFnoECAYQAg&amp;usg=AOvVaw2tZCaS39frEHP9h6nPFwlr\"><div class=\"DnJfK\"><div class=\"j039Wc\"><h3 class=\"zBAuLc l97dzf\"><div class=\"ilUpNd UFvD1 aSRlid\">What is the technical specification of our 2025 Formula 1 car?</div></h3></div><div class=\"sCuL3\"><div class=\"ilUpNd BamJPe aSRlid XR4uSe\">www.mclaren.com › racing › 2025 › mcl39-technical-specification</div></div></div></a>,\n",
       " <a data-ved=\"2ahUKEwjQj9qlysGOAxXQXGwGHQXCBB0QFnoECAUQAg\" href=\"/url?q=https://www.reddit.com/r/formula1/comments/1jbrkab/speed_difference_2025_vs_2024/&amp;sa=U&amp;ved=2ahUKEwjQj9qlysGOAxXQXGwGHQXCBB0QFnoECAUQAg&amp;usg=AOvVaw0dTXnYVkabJjbE61nqRbN5\"><div class=\"DnJfK\"><div class=\"j039Wc\"><h3 class=\"zBAuLc l97dzf\"><div class=\"ilUpNd UFvD1 aSRlid\">Speed difference 2025 vs 2024 : r/formula1 - Reddit</div></h3></div><div class=\"sCuL3\"><div class=\"ilUpNd BamJPe aSRlid XR4uSe\">www.reddit.com › formula1 › comments › speed_difference_2025_vs_2024</div></div></div></a>,\n",
       " <a data-ved=\"2ahUKEwjQj9qlysGOAxXQXGwGHQXCBB0QrAJ6BAgFEAY\" href=\"/url?q=https://www.reddit.com/r/F1Technical/comments/1bgxhky/what_was_the_top_speed_for_all_f1_cars_for_every/&amp;sa=U&amp;ved=2ahUKEwjQj9qlysGOAxXQXGwGHQXCBB0QrAJ6BAgFEAY&amp;usg=AOvVaw1PCTDuu2mSZm4sXUKzZn9U\"><span class=\"JIHWZe aSRlid\">What was the top speed for all F1 cars for every decade since the 60s?</span></a>,\n",
       " <a data-ved=\"2ahUKEwjQj9qlysGOAxXQXGwGHQXCBB0QrAJ6BAgFEAc\" href=\"/url?q=https://www.reddit.com/r/formula1/comments/2g0we8/what_is_the_theoretical_top_speed_of_the_current/&amp;sa=U&amp;ved=2ahUKEwjQj9qlysGOAxXQXGwGHQXCBB0QrAJ6BAgFEAc&amp;usg=AOvVaw2Qo9HgA2ep2RAeaWh_Dlqh\"><span class=\"JIHWZe aSRlid\">What is the theoretical Top Speed of the current F1 Cars. - Reddit</span></a>,\n",
       " <a href=\"/search?q=current+F1+car+top+speed+2025+site:www.reddit.com&amp;sca_esv=8d3052da52eb7266&amp;ie=UTF-8\"><span class=\"JIHWZe aSRlid\">More results from www.reddit.com</span></a>,\n",
       " <a data-ved=\"2ahUKEwjQj9qlysGOAxXQXGwGHQXCBB0QFnoECAEQAg\" href=\"/url?q=https://en.wikipedia.org/wiki/Formula_One_car&amp;sa=U&amp;ved=2ahUKEwjQj9qlysGOAxXQXGwGHQXCBB0QFnoECAEQAg&amp;usg=AOvVaw3Xts4LWwE6mVTeg7L0U3ow\"><div class=\"DnJfK\"><div class=\"j039Wc\"><h3 class=\"zBAuLc l97dzf\"><div class=\"ilUpNd UFvD1 aSRlid\">Formula One car - Wikipedia</div></h3></div><div class=\"sCuL3\"><div class=\"ilUpNd BamJPe aSRlid XR4uSe\">en.wikipedia.org › wiki › Formula_One_car</div></div></div></a>,\n",
       " <a data-ved=\"2ahUKEwjQj9qlysGOAxXQXGwGHQXCBB0QFnoECAIQAg\" href=\"/url?q=https://www.cadillacofmurfreesboro.com/how-fast-are-f1-cars-and-why-are-they-so-fast.htm&amp;sa=U&amp;ved=2ahUKEwjQj9qlysGOAxXQXGwGHQXCBB0QFnoECAIQAg&amp;usg=AOvVaw3PyZQsmbegDfu9UV9eInlI\"><div class=\"DnJfK\"><div class=\"j039Wc\"><h3 class=\"zBAuLc l97dzf\"><div class=\"ilUpNd UFvD1 aSRlid\">How Fast Are F1 Cars And Why Are They So Fast?</div></h3></div><div class=\"sCuL3\"><div class=\"ilUpNd BamJPe aSRlid XR4uSe\">www.cadillacofmurfreesboro.com › how-fast-are-f1-cars-and-why-are-they...</div></div></div></a>,\n",
       " <a data-ved=\"2ahUKEwjQj9qlysGOAxXQXGwGHQXCBB0QFnoECAoQAg\" href=\"/url?q=https://www.spinny.com/blog/fastest-cars-in-the-world/&amp;sa=U&amp;ved=2ahUKEwjQj9qlysGOAxXQXGwGHQXCBB0QFnoECAoQAg&amp;usg=AOvVaw273N8Ftlq7jG1LDPd6Pi3L\"><div class=\"DnJfK\"><div class=\"j039Wc\"><h3 class=\"zBAuLc l97dzf\"><div class=\"ilUpNd UFvD1 aSRlid\">The Fastest Car in the World (2025): Top Speed Machines - Spinny</div></h3></div><div class=\"sCuL3\"><div class=\"ilUpNd BamJPe aSRlid XR4uSe\">www.spinny.com › Spinny Post › BEST CARS</div></div></div></a>,\n",
       " <a data-ved=\"2ahUKEwjQj9qlysGOAxXQXGwGHQXCBB0Q0gJ6BAgKEAU\" href=\"/url?q=https://www.spinny.com/blog/fastest-cars-in-the-world/%231-koenigsegg-jesko-absolut&amp;sa=U&amp;ved=2ahUKEwjQj9qlysGOAxXQXGwGHQXCBB0Q0gJ6BAgKEAU&amp;usg=AOvVaw3P6n1ytg2cNjK3qd9HLcog\"><span class=\"JIHWZe aSRlid\">Koenigsegg Jesko Absolut...</span></a>,\n",
       " <a data-ved=\"2ahUKEwjQj9qlysGOAxXQXGwGHQXCBB0Q0gJ6BAgKEAY\" href=\"/url?q=https://www.spinny.com/blog/fastest-cars-in-the-world/%2313-aston-martin-valkyrie&amp;sa=U&amp;ved=2ahUKEwjQj9qlysGOAxXQXGwGHQXCBB0Q0gJ6BAgKEAY&amp;usg=AOvVaw1TZ8lvNNJxfALclt9x680x\"><span class=\"JIHWZe aSRlid\">Aston Martin Valkyrie</span></a>,\n",
       " <a data-ved=\"2ahUKEwjQj9qlysGOAxXQXGwGHQXCBB0Q0gJ6BAgKEAc\" href=\"/url?q=https://www.spinny.com/blog/fastest-cars-in-the-world/%2318-koenigsegg-gemera&amp;sa=U&amp;ved=2ahUKEwjQj9qlysGOAxXQXGwGHQXCBB0Q0gJ6BAgKEAc&amp;usg=AOvVaw0RkRDdTrsm-VUqQWZ_d2Ds\"><span class=\"JIHWZe aSRlid\">Koenigsegg Gemera</span></a>,\n",
       " <a data-ved=\"2ahUKEwjQj9qlysGOAxXQXGwGHQXCBB0QFnoECAsQAg\" href=\"/url?q=https://www.formula1.com/en/results/2025/fastest-laps&amp;sa=U&amp;ved=2ahUKEwjQj9qlysGOAxXQXGwGHQXCBB0QFnoECAsQAg&amp;usg=AOvVaw3AGdSAqVws06fekx2F1B0r\"><div class=\"DnJfK\"><div class=\"j039Wc\"><h3 class=\"zBAuLc l97dzf\"><div class=\"ilUpNd UFvD1 aSRlid\">2025 DHL Fastest Lap Award - F1</div></h3></div><div class=\"sCuL3\"><div class=\"ilUpNd BamJPe aSRlid XR4uSe\">www.formula1.com › results › 2025 › fastest-laps</div></div></div></a>,\n",
       " <a class=\"BVG0Nb OxTOff\" data-ved=\"2ahUKEwjQj9qlysGOAxXQXGwGHQXCBB0Qs9oBegQICRAF\" href=\"/search?sca_esv=8d3052da52eb7266&amp;ie=UTF-8&amp;q=F1&amp;stick=H4sIAAAAAAAAAAFPALD_CDEiCC9tLzAyeHoy-gEAsAQAogUCRjHaBhkAu6KI-QRFvzGxOTOxshbjtwf6R_19ZpipoggWUGVvcGxlIGFsc28gc2VhcmNoIGZvcqgIAUTq-O1PAAAA&amp;sa=X&amp;ved=2ahUKEwjQj9qlysGOAxXQXGwGHQXCBB0Qs9oBegQICRAF\"><div><div style=\"width:112px\"><div class=\"l7d08\" style=\"width:112px;height:112px\"><img alt=\"\" class=\"h1hFNe\" data-deferred=\"1\" id=\"dimg__bV3aJCdK9C5seMPhYST6AE_3\" src=\"data:image/gif;base64,R0lGODlhAQABAIAAAP///////yH5BAEKAAEALAAAAAABAAEAAAICTAEAOw==\" style=\"max-width:112px;max-height:112px\"/></div><div class=\"RWuggc kCrYT\"><div><div class=\"ilUpNd H66NU aSRlid\">Formula 1</div></div></div></div></div></a>,\n",
       " <a class=\"BVG0Nb OxTOff\" data-ved=\"2ahUKEwjQj9qlysGOAxXQXGwGHQXCBB0Qs9oBegQICRAG\" href=\"/search?sca_esv=8d3052da52eb7266&amp;ie=UTF-8&amp;q=IndyCar+Series&amp;stick=H4sIAAAAAAAAAAFdAKL_CDEiCi9tLzAyeV84dDb6AQCwBACiBQ5JbmR5Q2FyIFNlcmllc9oGGQC7ooj5BEW_MbE5M7GyFuO3B_pH_X1mmKmiCBZQZW9wbGUgYWxzbyBzZWFyY2ggZm9yqAgBhwsWAV0AAAA&amp;sa=X&amp;ved=2ahUKEwjQj9qlysGOAxXQXGwGHQXCBB0Qs9oBegQICRAG\"><div><div style=\"width:112px\"><div class=\"l7d08\" style=\"width:112px;height:112px\"><img alt=\"\" class=\"h1hFNe\" data-deferred=\"1\" id=\"dimg__bV3aJCdK9C5seMPhYST6AE_5\" src=\"data:image/gif;base64,R0lGODlhAQABAIAAAP///////yH5BAEKAAEALAAAAAABAAEAAAICTAEAOw==\" style=\"max-width:112px;max-height:112px\"/></div><div class=\"RWuggc kCrYT\"><div><div class=\"ilUpNd H66NU aSRlid\">IndyCar Series</div></div></div></div></div></a>,\n",
       " <a class=\"BVG0Nb OxTOff\" data-ved=\"2ahUKEwjQj9qlysGOAxXQXGwGHQXCBB0Qs9oBegQICRAH\" href=\"/search?sca_esv=8d3052da52eb7266&amp;ie=UTF-8&amp;q=Formula+E&amp;stick=H4sIAAAAAAAAAAFYAKf_CDEiCi9tLzBtMHBfNWr6AQCwBACiBQlGb3JtdWxhIEXaBhkAu6KI-QRFvzGxOTOxshbjtwf6R_19ZpipoggWUGVvcGxlIGFsc28gc2VhcmNoIGZvcqgIAZD25GRYAAAA&amp;sa=X&amp;ved=2ahUKEwjQj9qlysGOAxXQXGwGHQXCBB0Qs9oBegQICRAH\"><div><div style=\"width:112px\"><div class=\"l7d08\" style=\"width:112px;height:112px\"><img alt=\"\" class=\"h1hFNe\" data-deferred=\"1\" id=\"dimg__bV3aJCdK9C5seMPhYST6AE_7\" src=\"data:image/gif;base64,R0lGODlhAQABAIAAAP///////yH5BAEKAAEALAAAAAABAAEAAAICTAEAOw==\" style=\"max-width:112px;max-height:112px\"/></div><div class=\"RWuggc kCrYT\"><div><div class=\"ilUpNd H66NU aSRlid\">Formula E</div></div></div></div></div></a>,\n",
       " <a class=\"BVG0Nb OxTOff\" data-ved=\"2ahUKEwjQj9qlysGOAxXQXGwGHQXCBB0Qs9oBegQICRAI\" href=\"/search?sca_esv=8d3052da52eb7266&amp;ie=UTF-8&amp;q=MotoGP&amp;stick=H4sIAAAAAAAAAAFTAKz_CDEiCC9tLzBmNWNs-gEAsAQAogUGTW90b0dQ2gYZALuiiPkERb8xsTkzsbIW47cH-kf9fWaYqaIIFlBlb3BsZSBhbHNvIHNlYXJjaCBmb3KoCAG7iBHCUwAAAA&amp;sa=X&amp;ved=2ahUKEwjQj9qlysGOAxXQXGwGHQXCBB0Qs9oBegQICRAI\"><div><div style=\"width:112px\"><div class=\"l7d08\" style=\"width:112px;height:112px\"><img alt=\"\" class=\"h1hFNe\" data-deferred=\"1\" id=\"dimg__bV3aJCdK9C5seMPhYST6AE_9\" src=\"data:image/gif;base64,R0lGODlhAQABAIAAAP///////yH5BAEKAAEALAAAAAABAAEAAAICTAEAOw==\" style=\"max-width:112px;max-height:112px\"/></div><div class=\"RWuggc kCrYT\"><div><div class=\"ilUpNd H66NU aSRlid\">Grand Prix motorcycle...</div></div></div></div></div></a>,\n",
       " <a class=\"Q71vJc\" data-ved=\"2ahUKEwjQj9qlysGOAxXQXGwGHQXCBB0Q1QJ6BAgJEAo\" href=\"/search?sca_esv=8d3052da52eb7266&amp;ie=UTF-8&amp;q=f1+car+top+speed+km/h&amp;sa=X&amp;ved=2ahUKEwjQj9qlysGOAxXQXGwGHQXCBB0Q1QJ6BAgJEAo\"><accordion-entry-search-icon class=\"toMBf\"><span class=\"ieB2Dd\"><img alt=\"\" class=\"OEaqif\" data-deferred=\"1\" id=\"dimg__bV3aJCdK9C5seMPhYST6AE_11\" src=\"data:image/gif;base64,R0lGODlhAQABAIAAAP///////yH5BAEKAAEALAAAAAABAAEAAAICTAEAOw==\" style=\"max-width:20px;max-height:20px\"/></span></accordion-entry-search-icon><div class=\"kjGX2\"><span class=\"Xe4YD\"><div class=\"ilUpNd XR4uSe\">f1 car top speed km/h</div></span></div></a>,\n",
       " <a class=\"Q71vJc\" data-ved=\"2ahUKEwjQj9qlysGOAxXQXGwGHQXCBB0Q1QJ6BAgJEAw\" href=\"/search?sca_esv=8d3052da52eb7266&amp;ie=UTF-8&amp;q=Current+f1+car+top+speed+2025+mph&amp;sa=X&amp;ved=2ahUKEwjQj9qlysGOAxXQXGwGHQXCBB0Q1QJ6BAgJEAw\"><accordion-entry-search-icon class=\"toMBf\"><span class=\"ieB2Dd\"><img alt=\"\" class=\"OEaqif\" data-deferred=\"1\" id=\"dimg__bV3aJCdK9C5seMPhYST6AE_13\" src=\"data:image/gif;base64,R0lGODlhAQABAIAAAP///////yH5BAEKAAEALAAAAAABAAEAAAICTAEAOw==\" style=\"max-width:20px;max-height:20px\"/></span></accordion-entry-search-icon><div class=\"kjGX2\"><span class=\"Xe4YD\"><div class=\"ilUpNd XR4uSe\">Current f1 car top speed 2025 mph</div></span></div></a>,\n",
       " <a class=\"Q71vJc\" data-ved=\"2ahUKEwjQj9qlysGOAxXQXGwGHQXCBB0Q1QJ6BAgJEA4\" href=\"/search?sca_esv=8d3052da52eb7266&amp;ie=UTF-8&amp;q=Current+f1+car+top+speed+2025+reddit&amp;sa=X&amp;ved=2ahUKEwjQj9qlysGOAxXQXGwGHQXCBB0Q1QJ6BAgJEA4\"><accordion-entry-search-icon class=\"toMBf\"><span class=\"ieB2Dd\"><img alt=\"\" class=\"OEaqif\" data-deferred=\"1\" id=\"dimg__bV3aJCdK9C5seMPhYST6AE_15\" src=\"data:image/gif;base64,R0lGODlhAQABAIAAAP///////yH5BAEKAAEALAAAAAABAAEAAAICTAEAOw==\" style=\"max-width:20px;max-height:20px\"/></span></accordion-entry-search-icon><div class=\"kjGX2\"><span class=\"Xe4YD\"><div class=\"ilUpNd XR4uSe\">Current f1 car top speed 2025 reddit</div></span></div></a>,\n",
       " <a class=\"Q71vJc\" data-ved=\"2ahUKEwjQj9qlysGOAxXQXGwGHQXCBB0Q1QJ6BAgJEBA\" href=\"/search?sca_esv=8d3052da52eb7266&amp;ie=UTF-8&amp;q=f1+car+0-60&amp;sa=X&amp;ved=2ahUKEwjQj9qlysGOAxXQXGwGHQXCBB0Q1QJ6BAgJEBA\"><accordion-entry-search-icon class=\"toMBf\"><span class=\"ieB2Dd\"><img alt=\"\" class=\"OEaqif\" data-deferred=\"1\" id=\"dimg__bV3aJCdK9C5seMPhYST6AE_17\" src=\"data:image/gif;base64,R0lGODlhAQABAIAAAP///////yH5BAEKAAEALAAAAAABAAEAAAICTAEAOw==\" style=\"max-width:20px;max-height:20px\"/></span></accordion-entry-search-icon><div class=\"kjGX2\"><span class=\"Xe4YD\"><div class=\"ilUpNd XR4uSe\">f1 car 0-60</div></span></div></a>,\n",
       " <a class=\"Q71vJc\" data-ved=\"2ahUKEwjQj9qlysGOAxXQXGwGHQXCBB0Q1QJ6BAgJEBI\" href=\"/search?sca_esv=8d3052da52eb7266&amp;ie=UTF-8&amp;q=Average+speed+of+F1+car&amp;sa=X&amp;ved=2ahUKEwjQj9qlysGOAxXQXGwGHQXCBB0Q1QJ6BAgJEBI\"><accordion-entry-search-icon class=\"toMBf\"><span class=\"ieB2Dd\"><img alt=\"\" class=\"OEaqif\" data-deferred=\"1\" id=\"dimg__bV3aJCdK9C5seMPhYST6AE_19\" src=\"data:image/gif;base64,R0lGODlhAQABAIAAAP///////yH5BAEKAAEALAAAAAABAAEAAAICTAEAOw==\" style=\"max-width:20px;max-height:20px\"/></span></accordion-entry-search-icon><div class=\"kjGX2\"><span class=\"Xe4YD\"><div class=\"ilUpNd XR4uSe\">Average speed of F1 car</div></span></div></a>,\n",
       " <a class=\"Q71vJc\" data-ved=\"2ahUKEwjQj9qlysGOAxXQXGwGHQXCBB0Q1QJ6BAgJEBQ\" href=\"/search?sca_esv=8d3052da52eb7266&amp;ie=UTF-8&amp;q=Fastest+F1+car+2025&amp;sa=X&amp;ved=2ahUKEwjQj9qlysGOAxXQXGwGHQXCBB0Q1QJ6BAgJEBQ\"><accordion-entry-search-icon class=\"toMBf\"><span class=\"ieB2Dd\"><img alt=\"\" class=\"OEaqif\" data-deferred=\"1\" id=\"dimg__bV3aJCdK9C5seMPhYST6AE_21\" src=\"data:image/gif;base64,R0lGODlhAQABAIAAAP///////yH5BAEKAAEALAAAAAABAAEAAAICTAEAOw==\" style=\"max-width:20px;max-height:20px\"/></span></accordion-entry-search-icon><div class=\"kjGX2\"><span class=\"Xe4YD\"><div class=\"ilUpNd XR4uSe\">Fastest F1 car 2025</div></span></div></a>,\n",
       " <a class=\"Q71vJc\" data-ved=\"2ahUKEwjQj9qlysGOAxXQXGwGHQXCBB0Q1QJ6BAgJEBY\" href=\"/search?sca_esv=8d3052da52eb7266&amp;ie=UTF-8&amp;q=f1+car+0-100+mph&amp;sa=X&amp;ved=2ahUKEwjQj9qlysGOAxXQXGwGHQXCBB0Q1QJ6BAgJEBY\"><accordion-entry-search-icon class=\"toMBf\"><span class=\"ieB2Dd\"><img alt=\"\" class=\"OEaqif\" data-deferred=\"1\" id=\"dimg__bV3aJCdK9C5seMPhYST6AE_23\" src=\"data:image/gif;base64,R0lGODlhAQABAIAAAP///////yH5BAEKAAEALAAAAAABAAEAAAICTAEAOw==\" style=\"max-width:20px;max-height:20px\"/></span></accordion-entry-search-icon><div class=\"kjGX2\"><span class=\"Xe4YD\"><div class=\"ilUpNd XR4uSe\">f1 car 0-100 mph</div></span></div></a>,\n",
       " <a class=\"Q71vJc\" data-ved=\"2ahUKEwjQj9qlysGOAxXQXGwGHQXCBB0Q1QJ6BAgJEBg\" href=\"/search?sca_esv=8d3052da52eb7266&amp;ie=UTF-8&amp;q=NASCAR+top+speed&amp;sa=X&amp;ved=2ahUKEwjQj9qlysGOAxXQXGwGHQXCBB0Q1QJ6BAgJEBg\"><accordion-entry-search-icon class=\"toMBf\"><span class=\"ieB2Dd\"><img alt=\"\" class=\"OEaqif\" data-deferred=\"1\" id=\"dimg__bV3aJCdK9C5seMPhYST6AE_25\" src=\"data:image/gif;base64,R0lGODlhAQABAIAAAP///////yH5BAEKAAEALAAAAAABAAEAAAICTAEAOw==\" style=\"max-width:20px;max-height:20px\"/></span></accordion-entry-search-icon><div class=\"kjGX2\"><span class=\"Xe4YD\"><div class=\"ilUpNd XR4uSe\">NASCAR top speed</div></span></div></a>,\n",
       " <a aria-label=\"Next page\" class=\"nBDE1b G5eFlf\" href=\"/search?q=current+F1+car+top+speed+2025&amp;sca_esv=8d3052da52eb7266&amp;ie=UTF-8&amp;ei=_bV3aJCdK9C5seMPhYST6AE&amp;start=10&amp;sa=N\">Next &gt;</a>,\n",
       " <a aria-label=\"Learn more about this location\" class=\"mTWEIf\" href=\"/url?q=https://support.google.com/websearch%3Fp%3Dws_settings_location%26hl%3Den-IN&amp;opi=89978449&amp;sa=U&amp;ved=0ahUKEwjQj9qlysGOAxXQXGwGHQXCBB0Qty4IiAE&amp;usg=AOvVaw0FoHerrXr_NNLpuBbTvji4\" tabindex=\"0\">Learn more</a>,\n",
       " <a href=\"/url?q=https://accounts.google.com/ServiceLogin%3Fcontinue%3Dhttps://www.google.com/search%253Fq%253Dcurrent%252BF1%252Bcar%252Btop%252Bspeed%252B2025%26hl%3Den&amp;opi=89978449&amp;sa=U&amp;ved=0ahUKEwjQj9qlysGOAxXQXGwGHQXCBB0Qxs8CCIkB&amp;usg=AOvVaw32E9VKbt1Bq6OFy4-l8hFi\">Sign in</a>,\n",
       " <a class=\"xeDNfc\" href=\"https://www.google.com/preferences?hl=en-IN&amp;fg=1&amp;sa=X&amp;ved=0ahUKEwjQj9qlysGOAxXQXGwGHQXCBB0Q5fUCCIoB\">Settings</a>,\n",
       " <a class=\"xeDNfc\" href=\"https://policies.google.com/privacy?hl=en-IN&amp;fg=1\">Privacy</a>,\n",
       " <a class=\"xeDNfc\" href=\"https://policies.google.com/terms?hl=en-IN&amp;fg=1\">Terms</a>,\n",
       " <a class=\"xeDNfc\" href=\"/setprefs?hl=en&amp;prev=https://www.google.com/search?q%3Dcurrent%2BF1%2Bcar%2Btop%2Bspeed%2B2025%26pccc%3D1&amp;sig=0_KgEYgSUwGYmytPo-NQ55uauBlQ0%3D&amp;cs=2&amp;sa=X&amp;ved=0ahUKEwjQj9qlysGOAxXQXGwGHQXCBB0QjcAJCIsB\">Dark theme: Off</a>]"
      ]
     },
     "execution_count": 24,
     "metadata": {},
     "output_type": "execute_result"
    }
   ],
   "source": [
    "found_links"
   ]
  },
  {
   "cell_type": "code",
   "execution_count": 28,
   "id": "5d2553ab-348b-4860-a462-a9703d89eee2",
   "metadata": {},
   "outputs": [
    {
     "name": "stdout",
     "output_type": "stream",
     "text": [
      "https://racingnews365.com/f1-car-top-speed\n"
     ]
    }
   ],
   "source": [
    "from urllib.parse import urlparse, unquote\n",
    "\n",
    "target_url = ''\n",
    "\n",
    "for i in found_links:\n",
    "    href = i['href']\n",
    "    if href.startswith('/url?q='):\n",
    "        # exclude irrelevant findings like maps etc.\n",
    "        # toy version for now, replace with more robust process like blacklist text file later\n",
    "\n",
    "        target_url = href.split('/url?q=')[1].split('&')[0]\n",
    "        domain = urlparse(unquote(target_url)).netloc.lower()\n",
    "        if domain.endswith('google.com'):\n",
    "            continue  # not a real organic result\n",
    "        \n",
    "        break\n",
    "\n",
    "print(target_url)"
   ]
  },
  {
   "cell_type": "markdown",
   "id": "64bce492-7d1d-464d-bb17-820d290020d5",
   "metadata": {},
   "source": [
    "## Get page as text data"
   ]
  },
  {
   "cell_type": "code",
   "execution_count": null,
   "id": "18c1031f-a20c-4bf4-b6dd-fcbf89204468",
   "metadata": {},
   "outputs": [],
   "source": []
  }
 ],
 "metadata": {
  "kernelspec": {
   "display_name": "Python 3 (ipykernel)",
   "language": "python",
   "name": "python3"
  },
  "language_info": {
   "codemirror_mode": {
    "name": "ipython",
    "version": 3
   },
   "file_extension": ".py",
   "mimetype": "text/x-python",
   "name": "python",
   "nbconvert_exporter": "python",
   "pygments_lexer": "ipython3",
   "version": "3.13.5"
  }
 },
 "nbformat": 4,
 "nbformat_minor": 5
}
