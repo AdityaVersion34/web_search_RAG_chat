{
 "cells": [
  {
   "cell_type": "markdown",
   "id": "29de2ca2-7305-405c-9f2b-16520a0aa166",
   "metadata": {},
   "source": [
    "## Web-search RAG chatbot\n",
    "\n",
    "like perplexity\n",
    "\n",
    "v0.1 - no conversation, just question and answer based on web search\n",
    "\n",
    "process:\n",
    "1) receive prompt\n",
    "2) pass to LLM to create appropriate search terms for gathering data - start with just one\n",
    "3) perform web search with that, get top results and scrape and store as doc - start with just one result\n",
    "4) chunk data\n",
    "5) embed chunks\n",
    "6) store in vectordb\n",
    "7) link retriever to vecdb\n",
    "8) pass query with retriever to llm w/ langchain"
   ]
  },
  {
   "cell_type": "markdown",
   "id": "83a0a3ae-f038-4511-ac9f-41399b979f03",
   "metadata": {},
   "source": [
    "## 1) Receive prompt"
   ]
  },
  {
   "cell_type": "code",
   "execution_count": 3,
   "id": "145cb1de-e0b1-48ed-8ff0-5a4c3b83ee1e",
   "metadata": {},
   "outputs": [],
   "source": [
    "user_prompt = \"What is a cat?\""
   ]
  },
  {
   "cell_type": "markdown",
   "id": "2b5c3fc6-994b-4ad8-a895-6b921331097e",
   "metadata": {},
   "source": [
    "## 2) Pass to LLM to create search term"
   ]
  },
  {
   "cell_type": "code",
   "execution_count": 2,
   "id": "9ebe530f-dfb4-4fa9-9094-1912871da9ac",
   "metadata": {},
   "outputs": [],
   "source": [
    "system_prompt = (\n",
    "    \"You are an assistant for gathering data based on this prompt.\"\n",
    "    \"Use the following prompt to generate one web search query that would gather data which would be helpful in answering the prompt.\"\n",
    "    \"Your search query should be effective at finding the most relevant and useful data pertaining to the prompt.\"\n",
    "    \"\\n\\n\"\n",
    "    \"{prompt}\"\n",
    ")"
   ]
  },
  {
   "cell_type": "code",
   "execution_count": null,
   "id": "f6384447-281f-41bf-8ddd-322ce5a96335",
   "metadata": {},
   "outputs": [],
   "source": []
  }
 ],
 "metadata": {
  "kernelspec": {
   "display_name": "Python 3 (ipykernel)",
   "language": "python",
   "name": "python3"
  },
  "language_info": {
   "codemirror_mode": {
    "name": "ipython",
    "version": 3
   },
   "file_extension": ".py",
   "mimetype": "text/x-python",
   "name": "python",
   "nbconvert_exporter": "python",
   "pygments_lexer": "ipython3",
   "version": "3.13.5"
  }
 },
 "nbformat": 4,
 "nbformat_minor": 5
}
