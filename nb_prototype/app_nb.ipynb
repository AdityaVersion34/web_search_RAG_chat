{
 "cells": [
  {
   "cell_type": "markdown",
   "id": "29de2ca2-7305-405c-9f2b-16520a0aa166",
   "metadata": {},
   "source": [
    "## Web-search RAG chatbot\n",
    "\n",
    "like perplexity\n",
    "\n",
    "v0.1 - no conversation, just question and answer based on web search\n",
    "\n",
    "process:\n",
    "1) receive prompt\n",
    "2) pass to LLM to create appropriate search terms for gathering data - start with just one\n",
    "3) perform web search with that, get top results and scrape and store as doc - start with just one result\n",
    "4) chunk data\n",
    "5) embed chunks\n",
    "6) store in vectordb\n",
    "7) link retriever to vecdb\n",
    "8) pass query with retriever to llm w/ langchain"
   ]
  },
  {
   "cell_type": "markdown",
   "id": "83a0a3ae-f038-4511-ac9f-41399b979f03",
   "metadata": {},
   "source": [
    "## 1) Receive prompt"
   ]
  },
  {
   "cell_type": "code",
   "execution_count": 71,
   "id": "145cb1de-e0b1-48ed-8ff0-5a4c3b83ee1e",
   "metadata": {},
   "outputs": [],
   "source": [
    "user_prompt = \"What are some new lego sets?\""
   ]
  },
  {
   "cell_type": "markdown",
   "id": "2b5c3fc6-994b-4ad8-a895-6b921331097e",
   "metadata": {},
   "source": [
    "## 2) Pass to LLM to create search term"
   ]
  },
  {
   "cell_type": "code",
   "execution_count": 2,
   "id": "3d741a02-63b4-4fb0-80de-f94e1de88976",
   "metadata": {},
   "outputs": [],
   "source": [
    "import os\n",
    "from dotenv import load_dotenv, find_dotenv\n",
    "_ = load_dotenv(find_dotenv())\n",
    "openai_api_key = os.environ[\"OPENAI_API_KEY\"]"
   ]
  },
  {
   "cell_type": "code",
   "execution_count": 3,
   "id": "ad1f031c-8cea-4ba2-ae50-5daf4a2d51a7",
   "metadata": {},
   "outputs": [],
   "source": [
    "from langchain_openai import ChatOpenAI\n",
    "\n",
    "llm = ChatOpenAI(model=\"gpt-4o-mini\")"
   ]
  },
  {
   "cell_type": "code",
   "execution_count": 72,
   "id": "9ebe530f-dfb4-4fa9-9094-1912871da9ac",
   "metadata": {
    "editable": true,
    "slideshow": {
     "slide_type": ""
    },
    "tags": []
   },
   "outputs": [],
   "source": [
    "from langchain_core.prompts import ChatPromptTemplate\n",
    "from langchain_core.output_parsers import StrOutputParser\n",
    "from langchain_core.runnables import RunnablePassthrough\n",
    "\n",
    "system_prompt = (\n",
    "    \"You are an assistant for gathering data based on this prompt.\"\n",
    "    \"Use the following prompt to generate one web search query that would gather data which would be helpful in answering the prompt.\"\n",
    "    \"Your search query should be effective at finding the most relevant and useful data pertaining to the prompt.\"\n",
    "    \"Keep in mind that the current date is July 2025\"\n",
    "    \"\\n\\n\"\n",
    "    \"{input}\"\n",
    ")\n",
    "\n",
    "search_query_prompt = ChatPromptTemplate.from_messages(\n",
    "    [\n",
    "        (\"system\", system_prompt),\n",
    "        (\"human\", \"{input}\"),\n",
    "    ]\n",
    ")"
   ]
  },
  {
   "cell_type": "code",
   "execution_count": 73,
   "id": "f6384447-281f-41bf-8ddd-322ce5a96335",
   "metadata": {},
   "outputs": [],
   "source": [
    "search_query_gen_chain = {\"input\": RunnablePassthrough()} | search_query_prompt | llm | StrOutputParser()"
   ]
  },
  {
   "cell_type": "code",
   "execution_count": 74,
   "id": "33cb2e18-0264-4823-984f-0238103ee661",
   "metadata": {},
   "outputs": [],
   "source": [
    "import ast\n",
    "\n",
    "search_query = search_query_gen_chain.invoke(user_prompt)\n",
    "search_query = ast.literal_eval(search_query)"
   ]
  },
  {
   "cell_type": "code",
   "execution_count": 75,
   "id": "0e1d968d-98c4-4182-be1a-d6f2a49ec1b8",
   "metadata": {},
   "outputs": [],
   "source": [
    "search_query = search_query.replace(' ', '+')"
   ]
  },
  {
   "cell_type": "code",
   "execution_count": 76,
   "id": "276383d8-edaf-4677-bbce-c1681b9b2c02",
   "metadata": {},
   "outputs": [
    {
     "data": {
      "text/plain": [
       "'new+LEGO+sets+released+July+2025'"
      ]
     },
     "execution_count": 76,
     "metadata": {},
     "output_type": "execute_result"
    }
   ],
   "source": [
    "search_query"
   ]
  },
  {
   "cell_type": "code",
   "execution_count": 77,
   "id": "25121243-d8aa-4f27-b654-2e24b48dec85",
   "metadata": {},
   "outputs": [],
   "source": [
    "search_url = f\"https://google.com/search?q={search_query}\""
   ]
  },
  {
   "cell_type": "code",
   "execution_count": 78,
   "id": "63a61b53-07e0-4743-89f6-a071847e170f",
   "metadata": {},
   "outputs": [
    {
     "data": {
      "text/plain": [
       "'https://google.com/search?q=new+LEGO+sets+released+July+2025'"
      ]
     },
     "execution_count": 78,
     "metadata": {},
     "output_type": "execute_result"
    }
   ],
   "source": [
    "search_url"
   ]
  },
  {
   "cell_type": "markdown",
   "id": "6eedbcfa-e9df-477e-ac89-f1fe8de795a2",
   "metadata": {},
   "source": [
    "## Web search for relevant links"
   ]
  },
  {
   "cell_type": "code",
   "execution_count": 79,
   "id": "ec406f15-36f3-4fb0-a883-890775dea115",
   "metadata": {},
   "outputs": [
    {
     "name": "stdout",
     "output_type": "stream",
     "text": [
      "searching...\n",
      "[<a href=\"/httpservice/retry/enablejs?sei=N2KCaMe7LMOhseMPqfDU0Ak\">here</a>, <a href=\"/search?q=new+LEGO+sets+released+July+2025&amp;sca_esv=c29e0acc1e59cdbc&amp;ie=UTF-8&amp;emsg=SG_REL&amp;sei=N2KCaMe7LMOhseMPqfDU0Ak\">click here</a>, <a href=\"https://support.google.com/websearch\">feedback</a>]\n"
     ]
    }
   ],
   "source": [
    "import requests\n",
    "from bs4 import BeautifulSoup\n",
    "from urllib.parse import urlparse, unquote\n",
    "import time\n",
    "\n",
    "cse_key = os.environ[\"GOOGLE_CSE_KEY\"]\n",
    "cse_id = os.environ[\"GOOGLE_CSE_ID\"]\n",
    "\n",
    "# test single search block\n",
    "\n",
    "search_response = requests.get(url=search_url)\n",
    "\n",
    "# sleep for a while to not overload requests\n",
    "time.sleep(2)\n",
    "print(\"searching...\")\n",
    "\n",
    "soup = BeautifulSoup(search_response.text, \"html.parser\")\n",
    "found_links = soup.find_all(\"a\")\n",
    "\n",
    "print(found_links)"
   ]
  },
  {
   "cell_type": "code",
   "execution_count": 80,
   "id": "4228dc8a-5624-42bc-b6e0-8a31685c62b2",
   "metadata": {},
   "outputs": [],
   "source": [
    "# with CSE\n",
    "\n",
    "cse_query = search_query.replace('+', ' ')\n",
    "\n",
    "cse_url = 'https://www.googleapis.com/customsearch/v1'\n",
    "cse_params = {\n",
    "    'q': cse_query,\n",
    "    'key': cse_key,\n",
    "    'cx' : cse_id\n",
    "}\n",
    "\n",
    "response = requests.get(cse_url, cse_params)"
   ]
  },
  {
   "cell_type": "code",
   "execution_count": 81,
   "id": "cb16198e-59e8-4552-861e-ab15769947e0",
   "metadata": {},
   "outputs": [
    {
     "name": "stdout",
     "output_type": "stream",
     "text": [
      "{'https://jaysbrickblog.com/news/buying-guide-every-new-lego-set-releasing-july-2025/', 'https://www.ign.com/articles/new-lego-sets-for-july-2025', 'https://www.lego.com/en-us/categories/coming-soon', 'https://brickbanter.com/category/2025/july-2025/every-new-lego-set-releasing-in-july-2025/', 'https://falconbricks.com/news/lego-july-2025-sets/'}\n"
     ]
    }
   ],
   "source": [
    "cse_results = response.json()\n",
    "\n",
    "target_url_set = set()\n",
    "\n",
    "if 'items' in cse_results:\n",
    "    for result in cse_results['items']:\n",
    "        if len(target_url_set) >= 5:\n",
    "            break\n",
    "        else:\n",
    "            target_url_set.add(result['link'])\n",
    "\n",
    "print(target_url_set)"
   ]
  },
  {
   "cell_type": "markdown",
   "id": "64bce492-7d1d-464d-bb17-820d290020d5",
   "metadata": {},
   "source": [
    "## Get page as text data"
   ]
  },
  {
   "cell_type": "code",
   "execution_count": 82,
   "id": "18c1031f-a20c-4bf4-b6dd-fcbf89204468",
   "metadata": {},
   "outputs": [
    {
     "name": "stderr",
     "output_type": "stream",
     "text": [
      "Fetching pages: 100%|######################################################| 5/5 [00:04<00:00,  1.14it/s]\n"
     ]
    },
    {
     "name": "stdout",
     "output_type": "stream",
     "text": [
      "  * About Me\n",
      "  * LEGO Reviews\n",
      "  * News\n",
      "  * 2025 LEGO Sets\n",
      "  * 2024 Advent Calendars\n",
      "\n",
      "SUBSCRIBE\n",
      "\n",
      "* ## Subscribe for updates\n",
      "\n",
      "Enter your email address here to receive updates about new posts from Jay's\n",
      "Brick Blog - straight to your inbox!\n",
      "\n",
      "Email Address\n",
      "\n",
      "Subscribe\n",
      "\n",
      "Join 6,848 other subscribers\n",
      "\n",
      "  * Reviews\n",
      "  * News\n",
      "  * LEGO Minifig Scanner\n",
      "\n",
      "  * About Me\n",
      "  * LEGO Reviews\n",
      "  * News\n",
      "  * 2025 LEGO Sets\n",
      "  * 2024 Advent Calendars\n",
      "\n",
      "  * Reviews\n",
      "  * News\n",
      "  * LEGO Minifig Scanner\n",
      "\n",
      "# Buying Guide: Every new LEGO set releasing in July 2025\n",
      "\n",
      "June 28, 2025 | 0\n",
      "\n",
      "LEGO fans get a slight reprieve in July 2025 with a relatively small number of\n",
      "highly anticipated releases.\n",
      "\n",
      "LEGO fans will be able to look forward to the launch of **10375 How to Train\n",
      "Your Dragon: Toothless** , **10357 Shelby Cobra 427 S/C** , as well as **43008\n",
      "Nike Dunk** , which are the biggest ticket items.\n",
      "\n",
      "Star Wars fans can also look forward to the very fun **75428 Battle Droid With\n",
      "STAP**!\n",
      "\n",
      "For fans of LEGO Ideas, the **40788 Friendly Snails** GWP will crawl its way\n",
      "into your collection when it becomes available from 1 July when you spend\n",
      "US$160 / AU$260 / £145 / €160 / CAD$210 on LEGO.com or your local LEGO store.\n",
      "\n",
      "Additionally, you will also be able to redeem **40789 Flying Moon Car**  for\n",
      "**2,500 Insider Points  **from the LEGO Insiders Rewards Centre from 1 July\n",
      "2025 onwards.\n",
      "\n",
      "To help you navigate all the new July 2025 releases, here's a shopping guide\n",
      "to all the new LEGO launches, promos and more in July!\n",
      "\n",
      "**Are you picking anything up in July? Let me know what 's in your shopping\n",
      "cart!**\n",
      "\n",
      "Be sure to also check out our reviews of the new July 2025 releases! I'll be\n",
      "aiming to pick up the **40788 Friendly Snails** on the 1st, so look out for a\n",
      "review then!\n",
      "\n",
      "  * **Review: LEGO 43008 Nike Dunk**\n",
      "  * **Review: LEGO 10357 Shelby Cobra 427 S/C**\n",
      "  * **Review: LEGO 10375 How to Train Your Dragon: Toothless  \n",
      "**\n",
      "\n",
      "_If you 're planning on purchasing or pre-ordering this set, please consider\n",
      "using the affiliate links in this post. I may earn a small commission with\n",
      "each purchase that helps support the work I do on the blog!_\n",
      "\n",
      "## July 2025 GWPs, Offers and Insiders Rewards\n",
      "\n",
      "**40788 Friendly Snails **will be available as a **gift with purchase (GWP)\n",
      "from 1 July 2025**  when you spend US$160 / AU$260 / £145 / €160 / CAD$210 on\n",
      "LEGO.com or your local LEGO Store while stocks last.\n",
      "\n",
      "**40789 Flying Moon Car**  will be redeemable for **2,500 Insider Points\n",
      "**from the LEGO Insiders Rewards Centre from 1 July 2025 onwards.\n",
      "\n",
      "**Update** : In Australia, the set appeared just after midnight in the LEGO\n",
      "Insiders Rewards Centre so it should appear and be redeemable as soon as it\n",
      "ticks over to the 1st in your local time zone!\n",
      "\n",
      "Additionally, **40758 Celebration: Ferris Wheel with Fireworks** is available\n",
      "from now until 6 July 2025 when you spend US$85 / AU$140 / £75/ €85 / CAD$110,\n",
      "so if stocks holds up (which it will), you'll likely qualify for this GWP if\n",
      "you pick up any of the new July releases, and this will also stack with\n",
      "**40788 Friendly Snails**!\n",
      "\n",
      "Check out your regional offers and promotions for your specific region:\n",
      "\n",
      "  * **LEGO Offers and Promotions [US]**\n",
      "  * **LEGO Offers and Promotions [AUS]**\n",
      "  * **LEGO Offers and Promotions [UK]**\n",
      "  * **LEGO Offers and Promotions [EU]**\n",
      "  * **LEGO Offers and Promotions [CA]**\n",
      "\n",
      "## 10357 Shelby Cobra 427 S/C (Insiders Early Access)\n",
      "\n",
      "  * **10357 Shelby Cobra 427 S/C [US]**  – US$159.99\n",
      "  * **10357 Shelby Cobra 427 S/C [AUS]**  – AU$249.99\n",
      "  * **10357 Shelby Cobra 427 S/C [UK]**  – £139.99\n",
      "  * **10357 Shelby Cobra 427 S/C [EU]**  – €149.99\n",
      "  * **10357 Shelby Cobra 427 S/C [CA]**  – CAD$199.99\n",
      "  * **10357 Shelby Cobra 427 S/C [SG]**  – SGD$239.90\n",
      "\n",
      "## 10375 How to Train Your Dragon: Toothless\n",
      "\n",
      "  * **10375 How to Train Your Dragon: Toothless [US]**  – US$69.99\n",
      "  * **10375 How to Train Your Dragon: Toothless [AUS]**  – AU$109.99\n",
      "  * **10375 How to Train Your Dragon: Toothless [UK]**  – £59.99\n",
      "  * **10375 How to Train Your Dragon: Toothless [EU]**  – €69.99\n",
      "  * **10375 How to Train Your Dragon: Toothless [CA]**  – CAD$89.99\n",
      "  * **10375 How to Train Your Dragon: Toothless [SG]**  – SGD$109.99\n",
      "\n",
      "## 43008 Nike Dunk\n",
      "\n",
      "  * **43008 Nike Dunk [US]**  – US$99.99\n",
      "  * **43008 Nike Dunk [AUS]**  – AU$149.99\n",
      "  * **43008 Nike Dunk [UK]**  – £89.99\n",
      "  * **43008 Nike Dunk [EU]**  – €99.99\n",
      "  * **43008 Nike Dunk [CA]**  – CAD$129.99\n",
      "  * **43008 Nike Dunk [SG]**  – SGD$149.90\n",
      "\n",
      "## 75428 Battle Droid With STAP\n",
      "\n",
      "  * **75428 Battle Droid With STAP**  – US$139.99 / AU$199.99 / £119.99 / €129.99\n",
      "\n",
      "## 76329 Miles Morales Mask\n",
      "\n",
      "  * **76329 Miles Morales Mask**  – US$69.99 / AU$109.99 / £59.99 / €69.99 / CAD$89.99  \n",
      "\n",
      "## Subscribe to receive updates on new posts and reviews!\n",
      "\n",
      "Email Address\n",
      "\n",
      "Subscribe\n",
      "\n",
      "To get the latest LEGO news and LEGO Reviews straight in your inbox, subscribe\n",
      "via email, or you can also follow on Google News, or socials on Facebook,\n",
      "Instagram (@jayong28), Bluesky or subscribe to the Jay’s Brick Blog Youtube\n",
      "channel.\n",
      "\n",
      "News\n",
      "\n",
      "10357 Shelby Cobra 427 S/C\n",
      "\n",
      "10375 How to Train Your Dragon: Toothless\n",
      "\n",
      "40788 Friendly Snails\n",
      "\n",
      "40789 Flying Moon Car\n",
      "\n",
      "43008 nike dunk\n",
      "\n",
      "buying guide\n",
      "\n",
      "gift with purchase\n",
      "\n",
      "gwp\n",
      "\n",
      "july 2025\n",
      "\n",
      "lego gwp\n",
      "\n",
      "lego gwp 2025\n",
      "\n",
      "lego icons 2025\n",
      "\n",
      "lego ideas\n",
      "\n",
      "lego ideas 2025\n",
      "\n",
      "lego nike\n",
      "\n",
      "lego nike 2025\n",
      "\n",
      "lego shopping guide\n",
      "\n",
      "lego toothless\n",
      "\n",
      "release guide\n",
      "\n",
      "shopping guide\n",
      "\n",
      "### Leave a Reply Cancel reply\n",
      "\n",
      "Your email address will not be published. Required fields are marked *\n",
      "\n",
      "Comment *\n",
      "\n",
      "Name *\n",
      "\n",
      "Email *\n",
      "\n",
      "Website\n",
      "\n",
      "Notify me of follow-up comments by email.\n",
      "\n",
      "Notify me of new posts by email.\n",
      "\n",
      "Δ\n",
      "\n",
      "* ## Welcome!\n",
      "\n",
      "Hello and welcome to Jay's Brick Blog. In here, you'll find independent LEGO\n",
      "set reviews, commentary on LEGO trends & news, bargain hunting tips and an\n",
      "inside look into the life of an average LEGO fan. Find out more about me  here\n",
      "\n",
      "* ## Subscribe for updates\n",
      "\n",
      "Enter your email address here to receive updates about new posts from Jay's\n",
      "Brick Blog - straight to your inbox!\n",
      "\n",
      "Email Address\n",
      "\n",
      "Subscribe\n",
      "\n",
      "Join 6,848 other subscribers\n",
      "\n",
      "* ## Site Search\n",
      "\n",
      "Search for:\n",
      "\n",
      "* ## Buy LEGO\n",
      "\n",
      "* ## Follow me on Instagram @jayong28\n",
      "\n",
      "### jayong28\n",
      "\n",
      "Here's your first look at the new Wicked: For Good\n",
      "\n",
      "We're getting a new LEGO Stranger Things set! 😃\n",
      "\n",
      "LEGO has officially unveiled 76300 Arkham Asylum l\n",
      "\n",
      "First official look at the new @lego @nintendo Gam\n",
      "\n",
      "Only one more element to go to complete the Light\n",
      "\n",
      "We finally have LEGO Focaccia! 🇮🇹 We get tw\n",
      "\n",
      "Every LEGO Bonsai so far including the new 10373 M\n",
      "\n",
      "Made our own LEGO HUNTR/X from KPop Demon Hunters!\n",
      "\n",
      "🌞 LEGO Ideas invites you to build your very own\n",
      "\n",
      "Load More... Follow on Instagram\n",
      "\n",
      "* ## Follow on Facebook\n",
      "\n",
      "__**This message is only visible to admins.**  \n",
      "Problem displaying Facebook posts. Backup cache in use.  \n",
      "Click to show error\n",
      "\n",
      "**Error:** Error validating access token: The session has been invalidated\n",
      "because the user changed their password or Facebook has changed the session\n",
      "for security reasons. **Type:** OAuthException\n",
      "\n",
      "* ## Recent Posts\n",
      "\n",
      "  * New LEGO Wicked Part 2 sets coming September 2025 includes more Minidoll sets, Minifigure wall art and Brickheadz!\n",
      "  * Another LEGO Stranger Things Brickheadz set is coming with 40801 Mike, Dustin, Lucas and Will Figures\n",
      "  * The 2025 LEGO 76300 Arkham Asylum set is a modular-compatible building!\n",
      "  * The LEGO 72046 Game Boy is revealed, and comes with swappable Mario and Zelda cartridges\n",
      "  * Review: LEGO 21359 Italian Riviera\n",
      "  * Review: LEGO 10372 Hibiscus\n",
      "  * Review: LEGO 10373 Mini Bonsai Trees\n",
      "\n",
      "* ## Categories\n",
      "\n",
      "Categories Select Category 2017 LEGO Preview Adidas advent calendars AFOL Life\n",
      "Angry Birds Animal Crossing Architecture Australian LEGO Sale Avatar Avengers:\n",
      "Age of Ultron Blog Brick Sketches Brickheadz Bricklink Build-a-Minifigure\n",
      "Castle City Creator 3-in-1 Creator Expert DC Super Hero Girls DC Super Heroes\n",
      "Disney Disney Princess DreamZzz Editorial Elves Events Feature Foolin' Around\n",
      "Friends Gift with Purchase Giveaway Guest Contributor Guest Reviews Harry\n",
      "Potter Hidden Side Holidays Indiana Jones Interviews Juniors Jurassic World\n",
      "Jurassic World 2020 Jurassic World Legend of Isla Nublar (2019) Just For Fun\n",
      "Legend of Zelda Legend of Zelda LEGO Art LEGO Books LEGO Collector Guides LEGO\n",
      "Designs LEGO Dimensions LEGO Fortnite LEGO Gaming LEGO GIft Guides LEGO Icons\n",
      "LEGO Ideas LEGO Inspiration LEGO Masters Australia LEGO MOCs LEGO Movie 2 LEGO\n",
      "Photography LEGO Power Rankings LEGO Reviews LEGO Sales and Offers LEGO Stores\n",
      "LEGO Super Mario LEGO Video Games Lord of the Rings Marvel Super Heroes\n",
      "Minecraft Minifigures Mixels MOC MOCs Down Under Monday Musings Monster\n",
      "Fighters Month in Review News Nexo Knights Nike Ninjago Other Overwatch\n",
      "Personal Photography Pirates 2015 Pirates of the Caribbean Predictions\n",
      "Previews Prince of Persia Promotional Promotional Polybags Retro Brick Retro\n",
      "LEGO Reviews Satire Scooby Doo Seasonal Sets Sonic the Hedgehog Speed\n",
      "Champions Star Wars Technic The Hobbit The LEGO Batman Movie The LEGO Movie\n",
      "Tutorial Unboxing Uncategorized Video Vidiyo What is? Wicked Winter Village\n",
      "\n",
      "* ## Archives\n",
      "\n",
      "Archives Select Month July 2025  June 2025  May 2025  April 2025  March 2025\n",
      "February 2025  January 2025  December 2024  November 2024  October 2024\n",
      "September 2024  August 2024  July 2024  June 2024  May 2024  April 2024  March\n",
      "2024  February 2024  January 2024  December 2023  November 2023  October 2023\n",
      "September 2023  August 2023  July 2023  June 2023  May 2023  April 2023  March\n",
      "2023  February 2023  January 2023  December 2022  November 2022  October 2022\n",
      "September 2022  August 2022  July 2022  June 2022  May 2022  April 2022  March\n",
      "2022  February 2022  January 2022  December 2021  November 2021  October 2021\n",
      "September 2021  August 2021  July 2021  June 2021  May 2021  April 2021  March\n",
      "2021  February 2021  January 2021  December 2020  November 2020  October 2020\n",
      "September 2020  August 2020  July 2020  June 2020  May 2020  April 2020  March\n",
      "2020  February 2020  January 2020  December 2019  November 2019  October 2019\n",
      "September 2019  August 2019  July 2019  June 2019  May 2019  April 2019  March\n",
      "2019  February 2019  January 2019  December 2018  November 2018  October 2018\n",
      "September 2018  August 2018  July 2018  May 2018  April 2018  March 2018\n",
      "February 2018  January 2018  December 2017  November 2017  September 2017\n",
      "August 2017  July 2017  June 2017  May 2017  April 2017  March 2017  February\n",
      "2017  January 2017  December 2016  November 2016  October 2016  September 2016\n",
      "August 2016  July 2016  June 2016  May 2016  April 2016  March 2016  February\n",
      "2016  January 2016  December 2015  November 2015  October 2015  September 2015\n",
      "August 2015  July 2015  June 2015  May 2015  April 2015  March 2015  February\n",
      "2015  January 2015  December 2014  November 2014  October 2014  September 2014\n",
      "August 2014  July 2014  June 2014  May 2014  April 2014  March 2014  February\n",
      "2014  January 2014  December 2013  November 2013  October 2013  September 2013\n",
      "August 2013  July 2013  June 2013  May 2013  January 2013  September 2012\n",
      "August 2012  July 2012  June 2012  May 2012  April 2012  March 2012  February\n",
      "2012  January 2012  December 2011\n",
      "\n",
      "Jay is passionate about LEGO and the endless creative adventures made possible\n",
      "by this complex interlocking brick system.\n",
      "\n",
      "About Jay\n",
      "\n",
      "* ## Subscribe for updates\n",
      "\n",
      "Enter your email address here to receive updates about new posts from Jay's\n",
      "Brick Blog - straight to your inbox!\n",
      "\n",
      "Email Address\n",
      "\n",
      "Subscribe\n",
      "\n",
      "Join 6,848 other subscribers\n",
      "\n",
      "Follow\n",
      "\n",
      "Branding and website design and build by Canvas Group\n",
      "\n",
      "\n"
     ]
    }
   ],
   "source": [
    "from langchain.document_loaders import AsyncHtmlLoader\n",
    "from langchain.document_transformers import Html2TextTransformer\n",
    "\n",
    "# load html content from site\n",
    "site_loader = AsyncHtmlLoader(list(target_url_set))\n",
    "scraped_docs = site_loader.load()\n",
    "\n",
    "# convert to text data\n",
    "text_trns = Html2TextTransformer()\n",
    "text_docs = text_trns.transform_documents(scraped_docs)\n",
    "\n",
    "cleaned_text = text_docs[0].page_content\n",
    "print(cleaned_text)"
   ]
  },
  {
   "cell_type": "markdown",
   "id": "1587a70e-f2b1-4722-b862-129f89608adc",
   "metadata": {},
   "source": [
    "## Chunking data"
   ]
  },
  {
   "cell_type": "code",
   "execution_count": 83,
   "id": "9bf865b1-dadf-43d4-b46a-26d5d4137b8c",
   "metadata": {},
   "outputs": [
    {
     "name": "stdout",
     "output_type": "stream",
     "text": [
      "59\n"
     ]
    }
   ],
   "source": [
    "from langchain_text_splitters import RecursiveCharacterTextSplitter\n",
    "\n",
    "text_splitter = RecursiveCharacterTextSplitter(chunk_size=1000, chunk_overlap=200)\n",
    "splits = text_splitter.split_documents(text_docs)\n",
    "print(len(splits))"
   ]
  },
  {
   "cell_type": "markdown",
   "id": "625c41f5-ea37-4f7d-84a4-66e82d70992b",
   "metadata": {},
   "source": [
    "## Embedding chunks and creating retriever"
   ]
  },
  {
   "cell_type": "code",
   "execution_count": 84,
   "id": "de709e50-b181-424e-96e2-8ac2641da4b0",
   "metadata": {},
   "outputs": [],
   "source": [
    "from langchain_chroma import Chroma\n",
    "from langchain_openai import OpenAIEmbeddings\n",
    "\n",
    "vectorstore = Chroma.from_documents(documents=splits, embedding=OpenAIEmbeddings())\n",
    "\n",
    "retriever = vectorstore.as_retriever()"
   ]
  },
  {
   "cell_type": "markdown",
   "id": "52eb8f4e-d992-4dbf-a86e-d2f532ff112f",
   "metadata": {},
   "source": [
    "## Comparing non-rag answer and rag answer"
   ]
  },
  {
   "cell_type": "code",
   "execution_count": 85,
   "id": "2efaf4e0-adbb-49f3-81b7-aa2485468a26",
   "metadata": {},
   "outputs": [],
   "source": [
    "non_rag_answer = llm.invoke(user_prompt)"
   ]
  },
  {
   "cell_type": "code",
   "execution_count": 86,
   "id": "c546a57f-05f6-4b2f-8884-e74a206ec292",
   "metadata": {},
   "outputs": [
    {
     "name": "stdout",
     "output_type": "stream",
     "text": [
      "As of my last knowledge update in October 2023, some of the new LEGO sets released around that time included:\n",
      "\n",
      "1. **LEGO Icons - Eiffel Tower**: A highly detailed and large-scale model of the famous Paris landmark.\n",
      "2. **LEGO Star Wars - The Mandalorian Forge**: A set featuring iconic scenes and characters from \"The Mandalorian\" series.\n",
      "3. **LEGO Creator Expert - Titanic**: A massive set replicating the iconic ocean liner with intricate detailing.\n",
      "4. **LEGO Harry Potter - Hogwarts Magical Trunk**: A playset that combines various elements from the Harry Potter universe, including different character builds and magical accessories.\n",
      "5. **LEGO Super Mario - Character Packs Series 6**: Includes new characters to enhance Super Mario Adventures.\n",
      "6. **LEGO Friends - Botanical Garden**: A detailed and colorful set featuring a garden and various plant species.\n",
      "\n",
      "For the very latest releases, I recommend checking the official LEGO website or major retailers, as new sets are frequently launched throughout the year.\n"
     ]
    }
   ],
   "source": [
    "print(non_rag_answer.content)"
   ]
  },
  {
   "cell_type": "code",
   "execution_count": 87,
   "id": "27980650-39ff-47bd-b462-9c54827c5a66",
   "metadata": {},
   "outputs": [],
   "source": [
    "rag_system_prompt = (\n",
    "    \"You are an assistant for question-answering tasks. \"\n",
    "    \"Use the following pieces of retrieved context to answer \"\n",
    "    \"the question. If you don't know the answer, say that you \"\n",
    "    \"don't know. Make your answers fairly detailed. Remember that the current date is July 2025\"\n",
    "    \"\\n\\n\"\n",
    "    \"{context}\"\n",
    ")\n",
    "\n",
    "rag_prompt = ChatPromptTemplate.from_messages(\n",
    "    [\n",
    "        (\"system\", rag_system_prompt),\n",
    "        MessagesPlaceholder(variable_name = \"memory\"),    # injecting convo memory\n",
    "        (\"human\", \"{input}\"),\n",
    "    ]\n",
    ")"
   ]
  },
  {
   "cell_type": "code",
   "execution_count": 88,
   "id": "9c1c0f15-972d-4169-83fe-57dde4c7a518",
   "metadata": {},
   "outputs": [],
   "source": [
    "from langchain.chains import create_retrieval_chain\n",
    "from langchain.chains.combine_documents import create_stuff_documents_chain\n",
    "\n",
    "question_answer_chain = create_stuff_documents_chain(llm, rag_prompt)\n",
    "rag_chain = create_retrieval_chain(retriever, question_answer_chain)"
   ]
  },
  {
   "cell_type": "markdown",
   "id": "3469a499-ab98-4ed4-b1fe-47c7b60d2c8d",
   "metadata": {},
   "source": [
    "## Adding temp convo memory"
   ]
  },
  {
   "cell_type": "code",
   "execution_count": 89,
   "id": "3b01fd17-26b3-4c9a-81a0-ccb3dc700f0a",
   "metadata": {},
   "outputs": [],
   "source": [
    "from langchain_core.prompts import HumanMessagePromptTemplate\n",
    "from langchain_core.prompts import MessagesPlaceholder\n",
    "from langchain.memory import ConversationBufferMemory\n",
    "from langchain.memory import FileChatMessageHistory\n",
    "from langchain_core.runnables.history import RunnableWithMessageHistory"
   ]
  },
  {
   "cell_type": "code",
   "execution_count": 90,
   "id": "987b01b6-e20c-45a7-aaed-935f61d51e95",
   "metadata": {},
   "outputs": [],
   "source": [
    "# rag_memory = ConversationBufferMemory(\n",
    "#     chat_memory = FileChatMessageHistory(\"messages.json\"),\n",
    "#     memory_key = \"history\",\n",
    "#     return_messages = True\n",
    "# )\n",
    "\n",
    "rag_memory = FileChatMessageHistory(\"messages.json\")"
   ]
  },
  {
   "cell_type": "code",
   "execution_count": 91,
   "id": "7a7625c7-3bd2-4770-819b-46b436a5532c",
   "metadata": {},
   "outputs": [],
   "source": [
    "def get_rag_mem(_):\n",
    "    return rag_memory"
   ]
  },
  {
   "cell_type": "code",
   "execution_count": 92,
   "id": "318a1e45-a73d-4364-888d-07f75c6f14a6",
   "metadata": {},
   "outputs": [],
   "source": [
    "rag_mem_chain = RunnableWithMessageHistory(\n",
    "    rag_chain,\n",
    "    get_rag_mem,\n",
    "    input_messages_key=\"input\",\n",
    "    history_messages_key=\"memory\"\n",
    ")"
   ]
  },
  {
   "cell_type": "code",
   "execution_count": 93,
   "id": "b1cc7080-073f-4a06-9186-7519736c54dc",
   "metadata": {},
   "outputs": [
    {
     "name": "stderr",
     "output_type": "stream",
     "text": [
      "Error in RootListenersTracer.on_chain_end callback: KeyError('output')\n"
     ]
    }
   ],
   "source": [
    "rag_answer = rag_mem_chain.invoke({\"input\": user_prompt}, config={\"configurable\": {\"session_id\": \"irrelevant\"}})"
   ]
  },
  {
   "cell_type": "code",
   "execution_count": 32,
   "id": "4a457605-327e-4e8b-a3b9-def190771c86",
   "metadata": {},
   "outputs": [
    {
     "name": "stdout",
     "output_type": "stream",
     "text": [
      "[Document(id='cb9556b4-b775-4d0d-8ad5-90e74a03fa48', metadata={'language': 'en-US', 'title': '2025 Movies: Release Dates For Most Anticipated Films', 'source': 'https://deadline.com/lists/2025-movies/'}, page_content=\"**RELATED:The Movies That Have Made More Than $1 Billion At The Box Office**\\n\\nJanuary kicked it off with combination of theatrical releases like the\\nChristopher Abbott-starring _Wolf Man_ and streamer offerings including\\nNetflix's _Back In Action_ starring Jamie Foxx and Cameron Diaz as well as\\nPrime Video's _You 're Cordially Invited_ starring Will Ferrell and Reese\\nWitherspoon. February marked the first of the Marvel films releasing in 2025\\n-- _Captain America: Brave New World_ -- as well as the return of Renée\\nZellweger's Bridget Jones in the franchise's fourth installment _Bridget\\nJones: Mad About the Boy_ , which will be streaming on Peacock just in time\\nfor Valentine's Day.\\n\\n**RELATED:29 Of The Most Anticipated New And Returning TV Shows Of 2025**\\n\\nScroll on to see Deadline's 30 most anticipated films and their release dates.\\nAll films set to play in theaters unless otherwise noted.\\n\\n  * ## ‘Jurassic World: Rebirth,’ July 2\"), Document(id='5a89cca1-b38c-4972-92fe-afd01a7bd481', metadata={'source': 'https://deadline.com/lists/2025-movies/', 'language': 'en-US', 'title': '2025 Movies: Release Dates For Most Anticipated Films'}, page_content=\"View All\\n\\nJuly 2, 2025 9:30am\\n\\n34Comments\\n\\n## Services to share this page.\\n\\n  * Share on Facebook\\n  * Post\\n  * Share to Flipboard\\n  * Pin it\\n  * Show more sharing options\\n  * Post to Tumblr\\n  * Submit to Reddit\\n  * Share on LinkedIn\\n  * Share on WhatsApp\\n  * Email\\n  * Print This Page\\n\\nFrom left: 'Jurassic World: Rebirth,' 'Superman,' 'Avatar: Fire and Ash' and\\n'Mission: Impossible - The Final Reckoning' Universal; DC; Lightstorm;\\nParamount\\n\\nOn the heels of a packed holiday box office at the end of 2024 that saw\\n_Wicked: Part One_ versus _Gladiator II_ followed by _Moana 2_ ahead of\\nThanksgiving and then _A Complete Unknown_ and _Babygirl_ leading the\\nChristmas Day releases, 2025 has its own stacked roster of big film titles.\\n\\nHeading into the summer, some big box office tentpoles arriving in the warm\\nmonths of the year include _Jurassic World: Rebirth_ as well as _The Fantastic\\nFour: First Steps_ both arriving in July. _Freakier Friday_ will arrive in\\ntheaters in August.\"), Document(id='b456eb56-6b54-41d3-8bfa-455952f8cfa7', metadata={'title': '  The Most Anticipated Movies of 2025\\t\\t\\t\\t\\t\\t\\t | \\tRotten Tomatoes', 'source': 'https://editorial.rottentomatoes.com/article/the-most-anticipated-movies-of-2025/', 'language': 'en-US', 'description': \"There's plenty of superheroic action, blockbuster thrills, and family-friendly fare, but also some noteworthy indies and potential gems to look forward to.\"}, page_content=\"*   * \\n\\nHome\\n\\nTop Box Office\\n\\nTickets & Showtimes\\n\\nDVD & Streaming\\n\\nTV\\n\\nNews\\n\\nSIGN UP LOG IN\\n\\nJester McGree\\n\\nLogout\\n\\n**About Rotten Tomatoes ®** **Critics**\\n\\n__\\n\\n__\\n\\n  * __Home\\n  * __Box Office\\n  * __TV\\n  * __DVD\\n  * __MORE\\n\\n  * News\\n  * __ __\\n\\nMovies\\n\\nTV Shows\\n\\nFanstore\\n\\nNews\\n\\nShowtimes\\n\\n  * Trending on RT\\n\\n  * Home \\n  * TV & Streaming Shows \\n  * Best & Popular \\n  * Upcoming in 2025 \\n\\n##  News\\n\\n# The Most Anticipated Movies of 2025\\n\\n## There's plenty of superheroic action, blockbuster thrills, and family-\\nfriendly fare, but also some noteworthy indies and potential gems to look\\nforward to.\\n\\nby Christina Liu | June 30, 2025 |  Comments\\n\\n* * *\\n\\nTAGGED AS: movies\\n\\nAs movie theater prices continue to increase (let's not even talk about those\\nconcessions), we know it can be tough to figure out which movies to spend your\\nhard-earned money on. With that in mind, here's a handy calendar of some of\\nthe most noteworthy titles coming in 2025 so you can budget and plan\\naccordingly.\"), Document(id='ffcc8272-c529-4542-8aaa-aa3446ef039a', metadata={'title': '  Best New Movies of 2025, Ranked by Tomatometer\\t\\t\\t\\t\\t\\t\\t | \\tRotten Tomatoes', 'description': 'Discover every Certified Fresh movie of the year, including KPop Demon Hunters, Superman, F1 the Movie, Elio, 28 Years Later.', 'source': 'https://editorial.rottentomatoes.com/guide/best-new-movies/', 'language': 'en-US'}, page_content=\"*   * \\n\\nHome\\n\\nTop Box Office\\n\\nTickets & Showtimes\\n\\nDVD & Streaming\\n\\nTV\\n\\nNews\\n\\nSIGN UP LOG IN\\n\\nJester McGree\\n\\nLogout\\n\\n**About Rotten Tomatoes ®** **Critics**\\n\\n__\\n\\n__\\n\\n  * __Home\\n  * __Box Office\\n  * __TV\\n  * __DVD\\n  * __MORE\\n\\n  * News\\n  * __ __\\n\\nMovies\\n\\nTV Shows\\n\\nFanstore\\n\\nNews\\n\\nShowtimes\\n\\n  * Trending on RT\\n\\n# Best New Movies of 2025, Ranked by Tomatometer\\n\\n(Photo by Netflix/Courtesy Everett Collection. KPOP DEMON HUNTERS.)\\n\\n* * *\\n\\n**The latest:** In an auspicious debut for the new DCU, _**Superman **_is\\nCertified Fresh! Also in the mix: Nick Offerman political thriller\\n_**Sovereign**_ , and Netflix animation sensation _**KPop Demon Hunters**_.  \\n  \\nJuly kicks off with the promise of **40 Acres** , a **Cloud** , plus a\\n**Familiar Touch**.  \\n  \\nWe've just added **_Deep Cover_** , **_F1 The Movie_** , **_Sorry, Baby_** ,\\n**_The Queen of My Dreams_** , **_Elio_** , and **_28 Years Later_**.\\n\\n* * *\")]\n"
     ]
    }
   ],
   "source": [
    "# print(rag_answer[\"context\"])"
   ]
  },
  {
   "cell_type": "code",
   "execution_count": 94,
   "id": "2110049a-e94d-4d45-94c4-ea5b2736f33c",
   "metadata": {},
   "outputs": [
    {
     "name": "stdout",
     "output_type": "stream",
     "text": [
      "4\n"
     ]
    }
   ],
   "source": [
    "src_count = len(rag_answer[\"context\"])\n",
    "print(src_count)"
   ]
  },
  {
   "cell_type": "code",
   "execution_count": 95,
   "id": "8fa2d70c-08f0-4e55-bbac-fb51afc91f17",
   "metadata": {},
   "outputs": [
    {
     "name": "stdout",
     "output_type": "stream",
     "text": [
      "{'https://brickbanter.com/category/2025/july-2025/every-new-lego-set-releasing-in-july-2025/', 'https://falconbricks.com/news/lego-july-2025-sets/', 'https://jaysbrickblog.com/news/buying-guide-every-new-lego-set-releasing-july-2025/', 'https://www.ign.com/articles/new-lego-sets-for-july-2025'}\n"
     ]
    }
   ],
   "source": [
    "sources_set = set()\n",
    "\n",
    "for i in range(src_count):\n",
    "    sources_set.add(rag_answer[\"context\"][i].metadata[\"source\"])\n",
    "\n",
    "print(sources_set)"
   ]
  },
  {
   "cell_type": "markdown",
   "id": "93039db2-3273-45e8-aff5-9452bd619c31",
   "metadata": {},
   "source": [
    "Rag Answer:"
   ]
  },
  {
   "cell_type": "code",
   "execution_count": 96,
   "id": "923f44b3-814c-4d4f-8272-29e438fd3395",
   "metadata": {},
   "outputs": [
    {
     "name": "stdout",
     "output_type": "stream",
     "text": [
      "As of July 2025, several new LEGO sets have been released, including:\n",
      "\n",
      "1. **LEGO Icons - How to Train Your Dragon: Toothless** (Set 10375) - Priced at $69.99, this set celebrates the beloved character Toothless from the \"How to Train Your Dragon\" series.\n",
      "\n",
      "2. **LEGO Icons - Shelby Cobra 427 S/C** (Set 10357) - This classic car model is available for $159.99 and captures the iconic design of the Shelby Cobra.\n",
      "\n",
      "3. **LEGO Nike Dunk** (Set 43008) - A part of the new collaboration between LEGO and Nike, this set is being sold for $99.99.\n",
      "\n",
      "4. **LEGO Star Wars - Battle Droid with STAP** (Set 75428) - This set is part of the extensive Star Wars collection and features a Battle Droid along with a STAP. \n",
      "\n",
      "5. **LEGO Marvel - Miles Morales’ Mask** (Set 76329) - This LEGO set focuses on the character Miles Morales from the Marvel universe.\n",
      "\n",
      "Additionally, other notable sets that have also been mentioned include:\n",
      "\n",
      "- **LEGO Super Mario: Mario Kart – Mario & Standard Kart** - Priced at $169.99.\n",
      "- **LEGO Icons The Lord of The Rings: The Shire** - Priced at $269.99.\n",
      "- **LEGO Disney: Beauty and The Beast Castle** - Priced at $279.99.\n",
      "- **LEGO Ideas River Steamboat** - Priced at $329.99, which releases on August 1.\n",
      "\n",
      "These sets represent a mix of themes, catering to fans of various interests, including movies, classic cars, and sports.\n"
     ]
    }
   ],
   "source": [
    "print(rag_answer[\"answer\"])"
   ]
  },
  {
   "cell_type": "code",
   "execution_count": 97,
   "id": "219fc580-85f3-4507-ac3a-a8eb35d318a8",
   "metadata": {},
   "outputs": [
    {
     "name": "stdout",
     "output_type": "stream",
     "text": [
      "Citations:\n",
      "https://brickbanter.com/category/2025/july-2025/every-new-lego-set-releasing-in-july-2025/\n",
      "https://falconbricks.com/news/lego-july-2025-sets/\n",
      "https://jaysbrickblog.com/news/buying-guide-every-new-lego-set-releasing-july-2025/\n",
      "https://www.ign.com/articles/new-lego-sets-for-july-2025\n"
     ]
    }
   ],
   "source": [
    "print(\"Citations:\")\n",
    "for src in sources_set:\n",
    "    print(src)"
   ]
  },
  {
   "cell_type": "code",
   "execution_count": 98,
   "id": "c5d7211b-eb21-413f-bcc9-a5bbdaa89ae7",
   "metadata": {},
   "outputs": [],
   "source": [
    "# no memory?"
   ]
  },
  {
   "cell_type": "code",
   "execution_count": null,
   "id": "6305943b-af7c-45b6-ae71-116a58f3dde3",
   "metadata": {},
   "outputs": [],
   "source": []
  }
 ],
 "metadata": {
  "kernelspec": {
   "display_name": "Python 3 (ipykernel)",
   "language": "python",
   "name": "python3"
  },
  "language_info": {
   "codemirror_mode": {
    "name": "ipython",
    "version": 3
   },
   "file_extension": ".py",
   "mimetype": "text/x-python",
   "name": "python",
   "nbconvert_exporter": "python",
   "pygments_lexer": "ipython3",
   "version": "3.13.5"
  }
 },
 "nbformat": 4,
 "nbformat_minor": 5
}
