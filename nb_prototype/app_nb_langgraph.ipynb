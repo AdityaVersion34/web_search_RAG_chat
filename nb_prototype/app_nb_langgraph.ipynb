{
 "cells": [
  {
   "cell_type": "code",
   "execution_count": 1,
   "id": "7d146bbb-1357-43cb-b4fd-03b99bd473f2",
   "metadata": {},
   "outputs": [],
   "source": [
    "import os\n",
    "from dotenv import load_dotenv, find_dotenv\n",
    "_ = load_dotenv(find_dotenv())\n",
    "openai_api_key = os.environ[\"OPENAI_API_KEY\"]"
   ]
  },
  {
   "cell_type": "code",
   "execution_count": 2,
   "id": "45b9afa5-ab94-47c0-beca-de19d4edc3e3",
   "metadata": {},
   "outputs": [],
   "source": [
    "# creating and testing web search tool\n",
    "\n",
    "import requests\n",
    "from bs4 import BeautifulSoup\n",
    "from urllib.parse import urlparse, unquote\n",
    "import time\n",
    "\n",
    "from langchain.agents import Tool\n",
    "\n",
    "cse_key = os.environ[\"GOOGLE_CSE_KEY\"]\n",
    "cse_id = os.environ[\"GOOGLE_CSE_ID\"]\n",
    "\n",
    "def web_search_and_ingest(query):\n",
    "    # first search query via CSE\n",
    "\n",
    "    #query = search_query.replace('+', ' ')\n",
    "\n",
    "    cse_url = 'https://www.googleapis.com/customsearch/v1'\n",
    "    cse_params = {\n",
    "        'q': query,\n",
    "        'key': cse_key,\n",
    "        'cx': cse_id\n",
    "    }\n",
    "    \n",
    "    response = requests.get(cse_url, cse_params)\n",
    "\n",
    "    # obtain first k urls\n",
    "\n",
    "    cse_results = response.json()\n",
    "\n",
    "    target_url_set = set()\n",
    "    \n",
    "    if 'items' in cse_results:\n",
    "        for result in cse_results['items']:\n",
    "            if len(target_url_set) >= 5:    # number of search results (need to add macro)\n",
    "                break\n",
    "            else:\n",
    "                #target_url_set.add(result['link'])\n",
    "                print(result['link'])\n",
    "    \n",
    "    # scrape links\n",
    "\n",
    "    # site_loader = AsyncHtmlLoader(list(target_url_set))\n",
    "    # scraped_docs = site_loader.load()\n",
    "    \n",
    "    # text_trns = Html2TextTransformer()\n",
    "    # text_docs = text_trns.transform_documents(scraped_docs)\n",
    "\n",
    "    # # split and embed\n",
    "\n",
    "    # splits = text_splitter.split_documents(text_docs)\n",
    "    # vectorstore.add_documents(documents=splits)"
   ]
  },
  {
   "cell_type": "code",
   "execution_count": 3,
   "id": "ee7a44c1-afe0-48cd-be2f-db14853f8cbe",
   "metadata": {},
   "outputs": [],
   "source": [
    "web_search_tool = Tool(\n",
    "    name=\"WebSearch\",\n",
    "    func=web_search_and_ingest,\n",
    "    description=\"Use when current context is insufficient or up-to-date info is required.\"\n",
    ")"
   ]
  },
  {
   "cell_type": "code",
   "execution_count": 4,
   "id": "1e5f771f-3a41-46c4-86d6-7789c16227be",
   "metadata": {},
   "outputs": [
    {
     "name": "stderr",
     "output_type": "stream",
     "text": [
      "Failed to multipart ingest runs: langsmith.utils.LangSmithError: Failed to POST https://api.smith.langchain.com/runs/multipart in LangSmith API. HTTPError('403 Client Error: Forbidden for url: https://api.smith.langchain.com/runs/multipart', '{\"error\":\"Forbidden\"}\\n')\n"
     ]
    },
    {
     "name": "stdout",
     "output_type": "stream",
     "text": [
      "https://www.reddit.com/r/runescape/comments/181jfok/what_is_runescape/\n",
      "https://runescape.com/\n",
      "https://www.reddit.com/r/2007scape/comments/52o8ry/why_is_runescape_called_runescape/\n",
      "https://en.wikipedia.org/wiki/RuneScape\n",
      "https://www.reddit.com/r/runescape/comments/14z39c2/is_runescape_3_the_same_thing_as_runescape/\n",
      "https://www.runescape.com/community\n",
      "https://www.quora.com/I-want-to-start-playing-RuneScape-today-Which-is-better-old-or-new\n",
      "https://www.facebook.com/groups/rs3community/posts/1794874511267704/\n",
      "https://rs.runescape.com/membership\n",
      "https://us.forums.blizzard.com/en/wow/t/how-is-runescape-almost-as-popular-as-wow/974362\n"
     ]
    },
    {
     "name": "stderr",
     "output_type": "stream",
     "text": [
      "Failed to send compressed multipart ingest: langsmith.utils.LangSmithError: Failed to POST https://api.smith.langchain.com/runs/multipart in LangSmith API. HTTPError('403 Client Error: Forbidden for url: https://api.smith.langchain.com/runs/multipart', '{\"error\":\"Forbidden\"}\\n')\n",
      "Failed to send compressed multipart ingest: langsmith.utils.LangSmithError: Failed to POST https://api.smith.langchain.com/runs/multipart in LangSmith API. HTTPError('403 Client Error: Forbidden for url: https://api.smith.langchain.com/runs/multipart', '{\"error\":\"Forbidden\"}\\n')\n",
      "Failed to send compressed multipart ingest: langsmith.utils.LangSmithError: Failed to POST https://api.smith.langchain.com/runs/multipart in LangSmith API. HTTPError('403 Client Error: Forbidden for url: https://api.smith.langchain.com/runs/multipart', '{\"error\":\"Forbidden\"}\\n')\n",
      "Failed to send compressed multipart ingest: langsmith.utils.LangSmithError: Failed to POST https://api.smith.langchain.com/runs/multipart in LangSmith API. HTTPError('403 Client Error: Forbidden for url: https://api.smith.langchain.com/runs/multipart', '{\"error\":\"Forbidden\"}\\n')\n",
      "Failed to send compressed multipart ingest: langsmith.utils.LangSmithError: Failed to POST https://api.smith.langchain.com/runs/multipart in LangSmith API. HTTPError('403 Client Error: Forbidden for url: https://api.smith.langchain.com/runs/multipart', '{\"error\":\"Forbidden\"}\\n')\n",
      "Failed to send compressed multipart ingest: langsmith.utils.LangSmithError: Failed to POST https://api.smith.langchain.com/runs/multipart in LangSmith API. HTTPError('403 Client Error: Forbidden for url: https://api.smith.langchain.com/runs/multipart', '{\"error\":\"Forbidden\"}\\n')\n",
      "Failed to send compressed multipart ingest: langsmith.utils.LangSmithError: Failed to POST https://api.smith.langchain.com/runs/multipart in LangSmith API. HTTPError('403 Client Error: Forbidden for url: https://api.smith.langchain.com/runs/multipart', '{\"error\":\"Forbidden\"}\\n')\n",
      "Failed to send compressed multipart ingest: langsmith.utils.LangSmithError: Failed to POST https://api.smith.langchain.com/runs/multipart in LangSmith API. HTTPError('403 Client Error: Forbidden for url: https://api.smith.langchain.com/runs/multipart', '{\"error\":\"Forbidden\"}\\n')\n",
      "Failed to send compressed multipart ingest: langsmith.utils.LangSmithError: Failed to POST https://api.smith.langchain.com/runs/multipart in LangSmith API. HTTPError('403 Client Error: Forbidden for url: https://api.smith.langchain.com/runs/multipart', '{\"error\":\"Forbidden\"}\\n')\n"
     ]
    }
   ],
   "source": [
    "tools = [web_search_tool]\n",
    "web_search_tool.invoke(\"What is runescape?\")"
   ]
  },
  {
   "cell_type": "code",
   "execution_count": 5,
   "id": "7ab51971-8f35-409d-a8dd-ba6c211d62c6",
   "metadata": {},
   "outputs": [
    {
     "data": {
      "text/plain": [
       "<langgraph.graph.state.StateGraph at 0x26897683770>"
      ]
     },
     "execution_count": 5,
     "metadata": {},
     "output_type": "execute_result"
    }
   ],
   "source": [
    "from typing import Annotated\n",
    "\n",
    "from langchain.chat_models import init_chat_model\n",
    "from typing_extensions import TypedDict\n",
    "\n",
    "from langgraph.graph import StateGraph, START, END\n",
    "from langgraph.graph.message import add_messages\n",
    "\n",
    "\n",
    "class State(TypedDict):\n",
    "    messages: Annotated[list, add_messages]\n",
    "\n",
    "\n",
    "graph_builder = StateGraph(State)\n",
    "\n",
    "\n",
    "llm = init_chat_model(\"openai:gpt-4o-mini\")\n",
    "llm_with_tools = llm.bind_tools(tools)\n",
    "\n",
    "\n",
    "def chatbot(state: State):\n",
    "    return {\"messages\": [llm_with_tools.invoke(state[\"messages\"])]}\n",
    "\n",
    "\n",
    "# The first argument is the unique node name\n",
    "# The second argument is the function or object that will be called whenever\n",
    "# the node is used.\n",
    "graph_builder.add_node(\"chatbot\", chatbot)"
   ]
  },
  {
   "cell_type": "code",
   "execution_count": 6,
   "id": "9d05da5e-e2d6-4e77-9b9a-4d0729f2a147",
   "metadata": {},
   "outputs": [
    {
     "data": {
      "text/plain": [
       "<langgraph.graph.state.StateGraph at 0x26897683770>"
      ]
     },
     "execution_count": 6,
     "metadata": {},
     "output_type": "execute_result"
    }
   ],
   "source": [
    "from langgraph.prebuilt import ToolNode, tools_condition\n",
    "\n",
    "tool_node = ToolNode(tools)\n",
    "graph_builder.add_node(\"tools\", tool_node)"
   ]
  },
  {
   "cell_type": "code",
   "execution_count": 7,
   "id": "8603c052-30cb-4760-bfbc-12c6cd95a36c",
   "metadata": {},
   "outputs": [
    {
     "data": {
      "text/plain": [
       "<langgraph.graph.state.StateGraph at 0x26897683770>"
      ]
     },
     "execution_count": 7,
     "metadata": {},
     "output_type": "execute_result"
    }
   ],
   "source": [
    "graph_builder.add_conditional_edges(\n",
    "    \"chatbot\",\n",
    "    tools_condition,\n",
    ")\n",
    "\n",
    "graph_builder.add_edge(\"tools\", \"chatbot\")"
   ]
  },
  {
   "cell_type": "markdown",
   "id": "0b0aac5e-c7be-4617-9d66-33f8da2d8db8",
   "metadata": {},
   "source": [
    "## For now, will just search, embed, retrieve each time"
   ]
  },
  {
   "cell_type": "code",
   "execution_count": 8,
   "id": "a2bb965a-731e-4448-8269-7d355bc5e46f",
   "metadata": {},
   "outputs": [],
   "source": [
    "from langgraph.checkpoint.memory import InMemorySaver\n",
    "\n",
    "memory = InMemorySaver()"
   ]
  },
  {
   "cell_type": "code",
   "execution_count": null,
   "id": "ad2b396f-59fe-4824-8016-4821dbbc894f",
   "metadata": {},
   "outputs": [],
   "source": []
  },
  {
   "cell_type": "code",
   "execution_count": 9,
   "id": "56327ec4-1a15-4569-8ffc-6ab4edcb369b",
   "metadata": {},
   "outputs": [
    {
     "data": {
      "text/plain": [
       "<langgraph.graph.state.StateGraph at 0x26897683770>"
      ]
     },
     "execution_count": 9,
     "metadata": {},
     "output_type": "execute_result"
    }
   ],
   "source": [
    "graph_builder.add_edge(START, \"chatbot\")\n",
    "graph_builder.add_edge(\"chatbot\", END)"
   ]
  },
  {
   "cell_type": "code",
   "execution_count": 10,
   "id": "45cbe78d-0fc5-400a-995c-eb93338a80df",
   "metadata": {},
   "outputs": [],
   "source": [
    "graph = graph_builder.compile(checkpointer=memory)"
   ]
  },
  {
   "cell_type": "code",
   "execution_count": 11,
   "id": "cbd58700-2a13-4d12-930d-de475bfae002",
   "metadata": {},
   "outputs": [
    {
     "data": {
      "image/png": "[encoded data removed]",
      "text/plain": [
       "<IPython.core.display.Image object>"
      ]
     },
     "metadata": {},
     "output_type": "display_data"
    }
   ],
   "source": [
    "from IPython.display import Image, display\n",
    "\n",
    "try:\n",
    "    display(Image(graph.get_graph().draw_mermaid_png()))\n",
    "except Exception:\n",
    "    # This requires some extra dependencies and is optional\n",
    "    pass"
   ]
  },
  {
   "cell_type": "code",
   "execution_count": 12,
   "id": "2c6ce992-7ced-4859-8806-972abee69d3c",
   "metadata": {},
   "outputs": [
    {
     "name": "stdin",
     "output_type": "stream",
     "text": [
      "User:  what is runescape?\n"
     ]
    },
    {
     "name": "stdout",
     "output_type": "stream",
     "text": [
      "Assistant: RuneScape is a massively multiplayer online role-playing game (MMORPG) created and published by Jagex. Initially released in January 2001, RuneScape is set in a fantasy world called Gielinor, which is divided into different kingdoms, regions, and cities. Players create and customize their characters, explore the world, complete quests, engage in combat, and interact with other players.\n",
      "\n",
      "The game features a variety of activities including:\n",
      "\n",
      "- **Quests**: Players can complete story-driven quests that offer rewards and experience.\n",
      "- **Skills**: RuneScape has a wide range of skills that players can train, such as combat skills, gathering skills (like fishing and mining), and production skills (like crafting and cooking).\n",
      "- **Combat**: Players can fight monsters and other players using various weapons and combat styles.\n",
      "- **Economy**: There is a player-driven economy where items can be traded between players.\n",
      "- **Customization**: Players can customize their characters with different outfits, items, and abilities.\n",
      "\n",
      "RuneScape has evolved over the years, with significant updates and expansions, including Old School RuneScape, which is a separate version of the game that retains the gameplay mechanics of an earlier version from 2007. The game has garnered a large and dedicated player base and is known for its rich lore and expansive world.\n"
     ]
    },
    {
     "name": "stdin",
     "output_type": "stream",
     "text": [
      "User:  how popular is it?\n"
     ]
    },
    {
     "name": "stdout",
     "output_type": "stream",
     "text": [
      "Assistant: \n",
      "https://www.reddit.com/r/runescape/comments/15ez3wl/most_popular_runescape_boss/\n",
      "https://steamcommunity.com/app/1343400/discussions/0/3819658968014690240/\n",
      "https://www.reddit.com/r/runescape/comments/17jy2m6/how_popular_was_runescape_when_it_was_at_its_peak/\n",
      "https://activeplayer.io/runescape/\n",
      "https://www.playerauctions.com/player-count/osrs/\n",
      "https://mmo-population.com/\n",
      "https://www.facebook.com/groups/rs3community/posts/2001521327269687/\n",
      "https://badluckbunny.medium.com/runescape-digital-garden-of-eden-f15157a7335\n",
      "https://mmo-population.com/game/old-school-runescape\n",
      "https://www.mmorpg.com/reviews/runescape-the-re-review-2023-edition-2000127460\n",
      "Assistant: null\n",
      "Assistant: As of my last knowledge update, RuneScape had millions of registered players, with an active player base that fluctuates. The game's popularity can be attributed to its long history, continuous updates, and the loyal community it has built over the years.\n",
      "\n",
      "Recent statistics suggest that RuneScape regularly reaches peak player counts in the tens of thousands during busy hours, especially on weekends. The release of major updates or events often leads to spikes in player activity.\n",
      "\n",
      "While I couldn't find the most up-to-date statistics for 2023, RuneScape remains one of the most enduring and well-loved MMORPGs in the gaming industry. For real-time figures or the latest updates, it's best to check official sources or dedicated gaming analytics sites.\n"
     ]
    },
    {
     "name": "stdin",
     "output_type": "stream",
     "text": [
      "User:  what is today's date?\n"
     ]
    },
    {
     "name": "stdout",
     "output_type": "stream",
     "text": [
      "Assistant: Today's date is October 4, 2023.\n"
     ]
    },
    {
     "name": "stdin",
     "output_type": "stream",
     "text": [
      "User:  q\n"
     ]
    },
    {
     "name": "stdout",
     "output_type": "stream",
     "text": [
      "Goodbye!\n"
     ]
    }
   ],
   "source": [
    "def stream_graph_updates(user_input: str):\n",
    "    for event in graph.stream({\"messages\": [{\"role\": \"user\", \"content\": user_input}]}, config={\"thread_id\": 1}):\n",
    "        for value in event.values():\n",
    "            print(\"Assistant:\", value[\"messages\"][-1].content)\n",
    "\n",
    "\n",
    "while True:\n",
    "    try:\n",
    "        user_input = input(\"User: \")\n",
    "        if user_input.lower() in [\"quit\", \"exit\", \"q\"]:\n",
    "            print(\"Goodbye!\")\n",
    "            break\n",
    "        stream_graph_updates(user_input)\n",
    "    except:\n",
    "        # fallback if input() is not available\n",
    "        user_input = \"What do you know about LangGraph?\"\n",
    "        print(\"User: \" + user_input)\n",
    "        stream_graph_updates(user_input)\n",
    "        break"
   ]
  },
  {
   "cell_type": "code",
   "execution_count": null,
   "id": "80d73161-0fbf-4fc8-a5f9-2ac4620fc9aa",
   "metadata": {},
   "outputs": [],
   "source": []
  }
 ],
 "metadata": {
  "kernelspec": {
   "display_name": "Python 3 (ipykernel)",
   "language": "python",
   "name": "python3"
  },
  "language_info": {
   "codemirror_mode": {
    "name": "ipython",
    "version": 3
   },
   "file_extension": ".py",
   "mimetype": "text/x-python",
   "name": "python",
   "nbconvert_exporter": "python",
   "pygments_lexer": "ipython3",
   "version": "3.13.5"
  }
 },
 "nbformat": 4,
 "nbformat_minor": 5
}
